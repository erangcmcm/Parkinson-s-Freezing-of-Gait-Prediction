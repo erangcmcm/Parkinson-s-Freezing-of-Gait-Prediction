{
 "cells": [
  {
   "cell_type": "code",
   "execution_count": 1,
   "id": "ccedafd9",
   "metadata": {
    "execution": {
     "iopub.execute_input": "2023-06-08T23:20:19.524114Z",
     "iopub.status.busy": "2023-06-08T23:20:19.523658Z",
     "iopub.status.idle": "2023-06-08T23:20:19.528781Z",
     "shell.execute_reply": "2023-06-08T23:20:19.527948Z"
    },
    "papermill": {
     "duration": 0.024706,
     "end_time": "2023-06-08T23:20:19.532791",
     "exception": false,
     "start_time": "2023-06-08T23:20:19.508085",
     "status": "completed"
    },
    "tags": []
   },
   "outputs": [],
   "source": [
    "# packages = ('pytorch_lightning timm==0.6.12 ipywidgets==7.7.1 opencv-python zstandard awscli ' \n",
    "#                     +  'transformers librosa torchlibrosa torchaudio torchvision ' \n",
    "#                     + 'lion-pytorch segmentation-models-pytorch==0.3.2 ' \n",
    "#                     'fcwt') # fsspec[s3] albumentations==1.3.0 \n",
    "# !pip install -q -U $packages"
   ]
  },
  {
   "cell_type": "code",
   "execution_count": 2,
   "id": "b6c67bee",
   "metadata": {
    "execution": {
     "iopub.execute_input": "2023-06-08T23:20:19.560542Z",
     "iopub.status.busy": "2023-06-08T23:20:19.559774Z",
     "iopub.status.idle": "2023-06-08T23:20:19.570542Z",
     "shell.execute_reply": "2023-06-08T23:20:19.569686Z"
    },
    "papermill": {
     "duration": 0.02685,
     "end_time": "2023-06-08T23:20:19.572766",
     "exception": false,
     "start_time": "2023-06-08T23:20:19.545916",
     "status": "completed"
    },
    "tags": []
   },
   "outputs": [],
   "source": [
    "# FAST = False\n",
    "SAMPLE = 4"
   ]
  },
  {
   "cell_type": "code",
   "execution_count": 3,
   "id": "67520607",
   "metadata": {
    "execution": {
     "iopub.execute_input": "2023-06-08T23:20:19.601880Z",
     "iopub.status.busy": "2023-06-08T23:20:19.600980Z",
     "iopub.status.idle": "2023-06-08T23:20:19.606505Z",
     "shell.execute_reply": "2023-06-08T23:20:19.605681Z"
    },
    "papermill": {
     "duration": 0.022329,
     "end_time": "2023-06-08T23:20:19.608440",
     "exception": false,
     "start_time": "2023-06-08T23:20:19.586111",
     "status": "completed"
    },
    "tags": []
   },
   "outputs": [],
   "source": [
    "# DATA_PATH = '/data/'\n",
    "DATASET = 'walkdata4'\n",
    "TAG = 'tlvmc-parkinsons-freezing-gait-prediction'\n",
    "INPUT_PATH = '/kaggle/input/' + TAG\n",
    "DATA_PATH = '/tmp/'\n",
    "CODE_PATH = '/kaggle/input/' + DATASET\n",
    "PREFIX = 'walk/'\n",
    "OFFLINE = True"
   ]
  },
  {
   "cell_type": "code",
   "execution_count": 4,
   "id": "fb757534",
   "metadata": {
    "execution": {
     "iopub.execute_input": "2023-06-08T23:20:19.636961Z",
     "iopub.status.busy": "2023-06-08T23:20:19.636157Z",
     "iopub.status.idle": "2023-06-08T23:20:20.610384Z",
     "shell.execute_reply": "2023-06-08T23:20:20.609196Z"
    },
    "papermill": {
     "duration": 0.991265,
     "end_time": "2023-06-08T23:20:20.613093",
     "exception": false,
     "start_time": "2023-06-08T23:20:19.621828",
     "status": "completed"
    },
    "tags": []
   },
   "outputs": [
    {
     "name": "stdout",
     "output_type": "stream",
     "text": [
      "dataset.py  model.py  models  params  run.py  smp  whl\r\n"
     ]
    }
   ],
   "source": [
    "!ls $CODE_PATH"
   ]
  },
  {
   "cell_type": "code",
   "execution_count": null,
   "id": "ccdcc3c5",
   "metadata": {
    "papermill": {
     "duration": 0.013175,
     "end_time": "2023-06-08T23:20:20.641275",
     "exception": false,
     "start_time": "2023-06-08T23:20:20.628100",
     "status": "completed"
    },
    "tags": []
   },
   "outputs": [],
   "source": []
  },
  {
   "cell_type": "code",
   "execution_count": 5,
   "id": "9ebb5d84",
   "metadata": {
    "execution": {
     "iopub.execute_input": "2023-06-08T23:20:20.671757Z",
     "iopub.status.busy": "2023-06-08T23:20:20.670708Z",
     "iopub.status.idle": "2023-06-08T23:20:54.094136Z",
     "shell.execute_reply": "2023-06-08T23:20:54.092952Z"
    },
    "papermill": {
     "duration": 33.441223,
     "end_time": "2023-06-08T23:20:54.096797",
     "exception": false,
     "start_time": "2023-06-08T23:20:20.655574",
     "status": "completed"
    },
    "tags": []
   },
   "outputs": [
    {
     "name": "stdout",
     "output_type": "stream",
     "text": [
      "Processing /kaggle/input/walkdata4/whl/timm-0.6.12-py3-none-any.whl\r\n",
      "Requirement already satisfied: torch>=1.7 in /opt/conda/lib/python3.10/site-packages (from timm==0.6.12) (2.0.0)\r\n",
      "Requirement already satisfied: torchvision in /opt/conda/lib/python3.10/site-packages (from timm==0.6.12) (0.15.1)\r\n",
      "Requirement already satisfied: pyyaml in /opt/conda/lib/python3.10/site-packages (from timm==0.6.12) (5.4.1)\r\n",
      "Requirement already satisfied: huggingface-hub in /opt/conda/lib/python3.10/site-packages (from timm==0.6.12) (0.14.1)\r\n",
      "Requirement already satisfied: filelock in /opt/conda/lib/python3.10/site-packages (from torch>=1.7->timm==0.6.12) (3.12.0)\r\n",
      "Requirement already satisfied: typing-extensions in /opt/conda/lib/python3.10/site-packages (from torch>=1.7->timm==0.6.12) (4.5.0)\r\n",
      "Requirement already satisfied: sympy in /opt/conda/lib/python3.10/site-packages (from torch>=1.7->timm==0.6.12) (1.12)\r\n",
      "Requirement already satisfied: networkx in /opt/conda/lib/python3.10/site-packages (from torch>=1.7->timm==0.6.12) (3.1)\r\n",
      "Requirement already satisfied: jinja2 in /opt/conda/lib/python3.10/site-packages (from torch>=1.7->timm==0.6.12) (3.1.2)\r\n",
      "Requirement already satisfied: fsspec in /opt/conda/lib/python3.10/site-packages (from huggingface-hub->timm==0.6.12) (2023.5.0)\r\n",
      "Requirement already satisfied: requests in /opt/conda/lib/python3.10/site-packages (from huggingface-hub->timm==0.6.12) (2.28.2)\r\n",
      "Requirement already satisfied: tqdm>=4.42.1 in /opt/conda/lib/python3.10/site-packages (from huggingface-hub->timm==0.6.12) (4.64.1)\r\n",
      "Requirement already satisfied: packaging>=20.9 in /opt/conda/lib/python3.10/site-packages (from huggingface-hub->timm==0.6.12) (21.3)\r\n",
      "Requirement already satisfied: numpy in /opt/conda/lib/python3.10/site-packages (from torchvision->timm==0.6.12) (1.23.5)\r\n",
      "Requirement already satisfied: pillow!=8.3.*,>=5.3.0 in /opt/conda/lib/python3.10/site-packages (from torchvision->timm==0.6.12) (9.5.0)\r\n",
      "Requirement already satisfied: pyparsing!=3.0.5,>=2.0.2 in /opt/conda/lib/python3.10/site-packages (from packaging>=20.9->huggingface-hub->timm==0.6.12) (3.0.9)\r\n",
      "Requirement already satisfied: MarkupSafe>=2.0 in /opt/conda/lib/python3.10/site-packages (from jinja2->torch>=1.7->timm==0.6.12) (2.1.2)\r\n",
      "Requirement already satisfied: charset-normalizer<4,>=2 in /opt/conda/lib/python3.10/site-packages (from requests->huggingface-hub->timm==0.6.12) (2.1.1)\r\n",
      "Requirement already satisfied: idna<4,>=2.5 in /opt/conda/lib/python3.10/site-packages (from requests->huggingface-hub->timm==0.6.12) (3.4)\r\n",
      "Requirement already satisfied: urllib3<1.27,>=1.21.1 in /opt/conda/lib/python3.10/site-packages (from requests->huggingface-hub->timm==0.6.12) (1.26.15)\r\n",
      "Requirement already satisfied: certifi>=2017.4.17 in /opt/conda/lib/python3.10/site-packages (from requests->huggingface-hub->timm==0.6.12) (2023.5.7)\r\n",
      "Requirement already satisfied: mpmath>=0.19 in /opt/conda/lib/python3.10/site-packages (from sympy->torch>=1.7->timm==0.6.12) (1.3.0)\r\n",
      "Installing collected packages: timm\r\n",
      "  Attempting uninstall: timm\r\n",
      "    Found existing installation: timm 0.9.2\r\n",
      "    Uninstalling timm-0.9.2:\r\n",
      "      Successfully uninstalled timm-0.9.2\r\n",
      "Successfully installed timm-0.6.12\r\n",
      "\u001b[33mWARNING: Running pip as the 'root' user can result in broken permissions and conflicting behaviour with the system package manager. It is recommended to use a virtual environment instead: https://pip.pypa.io/warnings/venv\u001b[0m\u001b[33m\r\n",
      "\u001b[0m"
     ]
    }
   ],
   "source": [
    "WHEEL_PATH = CODE_PATH + '/whl'\n",
    "import os\n",
    "for p in os.listdir(WHEEL_PATH):\n",
    "    if 'segment' in p: continue; \n",
    "    !pip install {WHEEL_PATH}/{p}"
   ]
  },
  {
   "cell_type": "code",
   "execution_count": 6,
   "id": "cd1e92f6",
   "metadata": {
    "execution": {
     "iopub.execute_input": "2023-06-08T23:20:54.128272Z",
     "iopub.status.busy": "2023-06-08T23:20:54.127421Z",
     "iopub.status.idle": "2023-06-08T23:20:54.132573Z",
     "shell.execute_reply": "2023-06-08T23:20:54.131747Z"
    },
    "papermill": {
     "duration": 0.022668,
     "end_time": "2023-06-08T23:20:54.134528",
     "exception": false,
     "start_time": "2023-06-08T23:20:54.111860",
     "status": "completed"
    },
    "tags": []
   },
   "outputs": [],
   "source": [
    "import sys\n",
    "sys.path.append(CODE_PATH + '/smp')\n",
    "# import segmentation_models_pytorch as smp\n",
    "# smp.Unet(encoder_weights = None);"
   ]
  },
  {
   "cell_type": "code",
   "execution_count": null,
   "id": "63372fa3",
   "metadata": {
    "papermill": {
     "duration": 0.013814,
     "end_time": "2023-06-08T23:20:54.162350",
     "exception": false,
     "start_time": "2023-06-08T23:20:54.148536",
     "status": "completed"
    },
    "tags": []
   },
   "outputs": [],
   "source": []
  },
  {
   "cell_type": "code",
   "execution_count": 7,
   "id": "1edd14a5",
   "metadata": {
    "execution": {
     "iopub.execute_input": "2023-06-08T23:20:54.192164Z",
     "iopub.status.busy": "2023-06-08T23:20:54.191335Z",
     "iopub.status.idle": "2023-06-08T23:20:56.793636Z",
     "shell.execute_reply": "2023-06-08T23:20:56.792664Z"
    },
    "papermill": {
     "duration": 2.619892,
     "end_time": "2023-06-08T23:20:56.796273",
     "exception": false,
     "start_time": "2023-06-08T23:20:54.176381",
     "status": "completed"
    },
    "tags": []
   },
   "outputs": [],
   "source": [
    "import zipfile\n",
    "import boto3\n",
    "s3 = boto3.client('s3')\n",
    "\n",
    "import os\n",
    "import io\n",
    "from joblib import Parallel, delayed\n",
    "\n",
    "import json\n",
    "import pickle\n",
    "import zstandard as zstd\n",
    "zd = zstd.ZstdDecompressor()\n",
    "zc = zstd.ZstdCompressor()\n",
    "\n",
    "import math\n",
    "import random\n",
    "import datetime"
   ]
  },
  {
   "cell_type": "code",
   "execution_count": 8,
   "id": "70a4eb08",
   "metadata": {
    "execution": {
     "iopub.execute_input": "2023-06-08T23:20:56.827271Z",
     "iopub.status.busy": "2023-06-08T23:20:56.825822Z",
     "iopub.status.idle": "2023-06-08T23:20:56.906084Z",
     "shell.execute_reply": "2023-06-08T23:20:56.905116Z"
    },
    "papermill": {
     "duration": 0.097466,
     "end_time": "2023-06-08T23:20:56.908238",
     "exception": false,
     "start_time": "2023-06-08T23:20:56.810772",
     "status": "completed"
    },
    "tags": []
   },
   "outputs": [
    {
     "name": "stdout",
     "output_type": "stream",
     "text": [
      "/kaggle/input/tlvmc-parkinsons-freezing-gait-prediction 7\n",
      "/kaggle/input/tlvmc-parkinsons-freezing-gait-prediction/unlabeled 65\n",
      "/kaggle/input/tlvmc-parkinsons-freezing-gait-prediction/test 0\n",
      "/kaggle/input/tlvmc-parkinsons-freezing-gait-prediction/test/defog 1\n",
      "/kaggle/input/tlvmc-parkinsons-freezing-gait-prediction/test/tdcsfog 1\n"
     ]
    },
    {
     "data": {
      "text/plain": [
       "74"
      ]
     },
     "execution_count": 8,
     "metadata": {},
     "output_type": "execute_result"
    }
   ],
   "source": [
    "# walk and list all files\n",
    "objs = []\n",
    "for root, path, files in os.walk(INPUT_PATH):\n",
    "    if 'train' in root: continue\n",
    "    objs.extend([os.path.join(root, f).replace(INPUT_PATH + '/', '') for f in files])\n",
    "    print(root, len(files))\n",
    "len(objs)"
   ]
  },
  {
   "cell_type": "code",
   "execution_count": null,
   "id": "a0685c17",
   "metadata": {
    "papermill": {
     "duration": 0.014393,
     "end_time": "2023-06-08T23:20:56.937129",
     "exception": false,
     "start_time": "2023-06-08T23:20:56.922736",
     "status": "completed"
    },
    "tags": []
   },
   "outputs": [],
   "source": []
  },
  {
   "cell_type": "code",
   "execution_count": 9,
   "id": "8a5d1e68",
   "metadata": {
    "execution": {
     "iopub.execute_input": "2023-06-08T23:20:56.968392Z",
     "iopub.status.busy": "2023-06-08T23:20:56.967593Z",
     "iopub.status.idle": "2023-06-08T23:20:56.973843Z",
     "shell.execute_reply": "2023-06-08T23:20:56.972856Z"
    },
    "papermill": {
     "duration": 0.024022,
     "end_time": "2023-06-08T23:20:56.975924",
     "exception": false,
     "start_time": "2023-06-08T23:20:56.951902",
     "status": "completed"
    },
    "tags": []
   },
   "outputs": [],
   "source": [
    "def getFile(file, save = True):\n",
    "#     s3 = boto3.client('s3')\n",
    "#     zd = zstd.ZstdDecompressor()\n",
    "#     file_path = DATA_PATH + 'data/' + file + '.zstd'\n",
    "#     if not os.path.exists(file_path) or os.path.getsize(file_path) == 0:\n",
    "#         if save: os.makedirs(os.path.dirname(file_path), exist_ok=True)\n",
    "#         fin = s3.get_object(Bucket = DATA_BUCKET, Key = PREFIX + 'data/' + file + '.zstd')['Body']#.read()        \n",
    "#         if save:\n",
    "#             with open(file_path, 'wb') as f: f.write(fin.read())\n",
    "    file_path = os.path.join(INPUT_PATH, file)# + '.zstd'\n",
    "    out = io.BytesIO()\n",
    "    if os.path.exists(file_path) and os.path.getsize(file_path) > 0:\n",
    "        with open(file_path, 'rb') as fin:\n",
    "#             zd.copy_stream(fin, out)\n",
    "#     else:        \n",
    "            out.write(fin.read())\n",
    "    out.seek(0)\n",
    "    # print(out.getbuffer().nbytes)\n",
    "    return out"
   ]
  },
  {
   "cell_type": "code",
   "execution_count": null,
   "id": "5fb447b0",
   "metadata": {
    "papermill": {
     "duration": 0.014418,
     "end_time": "2023-06-08T23:20:57.004397",
     "exception": false,
     "start_time": "2023-06-08T23:20:56.989979",
     "status": "completed"
    },
    "tags": []
   },
   "outputs": [],
   "source": []
  },
  {
   "cell_type": "code",
   "execution_count": 10,
   "id": "669bba1b",
   "metadata": {
    "execution": {
     "iopub.execute_input": "2023-06-08T23:20:57.035279Z",
     "iopub.status.busy": "2023-06-08T23:20:57.034695Z",
     "iopub.status.idle": "2023-06-08T23:20:57.040340Z",
     "shell.execute_reply": "2023-06-08T23:20:57.039517Z"
    },
    "papermill": {
     "duration": 0.023059,
     "end_time": "2023-06-08T23:20:57.042400",
     "exception": false,
     "start_time": "2023-06-08T23:20:57.019341",
     "status": "completed"
    },
    "tags": []
   },
   "outputs": [],
   "source": [
    "import pandas as pd\n",
    "import numpy as np\n",
    "import matplotlib.pyplot as plt\n",
    "plt.rcParams['figure.figsize'] = (7, 4)\n",
    "\n",
    "from IPython.display import display\n",
    "np.random.seed(datetime.datetime.now().microsecond)"
   ]
  },
  {
   "cell_type": "code",
   "execution_count": 11,
   "id": "119e1192",
   "metadata": {
    "execution": {
     "iopub.execute_input": "2023-06-08T23:20:57.074820Z",
     "iopub.status.busy": "2023-06-08T23:20:57.073145Z",
     "iopub.status.idle": "2023-06-08T23:20:57.416216Z",
     "shell.execute_reply": "2023-06-08T23:20:57.415207Z"
    },
    "papermill": {
     "duration": 0.361769,
     "end_time": "2023-06-08T23:20:57.418717",
     "exception": false,
     "start_time": "2023-06-08T23:20:57.056948",
     "status": "completed"
    },
    "tags": []
   },
   "outputs": [
    {
     "data": {
      "text/plain": [
       "['daily_metadata.csv',\n",
       " 'defog_metadata.csv',\n",
       " 'events.csv',\n",
       " 'sample_submission.csv',\n",
       " 'subjects.csv',\n",
       " 'tasks.csv',\n",
       " 'tdcsfog_metadata.csv',\n",
       " 'test/defog/02ab235146.csv',\n",
       " 'test/tdcsfog/003f117e14.csv',\n",
       " 'unlabeled/00c4c9313d.parquet']"
      ]
     },
     "metadata": {},
     "output_type": "display_data"
    }
   ],
   "source": [
    "files = sorted(objs)#o)[0] for o in objs])\n",
    "display(files[:10])\n",
    "\n",
    "events = pd.read_csv(getFile('events.csv'))\n",
    "subjects = pd.read_csv(getFile('subjects.csv'))\n",
    "tasks = pd.read_csv(getFile('tasks.csv'))\n",
    "daily_metadata = pd.read_csv(getFile('daily_metadata.csv'))\n",
    "defog_metadata = pd.read_csv(getFile('defog_metadata.csv'))\n",
    "tdcsfog_metadata = pd.read_csv(getFile('tdcsfog_metadata.csv'))\n",
    "sample = pd.read_csv(getFile('sample_submission.csv'), index_col = 0, \n",
    "                    ).astype(np.float32)"
   ]
  },
  {
   "cell_type": "code",
   "execution_count": null,
   "id": "b710392d",
   "metadata": {
    "papermill": {
     "duration": 0.014278,
     "end_time": "2023-06-08T23:20:57.447548",
     "exception": false,
     "start_time": "2023-06-08T23:20:57.433270",
     "status": "completed"
    },
    "tags": []
   },
   "outputs": [],
   "source": []
  },
  {
   "cell_type": "code",
   "execution_count": 12,
   "id": "fb81af33",
   "metadata": {
    "execution": {
     "iopub.execute_input": "2023-06-08T23:20:57.478682Z",
     "iopub.status.busy": "2023-06-08T23:20:57.478375Z",
     "iopub.status.idle": "2023-06-08T23:20:57.496751Z",
     "shell.execute_reply": "2023-06-08T23:20:57.495854Z"
    },
    "papermill": {
     "duration": 0.036968,
     "end_time": "2023-06-08T23:20:57.498906",
     "exception": false,
     "start_time": "2023-06-08T23:20:57.461938",
     "status": "completed"
    },
    "tags": []
   },
   "outputs": [],
   "source": [
    "def prep_metadata(defog_metadata, tdcsfog_metadata, daily_metadata, subjects, full = True,\n",
    "                    expanded = True):\n",
    "    m1 = defog_metadata.copy()\n",
    "    m1.insert(3, 'Test', 0)\n",
    "    m1 = m1.merge(subjects, on = ['Subject', 'Visit', ], how = 'inner')\n",
    "    assert len(m1) == len(defog_metadata)\n",
    "\n",
    "    m2 = tdcsfog_metadata.copy()\n",
    "    m2 = m2.merge(subjects.drop(columns = 'Visit'), on = ['Subject', ], how = 'inner')\n",
    "    assert len(m2) == len(tdcsfog_metadata)\n",
    "\n",
    "    m3 = daily_metadata.copy()\n",
    "    m3 = m3.merge(subjects, on = ['Subject', 'Visit' ], how = 'inner')\n",
    "    m3.insert(3, 'Test', 0)\n",
    "    m3.insert(4, 'Medication', (defog_metadata.Medication == 'on').mean())\n",
    "    m3.drop(columns = [c for c in m3.columns if 'recording' in c], inplace = True)\n",
    "    assert len(m3) == len(daily_metadata)\n",
    "\n",
    "    metadata = pd.concat([m1, m2, #m3\n",
    "                            ], axis = 0)\n",
    "    metadata.Medication = 1 * (metadata.Medication == 'on')\n",
    "    metadata.Sex = 1 * (metadata.Sex == 'M')\n",
    "    \n",
    "    if expanded:\n",
    "        metadata['num_tests'] = metadata.groupby('Subject').transform(lambda x: x.nunique()).Test\n",
    "        metadata['max_visit'] = metadata.groupby('Subject').transform(lambda x: x.max()).Visit\n",
    "        metadata['visit_medications'] = metadata.groupby(['Subject', 'Visit']).transform('nunique').Medication \n",
    "        metadata['UPDRS_On_vs_Off'] = metadata.UPDRSIII_On - metadata.UPDRSIII_Off\n",
    "        # add 4 columns to dmetadata\n",
    "    \n",
    "\n",
    "    if full:\n",
    "        # null fix\n",
    "        metadata['Uon_null'] = 1 * (metadata.UPDRSIII_On.isnull())\n",
    "        metadata['Uoff_null'] = 1 * (metadata.UPDRSIII_Off.isnull())\n",
    "        metadata.UPDRSIII_On = metadata.UPDRSIII_On.fillna(metadata.UPDRSIII_On.mean())\n",
    "        metadata.UPDRSIII_Off = metadata.UPDRSIII_Off.fillna(metadata.UPDRSIII_Off.mean())\n",
    "        if expanded:\n",
    "            metadata.UPDRS_On_vs_Off = metadata.UPDRS_On_vs_Off.fillna(metadata.UPDRS_On_vs_Off.mean())   \n",
    "\n",
    "    metadata.set_index('Id', inplace = True)\n",
    "    \n",
    "    if full:\n",
    "        metadata['Test_Nonzero'] = 1. * (metadata.Test > 0)\n",
    "        # for i in range(1):\n",
    "        #     metadata['Test{}'.format(i)] = metadata.Test == i\n",
    "        metadata.iloc[:, 1:] = metadata.iloc[:, 1:].astype(np.float32)\n",
    "        metadata.iloc[:, 1:] = (metadata.iloc[:, 1:] - metadata.iloc[:, 1:].mean(0)) / metadata.iloc[:, 1:].std(0)  \n",
    "        metadata.iloc[:, 1:] = metadata.iloc[:, 1:].clip(-3, 3)\n",
    "\n",
    "    msubject = metadata.Subject\n",
    "    metadata.drop(columns = 'Subject', inplace = True)\n",
    "    if full:\n",
    "        metadata = metadata.astype(np.float32)\n",
    "    \n",
    "    m3 = m3.set_index('Id')\n",
    "    assert m3.shape[1] <= metadata.shape[1]; i = 0\n",
    "    while m3.shape[1] < metadata.shape[1]:\n",
    "        m3.insert(m3.shape[1], 'dummy_{}'.format(i), 0); i += 1\n",
    "    m3.iloc[:, -1] = metadata.iloc[:, -1].min() # yes, hack, for default_metadata in dataset.py \n",
    "\n",
    "    return metadata, msubject, m3"
   ]
  },
  {
   "cell_type": "code",
   "execution_count": null,
   "id": "7110c488",
   "metadata": {
    "papermill": {
     "duration": 0.014235,
     "end_time": "2023-06-08T23:20:57.527966",
     "exception": false,
     "start_time": "2023-06-08T23:20:57.513731",
     "status": "completed"
    },
    "tags": []
   },
   "outputs": [],
   "source": []
  },
  {
   "cell_type": "code",
   "execution_count": 13,
   "id": "671868a2",
   "metadata": {
    "execution": {
     "iopub.execute_input": "2023-06-08T23:20:57.558198Z",
     "iopub.status.busy": "2023-06-08T23:20:57.557359Z",
     "iopub.status.idle": "2023-06-08T23:20:57.563955Z",
     "shell.execute_reply": "2023-06-08T23:20:57.562735Z"
    },
    "papermill": {
     "duration": 0.024004,
     "end_time": "2023-06-08T23:20:57.566071",
     "exception": false,
     "start_time": "2023-06-08T23:20:57.542067",
     "status": "completed"
    },
    "tags": []
   },
   "outputs": [
    {
     "name": "stdout",
     "output_type": "stream",
     "text": [
      "2\n",
      "65\n"
     ]
    }
   ],
   "source": [
    "fog_files = sorted([f for f in files if 'test/' in f and 'fog' in f])\n",
    "# if FAST and len(fog_files) == 2:\n",
    "#     fog_files = [f for f in fog_files if 'tdcs' in f]\n",
    "print(len(fog_files))\n",
    "\n",
    "unlabeled_files = [f for f in files if 'unlabeled/' in f]# and not any([z in f for z in common_files])]\n",
    "print(len(unlabeled_files))"
   ]
  },
  {
   "cell_type": "code",
   "execution_count": null,
   "id": "72924dfb",
   "metadata": {
    "papermill": {
     "duration": 0.014492,
     "end_time": "2023-06-08T23:20:57.594804",
     "exception": false,
     "start_time": "2023-06-08T23:20:57.580312",
     "status": "completed"
    },
    "tags": []
   },
   "outputs": [],
   "source": []
  },
  {
   "cell_type": "code",
   "execution_count": 14,
   "id": "09ebd5fa",
   "metadata": {
    "execution": {
     "iopub.execute_input": "2023-06-08T23:20:57.626235Z",
     "iopub.status.busy": "2023-06-08T23:20:57.625301Z",
     "iopub.status.idle": "2023-06-08T23:20:57.635619Z",
     "shell.execute_reply": "2023-06-08T23:20:57.634709Z"
    },
    "papermill": {
     "duration": 0.027703,
     "end_time": "2023-06-08T23:20:57.637688",
     "exception": false,
     "start_time": "2023-06-08T23:20:57.609985",
     "status": "completed"
    },
    "tags": []
   },
   "outputs": [],
   "source": [
    "# load and process data\n",
    "def load(f):\n",
    "    return np.load(DATA_PATH + 'cache/' + f + '.npy')\n",
    "\n",
    "def process(f):\n",
    "    # if exists, return stats\n",
    "    cache_file = DATA_PATH + 'cache/' + f + '.npy'\n",
    "    if os.path.exists(cache_file) and os.path.getsize(cache_file) > 0: \n",
    "        return load(f).shape, os.path.getsize(cache_file)\n",
    "    \n",
    "    # if not, load array,\n",
    "    df = pd.read_csv(getFile(f, ), )\n",
    "#     print(df)\n",
    "    assert (df.index == df.Time).all()\n",
    "    # verify\n",
    "    assert (df.Time == df.index).all()\n",
    "    assert all(df.columns == ['Time',\n",
    "                           'AccV', 'AccML', 'AccAP',\n",
    "                           'StartHesitation', 'Turn', 'Walking',\n",
    "                            'Valid', 'Task'][:len(df.columns)])\n",
    "    if 'train/' not in f: assert len(df.columns) in [4]\n",
    "    \n",
    "    v = np.zeros((len(df), 12), dtype = np.float32)\n",
    "    v[:, 6:8] = 1\n",
    "    v[:, :df.shape[1] - 1] = df.iloc[:, 1:]\n",
    "\n",
    "#     fid = f.split('/')[-1].split('.')[0]\n",
    "#     mult = 100 if 'tdcs' not in f else 128\n",
    "#     for e in events[events.Id == fid].itertuples():\n",
    "#         v[int(round(e.Init * mult)): int(round(e.Completion * mult)), 8] = 1\n",
    "#         v[int(round(e.Init * mult)): int(round(e.Completion * mult)), 9] = e.Kinetic\n",
    "#         v[int(round(e.Init * mult)): int(round(e.Completion * mult)), 10] = 1 - e.Kinetic\n",
    "#     for e in tasks[tasks.Id == fid].itertuples():\n",
    "#         v[int(round(e.Begin * mult)): int(round(e.End * mult)), 11] = task_dict[e.Task]\n",
    "\n",
    "    # store as compresssed;\n",
    "    assert v.dtype == np.float32\n",
    "    # zc = zstd.ZstdCompressor()\n",
    "    # compr = zc.compress(pickle.dumps(v))\n",
    "    os.makedirs(os.path.dirname(cache_file), exist_ok = True)\n",
    "    np.save(cache_file, v)\n",
    "    # with open(cache_file, 'wb') as f:\n",
    "    #     f.write(compr)\n",
    "\n",
    "    return v.shape, os.path.getsize(cache_file)#len(compr)\n"
   ]
  },
  {
   "cell_type": "code",
   "execution_count": null,
   "id": "1af0f9fc",
   "metadata": {
    "papermill": {
     "duration": 0.014527,
     "end_time": "2023-06-08T23:20:57.666435",
     "exception": false,
     "start_time": "2023-06-08T23:20:57.651908",
     "status": "completed"
    },
    "tags": []
   },
   "outputs": [],
   "source": []
  },
  {
   "cell_type": "code",
   "execution_count": 15,
   "id": "b0a1f9fc",
   "metadata": {
    "execution": {
     "iopub.execute_input": "2023-06-08T23:20:57.697931Z",
     "iopub.status.busy": "2023-06-08T23:20:57.697112Z",
     "iopub.status.idle": "2023-06-08T23:20:57.701350Z",
     "shell.execute_reply": "2023-06-08T23:20:57.700445Z"
    },
    "papermill": {
     "duration": 0.0223,
     "end_time": "2023-06-08T23:20:57.703385",
     "exception": false,
     "start_time": "2023-06-08T23:20:57.681085",
     "status": "completed"
    },
    "tags": []
   },
   "outputs": [],
   "source": [
    "# fog_files = sorted(fog_files)[-1:]\n",
    "# fog_files # ***"
   ]
  },
  {
   "cell_type": "code",
   "execution_count": 16,
   "id": "0ca777c9",
   "metadata": {
    "execution": {
     "iopub.execute_input": "2023-06-08T23:20:57.734551Z",
     "iopub.status.busy": "2023-06-08T23:20:57.733800Z",
     "iopub.status.idle": "2023-06-08T23:20:59.404875Z",
     "shell.execute_reply": "2023-06-08T23:20:59.403685Z"
    },
    "papermill": {
     "duration": 1.689894,
     "end_time": "2023-06-08T23:20:59.407763",
     "exception": false,
     "start_time": "2023-06-08T23:20:57.717869",
     "status": "completed"
    },
    "tags": []
   },
   "outputs": [
    {
     "data": {
      "text/plain": [
       "[0.281688, 0.004682]"
      ]
     },
     "execution_count": 16,
     "metadata": {},
     "output_type": "execute_result"
    }
   ],
   "source": [
    "\n",
    "# process all files\n",
    "r = Parallel(os.cpu_count())(delayed(process)(f) for f in fog_files[:])\n",
    "\n",
    "# display counts;\n",
    "fogcount = dict(zip(fog_files, [e[0][0] for e in r]))\n",
    "[sum([v for k, v in fogcount.items() if s in k]) / 1e6\n",
    "        for s in ['/defog/', '/tdcsfog/', ]]"
   ]
  },
  {
   "cell_type": "code",
   "execution_count": 17,
   "id": "4350f79d",
   "metadata": {
    "execution": {
     "iopub.execute_input": "2023-06-08T23:20:59.444972Z",
     "iopub.status.busy": "2023-06-08T23:20:59.444584Z",
     "iopub.status.idle": "2023-06-08T23:21:00.423996Z",
     "shell.execute_reply": "2023-06-08T23:21:00.422787Z"
    },
    "papermill": {
     "duration": 0.999351,
     "end_time": "2023-06-08T23:21:00.426796",
     "exception": false,
     "start_time": "2023-06-08T23:20:59.427445",
     "status": "completed"
    },
    "tags": []
   },
   "outputs": [
    {
     "name": "stdout",
     "output_type": "stream",
     "text": [
      "14M\t/tmp/cache/test\r\n"
     ]
    }
   ],
   "source": [
    "!du -sh {DATA_PATH}cache/test*"
   ]
  },
  {
   "cell_type": "code",
   "execution_count": null,
   "id": "5c11358c",
   "metadata": {
    "papermill": {
     "duration": 0.01502,
     "end_time": "2023-06-08T23:21:00.457188",
     "exception": false,
     "start_time": "2023-06-08T23:21:00.442168",
     "status": "completed"
    },
    "tags": []
   },
   "outputs": [],
   "source": []
  },
  {
   "cell_type": "code",
   "execution_count": 18,
   "id": "517afd52",
   "metadata": {
    "execution": {
     "iopub.execute_input": "2023-06-08T23:21:00.489866Z",
     "iopub.status.busy": "2023-06-08T23:21:00.489517Z",
     "iopub.status.idle": "2023-06-08T23:21:18.312800Z",
     "shell.execute_reply": "2023-06-08T23:21:18.311834Z"
    },
    "papermill": {
     "duration": 17.84264,
     "end_time": "2023-06-08T23:21:18.315309",
     "exception": false,
     "start_time": "2023-06-08T23:21:00.472669",
     "status": "completed"
    },
    "tags": []
   },
   "outputs": [
    {
     "name": "stderr",
     "output_type": "stream",
     "text": [
      "/kaggle/input/walkdata4/smp/pretrainedmodels/models/dpn.py:255: SyntaxWarning: \"is\" with a literal. Did you mean \"==\"?\n",
      "  if block_type is 'proj':\n",
      "/kaggle/input/walkdata4/smp/pretrainedmodels/models/dpn.py:258: SyntaxWarning: \"is\" with a literal. Did you mean \"==\"?\n",
      "  elif block_type is 'down':\n",
      "/kaggle/input/walkdata4/smp/pretrainedmodels/models/dpn.py:262: SyntaxWarning: \"is\" with a literal. Did you mean \"==\"?\n",
      "  assert block_type is 'normal'\n"
     ]
    }
   ],
   "source": [
    "%run -i {CODE_PATH}/dataset.py"
   ]
  },
  {
   "cell_type": "code",
   "execution_count": 19,
   "id": "7b61eacd",
   "metadata": {
    "execution": {
     "iopub.execute_input": "2023-06-08T23:21:18.349165Z",
     "iopub.status.busy": "2023-06-08T23:21:18.347256Z",
     "iopub.status.idle": "2023-06-08T23:21:28.920666Z",
     "shell.execute_reply": "2023-06-08T23:21:28.919703Z"
    },
    "papermill": {
     "duration": 10.592697,
     "end_time": "2023-06-08T23:21:28.923458",
     "exception": false,
     "start_time": "2023-06-08T23:21:18.330761",
     "status": "completed"
    },
    "tags": []
   },
   "outputs": [
    {
     "name": "stderr",
     "output_type": "stream",
     "text": [
      "/opt/conda/lib/python3.10/site-packages/tensorflow_io/python/ops/__init__.py:98: UserWarning: unable to load libtensorflow_io_plugins.so: unable to open file: libtensorflow_io_plugins.so, from paths: ['/opt/conda/lib/python3.10/site-packages/tensorflow_io/python/ops/libtensorflow_io_plugins.so']\n",
      "caused by: ['/opt/conda/lib/python3.10/site-packages/tensorflow_io/python/ops/libtensorflow_io_plugins.so: undefined symbol: _ZN3tsl6StatusC1EN10tensorflow5error4CodeESt17basic_string_viewIcSt11char_traitsIcEENS_14SourceLocationE']\n",
      "  warnings.warn(f\"unable to load libtensorflow_io_plugins.so: {e}\")\n",
      "/opt/conda/lib/python3.10/site-packages/tensorflow_io/python/ops/__init__.py:104: UserWarning: file system plugins are not loaded: unable to open file: libtensorflow_io.so, from paths: ['/opt/conda/lib/python3.10/site-packages/tensorflow_io/python/ops/libtensorflow_io.so']\n",
      "caused by: ['/opt/conda/lib/python3.10/site-packages/tensorflow_io/python/ops/libtensorflow_io.so: undefined symbol: _ZTVN10tensorflow13GcsFileSystemE']\n",
      "  warnings.warn(f\"file system plugins are not loaded: {e}\")\n"
     ]
    }
   ],
   "source": [
    "%run -i {CODE_PATH}/model.py"
   ]
  },
  {
   "cell_type": "code",
   "execution_count": null,
   "id": "a4af926c",
   "metadata": {
    "papermill": {
     "duration": 0.014679,
     "end_time": "2023-06-08T23:21:28.953618",
     "exception": false,
     "start_time": "2023-06-08T23:21:28.938939",
     "status": "completed"
    },
    "tags": []
   },
   "outputs": [],
   "source": []
  },
  {
   "cell_type": "code",
   "execution_count": 20,
   "id": "bdfe982a",
   "metadata": {
    "execution": {
     "iopub.execute_input": "2023-06-08T23:21:28.986349Z",
     "iopub.status.busy": "2023-06-08T23:21:28.985418Z",
     "iopub.status.idle": "2023-06-08T23:21:28.992144Z",
     "shell.execute_reply": "2023-06-08T23:21:28.991230Z"
    },
    "papermill": {
     "duration": 0.025665,
     "end_time": "2023-06-08T23:21:28.994166",
     "exception": false,
     "start_time": "2023-06-08T23:21:28.968501",
     "status": "completed"
    },
    "tags": []
   },
   "outputs": [],
   "source": [
    "def getData(params, m, lcount, metadata):\n",
    "    test_data = WalkDataset(\n",
    "        {k: v for k, v in lcount.items()},\n",
    "                      metadata, load, None, -1,\n",
    "                      test = True,\n",
    "                      **getParams(WalkDataset, params))\n",
    "    test_loader = DataLoader(test_data, batch_size = 32,\n",
    "                              num_workers = os.cpu_count())\n",
    "    print(len(test_data), len(test_loader))\n",
    "    return test_data, test_loader"
   ]
  },
  {
   "cell_type": "code",
   "execution_count": 21,
   "id": "fd512895",
   "metadata": {
    "execution": {
     "iopub.execute_input": "2023-06-08T23:21:29.025004Z",
     "iopub.status.busy": "2023-06-08T23:21:29.024719Z",
     "iopub.status.idle": "2023-06-08T23:21:29.029760Z",
     "shell.execute_reply": "2023-06-08T23:21:29.028924Z"
    },
    "papermill": {
     "duration": 0.022587,
     "end_time": "2023-06-08T23:21:29.031761",
     "exception": false,
     "start_time": "2023-06-08T23:21:29.009174",
     "status": "completed"
    },
    "tags": []
   },
   "outputs": [],
   "source": [
    "def getModel(params, m):\n",
    "    model = WalkNetwork(params, **getParams(WalkNetwork, params)).to(device)\n",
    "    model.load_state_dict(\n",
    "        pickle.load(open(CODE_PATH + '/models/' + m + '.pt', 'rb')), \n",
    "    )\n",
    "    model.to(device);\n",
    "    model.eval();\n",
    "    return model"
   ]
  },
  {
   "cell_type": "code",
   "execution_count": null,
   "id": "e7f2b57d",
   "metadata": {
    "papermill": {
     "duration": 0.014608,
     "end_time": "2023-06-08T23:21:29.060962",
     "exception": false,
     "start_time": "2023-06-08T23:21:29.046354",
     "status": "completed"
    },
    "tags": []
   },
   "outputs": [],
   "source": []
  },
  {
   "cell_type": "code",
   "execution_count": 22,
   "id": "99cc8f73",
   "metadata": {
    "execution": {
     "iopub.execute_input": "2023-06-08T23:21:29.092914Z",
     "iopub.status.busy": "2023-06-08T23:21:29.092195Z",
     "iopub.status.idle": "2023-06-08T23:21:29.107330Z",
     "shell.execute_reply": "2023-06-08T23:21:29.106392Z"
    },
    "papermill": {
     "duration": 0.03357,
     "end_time": "2023-06-08T23:21:29.109392",
     "exception": false,
     "start_time": "2023-06-08T23:21:29.075822",
     "status": "completed"
    },
    "tags": []
   },
   "outputs": [],
   "source": [
    "def infer(model, test_loader):\n",
    "    yps, ss, fs, idxs = [], [], [], []\n",
    "    for batch in test_loader:\n",
    "        x, y, s, frac, m_, f, i, flen = batch\n",
    "        with torch.no_grad():\n",
    "            yp = model(*[e.to(device)\n",
    "                                     for e in [x, m_, frac, flen]], \n",
    "                                 )[0]\n",
    "        yps.append(yp[..., :3].cpu())\n",
    "        ss.append(s.cpu())\n",
    "        fs.append(f)\n",
    "        idxs.append(i.cpu())\n",
    "#         print(yp.shape)\n",
    "    \n",
    "    # process\n",
    "#     n_models = yps[0].shape[-2]\n",
    "#     print(n_models)\n",
    "    \n",
    "    fs = np.concatenate(fs)\n",
    "    idxs = torch.cat(idxs)\n",
    "    slen = yps[0].shape[1]\n",
    "    s = torch.cat(ss, 0).reshape(-1, slen, 1).cpu().numpy()\n",
    "    yps = torch.cat(yps, 0)\n",
    "    yps = yps.reshape(-1, slen, 3).cpu().numpy()        \n",
    "    print(yps.shape, s.shape, len(fs), len(idxs))\n",
    "    assert all([len(e) == len(yps) for e in [fs, idxs, s, yps]])\n",
    "\n",
    "    pred_dict, ct_dict, target_dict = {}, {}, {}\n",
    "    for f in list(set(fs)):\n",
    "        l = idxs[fs == f].max() + slen // SAMPLE\n",
    "        pred_dict[f] = np.zeros((l, 3), dtype = np.float32)\n",
    "        ct_dict[f] = np.zeros((l, 3), dtype = np.float32)\n",
    "\n",
    "    for i in range(len(yps)):\n",
    "        pred_dict[fs[i]][idxs[i]:idxs[i] + slen] += yps[i] * s[i]\n",
    "        ct_dict[fs[i]][idxs[i]:idxs[i] + slen] += s[i]\n",
    "\n",
    "    # compile and nrm\n",
    "    spred_dict = {}; final_yps = []\n",
    "    for k in ct_dict:\n",
    "        print(ct_dict[k].shape)\n",
    "        f = ct_dict[k].sum(1) > 0\n",
    "        spred_dict[k] = pred_dict[k][f] / (ct_dict[k][f] + 1e-5)\n",
    "        final_yps.append(spred_dict[k])\n",
    "\n",
    "    final_yps = np.concatenate(final_yps)\n",
    "    avg = final_yps.mean(0)\n",
    "    print(avg)\n",
    "    \n",
    "    spred_dict = {k: v/avg for k, v in spred_dict.items()}\n",
    "    return spred_dict\n",
    "    "
   ]
  },
  {
   "cell_type": "code",
   "execution_count": null,
   "id": "5d8cce5c",
   "metadata": {
    "papermill": {
     "duration": 0.014906,
     "end_time": "2023-06-08T23:21:29.138824",
     "exception": false,
     "start_time": "2023-06-08T23:21:29.123918",
     "status": "completed"
    },
    "tags": []
   },
   "outputs": [],
   "source": []
  },
  {
   "cell_type": "code",
   "execution_count": 23,
   "id": "96b0d327",
   "metadata": {
    "execution": {
     "iopub.execute_input": "2023-06-08T23:21:29.171014Z",
     "iopub.status.busy": "2023-06-08T23:21:29.170732Z",
     "iopub.status.idle": "2023-06-08T23:21:29.186243Z",
     "shell.execute_reply": "2023-06-08T23:21:29.185365Z"
    },
    "papermill": {
     "duration": 0.034661,
     "end_time": "2023-06-08T23:21:29.188562",
     "exception": false,
     "start_time": "2023-06-08T23:21:29.153901",
     "status": "completed"
    },
    "tags": []
   },
   "outputs": [],
   "source": [
    "def inferParallel(model, test_loader):\n",
    "    yps, ss, fs, idxs = [], [], [], []\n",
    "    for batch in test_loader:\n",
    "        x, y, s, frac, m_, f, i, flen = batch\n",
    "        with torch.no_grad():\n",
    "            yp = model(*[e.to(device)\n",
    "                                     for e in [x, m_, frac, flen]], \n",
    "                                 )#[0]\n",
    "#         SAMPLE = 10\n",
    "        yps.append(yp[:, ::SAMPLE, :, :3].cpu())\n",
    "        ss.append(s[:, ::SAMPLE].cpu())\n",
    "        fs.append(f)\n",
    "        idxs.append((i / SAMPLE).long().cpu())\n",
    "#         print(yp.shape)\n",
    "    \n",
    "    # process\n",
    "    n_models = yps[0].shape[-2]\n",
    "    print(n_models)\n",
    "    \n",
    "    fs = np.concatenate(fs)\n",
    "    idxs = torch.cat(idxs)\n",
    "    slen = yps[0].shape[1]\n",
    "    s = torch.cat(ss, 0).reshape(-1, slen, 1, 1).cpu().numpy()\n",
    "    yp = torch.cat(yps, 0); del yps\n",
    "    yps = yp.reshape(-1, slen, n_models, 3).cpu().numpy(); del yp        \n",
    "    print(yps.shape, s.shape, len(fs), len(idxs))\n",
    "    assert all([len(e) == len(yps) for e in [fs, idxs, s, yps]])\n",
    "\n",
    "    pred_dict, ct_dict, target_dict = {}, {}, {}\n",
    "    for f in list(set(fs)):\n",
    "        l = idxs[fs == f].max() + slen\n",
    "        pred_dict[f] = np.zeros((l, n_models, 3), dtype = np.float32)\n",
    "        ct_dict[f] = np.zeros((l, n_models, 3), dtype = np.float32)\n",
    "\n",
    "    for i in range(len(yps)):\n",
    "        pred_dict[fs[i]][idxs[i]:idxs[i] + slen] += yps[i] * s[i]\n",
    "        ct_dict[fs[i]][idxs[i]:idxs[i] + slen] += s[i]\n",
    "\n",
    "    # compile and nrm\n",
    "    spred_dict = {}; final_yps = []\n",
    "    for k in ct_dict:\n",
    "        print(ct_dict[k].shape)\n",
    "        f = ct_dict[k].sum(2).sum(1) > 0\n",
    "        spred_dict[k] = pred_dict[k][f] / (ct_dict[k][f] + 1e-5)\n",
    "        final_yps.append(spred_dict[k])\n",
    "\n",
    "    final_yps = np.concatenate(final_yps) # B, M, C\n",
    "    avg = final_yps.mean(0)  # M, C\n",
    "    print(avg)\n",
    "#     avg = avg / avg.mean(0, keepdims = True) # each class should sum to 1;\n",
    "#     print(avg)\n",
    "#     print((k/avg).sum(0))\n",
    "    \n",
    "    spred_dict = {k: (v/avg).mean(-2) for k, v in spred_dict.items()}\n",
    "    return spred_dict\n",
    "    "
   ]
  },
  {
   "cell_type": "code",
   "execution_count": 24,
   "id": "d9a7b2e6",
   "metadata": {
    "execution": {
     "iopub.execute_input": "2023-06-08T23:21:29.220157Z",
     "iopub.status.busy": "2023-06-08T23:21:29.219697Z",
     "iopub.status.idle": "2023-06-08T23:21:29.223809Z",
     "shell.execute_reply": "2023-06-08T23:21:29.222958Z"
    },
    "papermill": {
     "duration": 0.022208,
     "end_time": "2023-06-08T23:21:29.225869",
     "exception": false,
     "start_time": "2023-06-08T23:21:29.203661",
     "status": "completed"
    },
    "tags": []
   },
   "outputs": [],
   "source": [
    "# ms = [f.split('.')[0]#, json.load(open(CODE_PATH + '/params/' + f)))\n",
    "#               for f in os.listdir(CODE_PATH + '/params')]\n",
    "# print(len(ms))"
   ]
  },
  {
   "cell_type": "code",
   "execution_count": 25,
   "id": "eb856ecd",
   "metadata": {
    "execution": {
     "iopub.execute_input": "2023-06-08T23:21:29.257611Z",
     "iopub.status.busy": "2023-06-08T23:21:29.256856Z",
     "iopub.status.idle": "2023-06-08T23:21:29.514577Z",
     "shell.execute_reply": "2023-06-08T23:21:29.513564Z"
    },
    "papermill": {
     "duration": 0.276131,
     "end_time": "2023-06-08T23:21:29.517154",
     "exception": false,
     "start_time": "2023-06-08T23:21:29.241023",
     "status": "completed"
    },
    "tags": []
   },
   "outputs": [
    {
     "name": "stdout",
     "output_type": "stream",
     "text": [
      "109\n"
     ]
    }
   ],
   "source": [
    "ms = [(f.split('.')[0], json.load(open(CODE_PATH + '/params/' + f)))\n",
    "              for f in os.listdir(CODE_PATH + '/params')]\n",
    "print(len(ms))"
   ]
  },
  {
   "cell_type": "code",
   "execution_count": 26,
   "id": "e44a5cca",
   "metadata": {
    "execution": {
     "iopub.execute_input": "2023-06-08T23:21:29.550992Z",
     "iopub.status.busy": "2023-06-08T23:21:29.550164Z",
     "iopub.status.idle": "2023-06-08T23:21:29.555363Z",
     "shell.execute_reply": "2023-06-08T23:21:29.554313Z"
    },
    "papermill": {
     "duration": 0.023844,
     "end_time": "2023-06-08T23:21:29.557439",
     "exception": false,
     "start_time": "2023-06-08T23:21:29.533595",
     "status": "completed"
    },
    "tags": []
   },
   "outputs": [],
   "source": [
    "select_ms = '0c1908, 38f97e, 6724d4, b904fe, 4e7844, b792a2, d64c60, d85bf1, 2233bd, 2c1d4a, b42aae, ef4805, f41ae6, 18da64, 37898f, 9805ce, f65f09, 53b767, 7033ef, 90be5b, fdbb0a'\n",
    "select_ms = select_ms.split(', ')"
   ]
  },
  {
   "cell_type": "code",
   "execution_count": 27,
   "id": "c0f06ec3",
   "metadata": {
    "execution": {
     "iopub.execute_input": "2023-06-08T23:21:29.588585Z",
     "iopub.status.busy": "2023-06-08T23:21:29.588309Z",
     "iopub.status.idle": "2023-06-08T23:21:29.599194Z",
     "shell.execute_reply": "2023-06-08T23:21:29.598095Z"
    },
    "papermill": {
     "duration": 0.029519,
     "end_time": "2023-06-08T23:21:29.601836",
     "exception": false,
     "start_time": "2023-06-08T23:21:29.572317",
     "status": "completed"
    },
    "tags": []
   },
   "outputs": [
    {
     "data": {
      "text/plain": [
       "5"
      ]
     },
     "execution_count": 27,
     "metadata": {},
     "output_type": "execute_result"
    }
   ],
   "source": [
    "from collections import defaultdict\n",
    "mgroups = defaultdict(list)\n",
    "mpoints = defaultdict(int)\n",
    "for m, p in ms:\n",
    "    if m not in select_ms: continue\n",
    "    # if p.get('xformer_init_1') == 0.1: continue;\n",
    "    # if p.get('xformer_layers', 2) > 3: continue;\n",
    "    # if p['frac_pwr_mult'] != f: continue\n",
    "    # if 'seg' in p: continue# or 'melspec' in p: continue\n",
    "    # if p['batch_size'] >= 20: continue;\n",
    "    r_ = {k: v for k, v in p.items() \n",
    "              if k not in ['fold', 'seed' ]#'seed', 'n_folds' ]\n",
    "         }\n",
    "    mgroups[json.dumps(r_)].append(m)\n",
    "    mpoints[json.dumps(r_)] += 1 - select_ms.index(m)/len(select_ms)\n",
    "len(mgroups)"
   ]
  },
  {
   "cell_type": "code",
   "execution_count": 28,
   "id": "95fb91e6",
   "metadata": {
    "execution": {
     "iopub.execute_input": "2023-06-08T23:21:29.633344Z",
     "iopub.status.busy": "2023-06-08T23:21:29.633087Z",
     "iopub.status.idle": "2023-06-08T23:21:30.305100Z",
     "shell.execute_reply": "2023-06-08T23:21:30.304090Z"
    },
    "papermill": {
     "duration": 0.690655,
     "end_time": "2023-06-08T23:21:30.307516",
     "exception": false,
     "start_time": "2023-06-08T23:21:29.616861",
     "status": "completed"
    },
    "tags": []
   },
   "outputs": [
    {
     "data": {
      "image/png": "[encoded data removed]",
      "text/plain": [
       "<Figure size 700x400 with 1 Axes>"
      ]
     },
     "metadata": {},
     "output_type": "display_data"
    }
   ],
   "source": [
    "plt.hist(mpoints.values(), bins =250);"
   ]
  },
  {
   "cell_type": "code",
   "execution_count": null,
   "id": "81676fc9",
   "metadata": {
    "papermill": {
     "duration": 0.014989,
     "end_time": "2023-06-08T23:21:30.337843",
     "exception": false,
     "start_time": "2023-06-08T23:21:30.322854",
     "status": "completed"
    },
    "tags": []
   },
   "outputs": [],
   "source": []
  },
  {
   "cell_type": "code",
   "execution_count": 29,
   "id": "2b1f362d",
   "metadata": {
    "execution": {
     "iopub.execute_input": "2023-06-08T23:21:30.370154Z",
     "iopub.status.busy": "2023-06-08T23:21:30.369754Z",
     "iopub.status.idle": "2023-06-08T23:21:30.376419Z",
     "shell.execute_reply": "2023-06-08T23:21:30.375242Z"
    },
    "papermill": {
     "duration": 0.026115,
     "end_time": "2023-06-08T23:21:30.379298",
     "exception": false,
     "start_time": "2023-06-08T23:21:30.353183",
     "status": "completed"
    },
    "tags": []
   },
   "outputs": [],
   "source": [
    "class ParallelModel(nn.Module):\n",
    "    def __init__(self, models):\n",
    "        super().__init__()\n",
    "        self.models = nn.ModuleList(models)\n",
    "    \n",
    "    def forward(self, x, m, frac, flen):\n",
    "        return torch.stack([model(x, m, frac, flen)[0]\n",
    "                            for model in self.models], -2)\n"
   ]
  },
  {
   "cell_type": "code",
   "execution_count": 30,
   "id": "6911f5e2",
   "metadata": {
    "execution": {
     "iopub.execute_input": "2023-06-08T23:21:30.412878Z",
     "iopub.status.busy": "2023-06-08T23:21:30.412572Z",
     "iopub.status.idle": "2023-06-08T23:21:30.419245Z",
     "shell.execute_reply": "2023-06-08T23:21:30.418402Z"
    },
    "papermill": {
     "duration": 0.025736,
     "end_time": "2023-06-08T23:21:30.421387",
     "exception": false,
     "start_time": "2023-06-08T23:21:30.395651",
     "status": "completed"
    },
    "tags": []
   },
   "outputs": [],
   "source": [
    "# numpy add two arrays, expanding the smaller one on axis 0\n",
    "def eadd(a, b):\n",
    "    if isinstance(a, int): return b.copy();\n",
    "    if a.shape[0] < b.shape[0]:\n",
    "        a = np.pad(a, ((0, b.shape[0] - a.shape[0]), (0, 0)), mode = 'constant')\n",
    "    elif a.shape[0] > b.shape[0]:\n",
    "        b = np.pad(b, ((0, a.shape[0] - b.shape[0]), (0, 0)), mode = 'constant')\n",
    "    return a + b"
   ]
  },
  {
   "cell_type": "code",
   "execution_count": null,
   "id": "c34e3892",
   "metadata": {
    "papermill": {
     "duration": 0.015994,
     "end_time": "2023-06-08T23:21:30.452850",
     "exception": false,
     "start_time": "2023-06-08T23:21:30.436856",
     "status": "completed"
    },
    "tags": []
   },
   "outputs": [],
   "source": []
  },
  {
   "cell_type": "code",
   "execution_count": 31,
   "id": "af840d76",
   "metadata": {
    "execution": {
     "iopub.execute_input": "2023-06-08T23:21:30.484851Z",
     "iopub.status.busy": "2023-06-08T23:21:30.484528Z",
     "iopub.status.idle": "2023-06-08T23:21:30.489068Z",
     "shell.execute_reply": "2023-06-08T23:21:30.487978Z"
    },
    "papermill": {
     "duration": 0.022709,
     "end_time": "2023-06-08T23:21:30.491002",
     "exception": false,
     "start_time": "2023-06-08T23:21:30.468293",
     "status": "completed"
    },
    "tags": []
   },
   "outputs": [],
   "source": [
    "import time"
   ]
  },
  {
   "cell_type": "code",
   "execution_count": 32,
   "id": "115b2f34",
   "metadata": {
    "execution": {
     "iopub.execute_input": "2023-06-08T23:21:30.524933Z",
     "iopub.status.busy": "2023-06-08T23:21:30.524150Z",
     "iopub.status.idle": "2023-06-08T23:22:14.675040Z",
     "shell.execute_reply": "2023-06-08T23:22:14.673786Z"
    },
    "papermill": {
     "duration": 44.170788,
     "end_time": "2023-06-08T23:22:14.677991",
     "exception": false,
     "start_time": "2023-06-08T23:21:30.507203",
     "status": "completed"
    },
    "tags": []
   },
   "outputs": [
    {
     "name": "stdout",
     "output_type": "stream",
     "text": [
      "{'dims': 384, 'frac_pwr_mult': 2.16, 'se_dropout': 0.2, 'dropout': 0.3, 'len_se': False, 'se_pact': 0.0, 'patch': 11, 'fix_final': False, 'nheads': 12, 'frac_se': False, 'm_adj_gn': 0.1, 'relabel': True, 'se_dims': 0, 'm_adj': False, 'frac_adj': True, 'len_adj': True, 'm_se': True, 'adj_gn': 0.5, 'expanded': False, 'frac_rand': 0.46, 'seq': 320}\n",
      "{'act_layer': 'GELU', 'dropout': 0.3, 'pre_norm': True, 'final_mult': 4, 'xformer_init_2': 1.0, 'patch': 11, 'patch_dropout': 0.15, 'patch_act': 'LeakyReLU', 'alibi': 0, 'dims': 384, 'xformer_init_1': 1.0, 'nheads': 12, 'rnn': 'GRU', 'rel_pos': 'mlp', 'xformer_layers': 2, 'xformer_init_scale': 0.7, 'seq': 320}\n"
     ]
    },
    {
     "name": "stderr",
     "output_type": "stream",
     "text": [
      "/opt/conda/lib/python3.10/site-packages/torch/functional.py:504: UserWarning: torch.meshgrid: in an upcoming release, it will be required to pass the indexing argument. (Triggered internally at /usr/local/src/pytorch/aten/src/ATen/native/TensorShape.cpp:3483.)\n",
      "  return _VF.meshgrid(tensors, **kwargs)  # type: ignore[attr-defined]\n"
     ]
    },
    {
     "name": "stdout",
     "output_type": "stream",
     "text": [
      "{'dims': 384, 'frac_pwr_mult': 2.16, 'se_dropout': 0.2, 'dropout': 0.3, 'len_se': False, 'se_pact': 0.0, 'patch': 11, 'fix_final': False, 'nheads': 12, 'frac_se': False, 'm_adj_gn': 0.1, 'relabel': True, 'se_dims': 0, 'm_adj': False, 'frac_adj': True, 'len_adj': True, 'm_se': True, 'adj_gn': 0.5, 'expanded': False, 'frac_rand': 0.46, 'seq': 320}\n",
      "{'act_layer': 'GELU', 'dropout': 0.3, 'pre_norm': True, 'final_mult': 4, 'xformer_init_2': 1.0, 'patch': 11, 'patch_dropout': 0.15, 'patch_act': 'LeakyReLU', 'alibi': 0, 'dims': 384, 'xformer_init_1': 1.0, 'nheads': 12, 'rnn': 'GRU', 'rel_pos': 'mlp', 'xformer_layers': 2, 'xformer_init_scale': 0.7, 'seq': 320}\n",
      "{'dims': 384, 'frac_pwr_mult': 2.16, 'se_dropout': 0.2, 'dropout': 0.3, 'len_se': False, 'se_pact': 0.0, 'patch': 11, 'fix_final': False, 'nheads': 12, 'frac_se': False, 'm_adj_gn': 0.1, 'relabel': True, 'se_dims': 0, 'm_adj': False, 'frac_adj': True, 'len_adj': True, 'm_se': True, 'adj_gn': 0.5, 'expanded': False, 'frac_rand': 0.46, 'seq': 320}\n",
      "{'act_layer': 'GELU', 'dropout': 0.3, 'pre_norm': True, 'final_mult': 4, 'xformer_init_2': 1.0, 'patch': 11, 'patch_dropout': 0.15, 'patch_act': 'LeakyReLU', 'alibi': 0, 'dims': 384, 'xformer_init_1': 1.0, 'nheads': 12, 'rnn': 'GRU', 'rel_pos': 'mlp', 'xformer_layers': 2, 'xformer_init_scale': 0.7, 'seq': 320}\n",
      "{'dims': 384, 'frac_pwr_mult': 2.16, 'se_dropout': 0.2, 'dropout': 0.3, 'len_se': False, 'se_pact': 0.0, 'patch': 11, 'fix_final': False, 'nheads': 12, 'frac_se': False, 'm_adj_gn': 0.1, 'relabel': True, 'se_dims': 0, 'm_adj': False, 'frac_adj': True, 'len_adj': True, 'm_se': True, 'adj_gn': 0.5, 'expanded': False, 'frac_rand': 0.46, 'seq': 320}\n",
      "{'act_layer': 'GELU', 'dropout': 0.3, 'pre_norm': True, 'final_mult': 4, 'xformer_init_2': 1.0, 'patch': 11, 'patch_dropout': 0.15, 'patch_act': 'LeakyReLU', 'alibi': 0, 'dims': 384, 'xformer_init_1': 1.0, 'nheads': 12, 'rnn': 'GRU', 'rel_pos': 'mlp', 'xformer_layers': 2, 'xformer_init_scale': 0.7, 'seq': 320}\n",
      "{'dims': 384, 'frac_pwr_mult': 2.16, 'se_dropout': 0.2, 'dropout': 0.3, 'len_se': False, 'se_pact': 0.0, 'patch': 11, 'fix_final': False, 'nheads': 12, 'frac_se': False, 'm_adj_gn': 0.1, 'relabel': True, 'se_dims': 0, 'm_adj': False, 'frac_adj': True, 'len_adj': True, 'm_se': True, 'adj_gn': 0.5, 'expanded': False, 'frac_rand': 0.46, 'seq': 320}\n",
      "{'act_layer': 'GELU', 'dropout': 0.3, 'pre_norm': True, 'final_mult': 4, 'xformer_init_2': 1.0, 'patch': 11, 'patch_dropout': 0.15, 'patch_act': 'LeakyReLU', 'alibi': 0, 'dims': 384, 'xformer_init_1': 1.0, 'nheads': 12, 'rnn': 'GRU', 'rel_pos': 'mlp', 'xformer_layers': 2, 'xformer_init_scale': 0.7, 'seq': 320}\n",
      "{'neg_mult': 0.03, 'patch': 11, 'stretch_rate': 0.7, 'relabel': True, 'seq': 320}\n",
      "253 8\n"
     ]
    },
    {
     "name": "stderr",
     "output_type": "stream",
     "text": [
      "/tmp/ipykernel_23/794707137.py:47: DeprecationWarning: In a future version, `df.iloc[:, i] = newvals` will attempt to set the values inplace instead of always setting a new array. To retain the old behavior, use either `df[df.columns[i]] = newvals` or, if columns are non-unique, `df.isetitem(i, newvals)`\n",
      "  metadata.iloc[:, 1:] = metadata.iloc[:, 1:].astype(np.float32)\n"
     ]
    },
    {
     "name": "stdout",
     "output_type": "stream",
     "text": [
      "5\n",
      "(253, 880, 5, 3) (253, 880, 1, 1) 253 253\n",
      "(70966, 5, 3)\n",
      "(1759, 5, 3)\n",
      "[[0.02715978 0.09502907 0.04968544]\n",
      " [0.02376086 0.09549489 0.04008124]\n",
      " [0.02486324 0.09237064 0.0553765 ]\n",
      " [0.0179463  0.0901254  0.03819021]\n",
      " [0.02483981 0.09162747 0.04222225]]\n",
      "6.460003852844238\n",
      "\n",
      "{'dims': 384, 'frac_pwr_mult': 1.81, 'se_dropout': 0.3, 'dropout': 0.25, 'len_se': False, 'se_pact': 0.0, 'patch': 11, 'fix_final': True, 'nheads': 12, 'frac_se': False, 'm_adj_gn': 0.1, 'relabel': True, 'se_dims': 0, 'm_adj': True, 'frac_adj': True, 'len_adj': False, 'm_se': True, 'adj_gn': 0.5, 'expanded': False, 'frac_rand': 0.73, 'seq': 256}\n",
      "{'act_layer': 'CELU', 'dropout': 0.25, 'pre_norm': True, 'final_mult': 4, 'xformer_init_2': 1.0, 'patch': 11, 'patch_dropout': 0, 'patch_act': 'Identity', 'alibi': 8, 'dims': 384, 'xformer_init_1': 1.0, 'nheads': 12, 'rnn': 'GRU', 'rel_pos': 'mlp', 'xformer_layers': 3, 'xformer_init_scale': 0.7, 'seq': 256}\n",
      "{'dims': 384, 'frac_pwr_mult': 1.81, 'se_dropout': 0.3, 'dropout': 0.25, 'len_se': False, 'se_pact': 0.0, 'patch': 11, 'fix_final': True, 'nheads': 12, 'frac_se': False, 'm_adj_gn': 0.1, 'relabel': True, 'se_dims': 0, 'm_adj': True, 'frac_adj': True, 'len_adj': False, 'm_se': True, 'adj_gn': 0.5, 'expanded': False, 'frac_rand': 0.73, 'seq': 256}\n",
      "{'act_layer': 'CELU', 'dropout': 0.25, 'pre_norm': True, 'final_mult': 4, 'xformer_init_2': 1.0, 'patch': 11, 'patch_dropout': 0, 'patch_act': 'Identity', 'alibi': 8, 'dims': 384, 'xformer_init_1': 1.0, 'nheads': 12, 'rnn': 'GRU', 'rel_pos': 'mlp', 'xformer_layers': 3, 'xformer_init_scale': 0.7, 'seq': 256}\n",
      "{'dims': 384, 'frac_pwr_mult': 1.81, 'se_dropout': 0.3, 'dropout': 0.25, 'len_se': False, 'se_pact': 0.0, 'patch': 11, 'fix_final': True, 'nheads': 12, 'frac_se': False, 'm_adj_gn': 0.1, 'relabel': True, 'se_dims': 0, 'm_adj': True, 'frac_adj': True, 'len_adj': False, 'm_se': True, 'adj_gn': 0.5, 'expanded': False, 'frac_rand': 0.73, 'seq': 256}\n",
      "{'act_layer': 'CELU', 'dropout': 0.25, 'pre_norm': True, 'final_mult': 4, 'xformer_init_2': 1.0, 'patch': 11, 'patch_dropout': 0, 'patch_act': 'Identity', 'alibi': 8, 'dims': 384, 'xformer_init_1': 1.0, 'nheads': 12, 'rnn': 'GRU', 'rel_pos': 'mlp', 'xformer_layers': 3, 'xformer_init_scale': 0.7, 'seq': 256}\n",
      "{'dims': 384, 'frac_pwr_mult': 1.81, 'se_dropout': 0.3, 'dropout': 0.25, 'len_se': False, 'se_pact': 0.0, 'patch': 11, 'fix_final': True, 'nheads': 12, 'frac_se': False, 'm_adj_gn': 0.1, 'relabel': True, 'se_dims': 0, 'm_adj': True, 'frac_adj': True, 'len_adj': False, 'm_se': True, 'adj_gn': 0.5, 'expanded': False, 'frac_rand': 0.73, 'seq': 256}\n",
      "{'act_layer': 'CELU', 'dropout': 0.25, 'pre_norm': True, 'final_mult': 4, 'xformer_init_2': 1.0, 'patch': 11, 'patch_dropout': 0, 'patch_act': 'Identity', 'alibi': 8, 'dims': 384, 'xformer_init_1': 1.0, 'nheads': 12, 'rnn': 'GRU', 'rel_pos': 'mlp', 'xformer_layers': 3, 'xformer_init_scale': 0.7, 'seq': 256}\n",
      "{'neg_mult': 0.03, 'patch': 11, 'stretch_rate': 0.3, 'relabel': True, 'seq': 256}\n",
      "314 10\n"
     ]
    },
    {
     "name": "stderr",
     "output_type": "stream",
     "text": [
      "/tmp/ipykernel_23/794707137.py:47: DeprecationWarning: In a future version, `df.iloc[:, i] = newvals` will attempt to set the values inplace instead of always setting a new array. To retain the old behavior, use either `df[df.columns[i]] = newvals` or, if columns are non-unique, `df.isetitem(i, newvals)`\n",
      "  metadata.iloc[:, 1:] = metadata.iloc[:, 1:].astype(np.float32)\n"
     ]
    },
    {
     "name": "stdout",
     "output_type": "stream",
     "text": [
      "4\n",
      "(314, 704, 4, 3) (314, 704, 1, 1) 314 314\n",
      "(70819, 4, 3)\n",
      "(1642, 4, 3)\n",
      "[[0.02531227 0.07214028 0.04095671]\n",
      " [0.02578164 0.08239606 0.05058337]\n",
      " [0.02821609 0.07890119 0.04145826]\n",
      " [0.03000359 0.06063271 0.04319422]]\n",
      "3.113924741744995\n",
      "\n",
      "{'dims': 256, 'frac_pwr_mult': 2.01, 'se_dropout': 0.25, 'dropout': 0.2, 'len_se': False, 'se_pact': 0.0, 'patch': 9, 'fix_final': False, 'frac_se': False, 'm_adj_gn': 0.1, 'relabel': True, 'se_dims': 0, 'm_adj': True, 'frac_adj': True, 'len_adj': False, 'm_se': True, 'adj_gn': 0.5, 'expanded': False, 'frac_rand': 0.25, 'seq': 384}\n",
      "{'act_layer': 'PReLU', 'dropout': 0.2, 'pre_norm': False, 'final_mult': 4, 'patch': 9, 'patch_dropout': 0, 'patch_act': 'CELU', 'alibi': 0, 'dims': 256, 'rnn': 'GRU', 'rel_pos': None, 'xformer_layers': 2, 'xformer_init_scale': 0.7, 'seq': 384}\n",
      "{'dims': 256, 'frac_pwr_mult': 2.01, 'se_dropout': 0.25, 'dropout': 0.2, 'len_se': False, 'se_pact': 0.0, 'patch': 9, 'fix_final': False, 'frac_se': False, 'm_adj_gn': 0.1, 'relabel': True, 'se_dims': 0, 'm_adj': True, 'frac_adj': True, 'len_adj': False, 'm_se': True, 'adj_gn': 0.5, 'expanded': False, 'frac_rand': 0.25, 'seq': 384}\n",
      "{'act_layer': 'PReLU', 'dropout': 0.2, 'pre_norm': False, 'final_mult': 4, 'patch': 9, 'patch_dropout': 0, 'patch_act': 'CELU', 'alibi': 0, 'dims': 256, 'rnn': 'GRU', 'rel_pos': None, 'xformer_layers': 2, 'xformer_init_scale': 0.7, 'seq': 384}\n",
      "{'dims': 256, 'frac_pwr_mult': 2.01, 'se_dropout': 0.25, 'dropout': 0.2, 'len_se': False, 'se_pact': 0.0, 'patch': 9, 'fix_final': False, 'frac_se': False, 'm_adj_gn': 0.1, 'relabel': True, 'se_dims': 0, 'm_adj': True, 'frac_adj': True, 'len_adj': False, 'm_se': True, 'adj_gn': 0.5, 'expanded': False, 'frac_rand': 0.25, 'seq': 384}\n",
      "{'act_layer': 'PReLU', 'dropout': 0.2, 'pre_norm': False, 'final_mult': 4, 'patch': 9, 'patch_dropout': 0, 'patch_act': 'CELU', 'alibi': 0, 'dims': 256, 'rnn': 'GRU', 'rel_pos': None, 'xformer_layers': 2, 'xformer_init_scale': 0.7, 'seq': 384}\n",
      "{'dims': 256, 'frac_pwr_mult': 2.01, 'se_dropout': 0.25, 'dropout': 0.2, 'len_se': False, 'se_pact': 0.0, 'patch': 9, 'fix_final': False, 'frac_se': False, 'm_adj_gn': 0.1, 'relabel': True, 'se_dims': 0, 'm_adj': True, 'frac_adj': True, 'len_adj': False, 'm_se': True, 'adj_gn': 0.5, 'expanded': False, 'frac_rand': 0.25, 'seq': 384}\n",
      "{'act_layer': 'PReLU', 'dropout': 0.2, 'pre_norm': False, 'final_mult': 4, 'patch': 9, 'patch_dropout': 0, 'patch_act': 'CELU', 'alibi': 0, 'dims': 256, 'rnn': 'GRU', 'rel_pos': None, 'xformer_layers': 2, 'xformer_init_scale': 0.7, 'seq': 384}\n",
      "{'neg_mult': 0.03, 'patch': 9, 'stretch_rate': 0.5, 'relabel': True, 'seq': 384}\n",
      "256 8\n"
     ]
    },
    {
     "name": "stderr",
     "output_type": "stream",
     "text": [
      "/tmp/ipykernel_23/794707137.py:47: DeprecationWarning: In a future version, `df.iloc[:, i] = newvals` will attempt to set the values inplace instead of always setting a new array. To retain the old behavior, use either `df[df.columns[i]] = newvals` or, if columns are non-unique, `df.isetitem(i, newvals)`\n",
      "  metadata.iloc[:, 1:] = metadata.iloc[:, 1:].astype(np.float32)\n"
     ]
    },
    {
     "name": "stdout",
     "output_type": "stream",
     "text": [
      "4\n",
      "(256, 864, 4, 3) (256, 864, 1, 1) 256 256\n",
      "(70848, 4, 3)\n",
      "(1728, 4, 3)\n",
      "[[0.02893273 0.07959076 0.05227751]\n",
      " [0.03262052 0.08482873 0.05490586]\n",
      " [0.02785042 0.08581421 0.0541337 ]\n",
      " [0.02911331 0.09548736 0.05104984]]\n",
      "2.479499101638794\n",
      "\n",
      "{'dims': 384, 'frac_pwr_mult': 2.43, 'se_dropout': 0.25, 'dropout': 0.15, 'len_se': False, 'se_pact': 0.0, 'patch': 10, 'fix_final': True, 'nheads': 12, 'frac_se': False, 'm_adj_gn': 0.1, 'relabel': True, 'se_dims': 16, 'm_adj': True, 'frac_adj': True, 'len_adj': True, 'm_se': True, 'adj_gn': 0.3, 'expanded': False, 'frac_rand': 0.89, 'seq': 224}\n",
      "{'act_layer': 'GELU', 'dropout': 0.15, 'pre_norm': True, 'final_mult': 4, 'deberta': True, 'xformer_init_2': 1.0, 'patch': 10, 'patch_dropout': 0.1, 'patch_act': 'GELU', 'alibi': 0, 'dims': 384, 'xformer_init_1': 1.0, 'nheads': 12, 'rnn': 'LSTM', 'xformer_layers': 2, 'xformer_init_scale': 0.7, 'seq': 224}\n",
      "{'dims': 384, 'frac_pwr_mult': 2.43, 'se_dropout': 0.25, 'dropout': 0.15, 'len_se': False, 'se_pact': 0.0, 'patch': 10, 'fix_final': True, 'nheads': 12, 'frac_se': False, 'm_adj_gn': 0.1, 'relabel': True, 'se_dims': 16, 'm_adj': True, 'frac_adj': True, 'len_adj': True, 'm_se': True, 'adj_gn': 0.3, 'expanded': False, 'frac_rand': 0.89, 'seq': 224}\n",
      "{'act_layer': 'GELU', 'dropout': 0.15, 'pre_norm': True, 'final_mult': 4, 'deberta': True, 'xformer_init_2': 1.0, 'patch': 10, 'patch_dropout': 0.1, 'patch_act': 'GELU', 'alibi': 0, 'dims': 384, 'xformer_init_1': 1.0, 'nheads': 12, 'rnn': 'LSTM', 'xformer_layers': 2, 'xformer_init_scale': 0.7, 'seq': 224}\n",
      "{'dims': 384, 'frac_pwr_mult': 2.43, 'se_dropout': 0.25, 'dropout': 0.15, 'len_se': False, 'se_pact': 0.0, 'patch': 10, 'fix_final': True, 'nheads': 12, 'frac_se': False, 'm_adj_gn': 0.1, 'relabel': True, 'se_dims': 16, 'm_adj': True, 'frac_adj': True, 'len_adj': True, 'm_se': True, 'adj_gn': 0.3, 'expanded': False, 'frac_rand': 0.89, 'seq': 224}\n",
      "{'act_layer': 'GELU', 'dropout': 0.15, 'pre_norm': True, 'final_mult': 4, 'deberta': True, 'xformer_init_2': 1.0, 'patch': 10, 'patch_dropout': 0.1, 'patch_act': 'GELU', 'alibi': 0, 'dims': 384, 'xformer_init_1': 1.0, 'nheads': 12, 'rnn': 'LSTM', 'xformer_layers': 2, 'xformer_init_scale': 0.7, 'seq': 224}\n",
      "{'dims': 384, 'frac_pwr_mult': 2.43, 'se_dropout': 0.25, 'dropout': 0.15, 'len_se': False, 'se_pact': 0.0, 'patch': 10, 'fix_final': True, 'nheads': 12, 'frac_se': False, 'm_adj_gn': 0.1, 'relabel': True, 'se_dims': 16, 'm_adj': True, 'frac_adj': True, 'len_adj': True, 'm_se': True, 'adj_gn': 0.3, 'expanded': False, 'frac_rand': 0.89, 'seq': 224}\n",
      "{'act_layer': 'GELU', 'dropout': 0.15, 'pre_norm': True, 'final_mult': 4, 'deberta': True, 'xformer_init_2': 1.0, 'patch': 10, 'patch_dropout': 0.1, 'patch_act': 'GELU', 'alibi': 0, 'dims': 384, 'xformer_init_1': 1.0, 'nheads': 12, 'rnn': 'LSTM', 'xformer_layers': 2, 'xformer_init_scale': 0.7, 'seq': 224}\n",
      "{'neg_mult': 0.03, 'patch': 10, 'stretch_rate': 0.7, 'relabel': True, 'seq': 224}\n",
      "393 13\n"
     ]
    },
    {
     "name": "stderr",
     "output_type": "stream",
     "text": [
      "/tmp/ipykernel_23/794707137.py:47: DeprecationWarning: In a future version, `df.iloc[:, i] = newvals` will attempt to set the values inplace instead of always setting a new array. To retain the old behavior, use either `df[df.columns[i]] = newvals` or, if columns are non-unique, `df.isetitem(i, newvals)`\n",
      "  metadata.iloc[:, 1:] = metadata.iloc[:, 1:].astype(np.float32)\n"
     ]
    },
    {
     "name": "stdout",
     "output_type": "stream",
     "text": [
      "4\n",
      "(393, 560, 4, 3) (393, 560, 1, 1) 393 393\n",
      "(70684, 4, 3)\n",
      "(1492, 4, 3)\n",
      "[[0.02229546 0.09062943 0.04809068]\n",
      " [0.02873504 0.10088325 0.05690193]\n",
      " [0.02626469 0.08292485 0.03770856]\n",
      " [0.02907671 0.09832387 0.05157768]]\n",
      "3.964475393295288\n",
      "\n",
      "{'dims': 384, 'frac_pwr_mult': 2.21, 'se_dropout': 0.2, 'dropout': 0.2, 'len_se': False, 'se_pact': 0.0, 'patch': 13, 'fix_final': True, 'nheads': 12, 'frac_se': False, 'm_adj_gn': 0.1, 'relabel': True, 'se_dims': 0, 'm_adj': True, 'frac_adj': True, 'len_adj': True, 'm_se': True, 'adj_gn': 0.3, 'expanded': False, 'frac_rand': 0.19, 'seq': 256}\n",
      "{'act_layer': 'PReLU', 'dropout': 0.2, 'pre_norm': True, 'final_mult': 4, 'deberta': True, 'xformer_init_2': 1.0, 'patch': 13, 'patch_dropout': 0.15, 'patch_act': 'Tanh', 'alibi': 2, 'dims': 384, 'xformer_init_1': 1.0, 'nheads': 12, 'rnn': 'GRU', 'xformer_layers': 2, 'xformer_init_scale': 0.7, 'seq': 256}\n",
      "{'dims': 384, 'frac_pwr_mult': 2.21, 'se_dropout': 0.2, 'dropout': 0.2, 'len_se': False, 'se_pact': 0.0, 'patch': 13, 'fix_final': True, 'nheads': 12, 'frac_se': False, 'm_adj_gn': 0.1, 'relabel': True, 'se_dims': 0, 'm_adj': True, 'frac_adj': True, 'len_adj': True, 'm_se': True, 'adj_gn': 0.3, 'expanded': False, 'frac_rand': 0.19, 'seq': 256}\n",
      "{'act_layer': 'PReLU', 'dropout': 0.2, 'pre_norm': True, 'final_mult': 4, 'deberta': True, 'xformer_init_2': 1.0, 'patch': 13, 'patch_dropout': 0.15, 'patch_act': 'Tanh', 'alibi': 2, 'dims': 384, 'xformer_init_1': 1.0, 'nheads': 12, 'rnn': 'GRU', 'xformer_layers': 2, 'xformer_init_scale': 0.7, 'seq': 256}\n",
      "{'dims': 384, 'frac_pwr_mult': 2.21, 'se_dropout': 0.2, 'dropout': 0.2, 'len_se': False, 'se_pact': 0.0, 'patch': 13, 'fix_final': True, 'nheads': 12, 'frac_se': False, 'm_adj_gn': 0.1, 'relabel': True, 'se_dims': 0, 'm_adj': True, 'frac_adj': True, 'len_adj': True, 'm_se': True, 'adj_gn': 0.3, 'expanded': False, 'frac_rand': 0.19, 'seq': 256}\n",
      "{'act_layer': 'PReLU', 'dropout': 0.2, 'pre_norm': True, 'final_mult': 4, 'deberta': True, 'xformer_init_2': 1.0, 'patch': 13, 'patch_dropout': 0.15, 'patch_act': 'Tanh', 'alibi': 2, 'dims': 384, 'xformer_init_1': 1.0, 'nheads': 12, 'rnn': 'GRU', 'xformer_layers': 2, 'xformer_init_scale': 0.7, 'seq': 256}\n",
      "{'dims': 384, 'frac_pwr_mult': 2.21, 'se_dropout': 0.2, 'dropout': 0.2, 'len_se': False, 'se_pact': 0.0, 'patch': 13, 'fix_final': True, 'nheads': 12, 'frac_se': False, 'm_adj_gn': 0.1, 'relabel': True, 'se_dims': 0, 'm_adj': True, 'frac_adj': True, 'len_adj': True, 'm_se': True, 'adj_gn': 0.3, 'expanded': False, 'frac_rand': 0.19, 'seq': 256}\n",
      "{'act_layer': 'PReLU', 'dropout': 0.2, 'pre_norm': True, 'final_mult': 4, 'deberta': True, 'xformer_init_2': 1.0, 'patch': 13, 'patch_dropout': 0.15, 'patch_act': 'Tanh', 'alibi': 2, 'dims': 384, 'xformer_init_1': 1.0, 'nheads': 12, 'rnn': 'GRU', 'xformer_layers': 2, 'xformer_init_scale': 0.7, 'seq': 256}\n",
      "{'neg_mult': 0.01, 'patch': 13, 'stretch_rate': 0.3, 'relabel': True, 'seq': 256}\n",
      "268 9\n"
     ]
    },
    {
     "name": "stderr",
     "output_type": "stream",
     "text": [
      "/tmp/ipykernel_23/794707137.py:47: DeprecationWarning: In a future version, `df.iloc[:, i] = newvals` will attempt to set the values inplace instead of always setting a new array. To retain the old behavior, use either `df[df.columns[i]] = newvals` or, if columns are non-unique, `df.isetitem(i, newvals)`\n",
      "  metadata.iloc[:, 1:] = metadata.iloc[:, 1:].astype(np.float32)\n"
     ]
    },
    {
     "name": "stdout",
     "output_type": "stream",
     "text": [
      "4\n",
      "(268, 832, 4, 3) (268, 832, 1, 1) 268 268\n",
      "(70976, 4, 3)\n",
      "(1663, 4, 3)\n",
      "[[0.0222073  0.07123979 0.05201967]\n",
      " [0.01194922 0.07700805 0.05144074]\n",
      " [0.01917641 0.08135861 0.04413546]\n",
      " [0.01731316 0.09040815 0.04201276]]\n",
      "3.523738384246826\n",
      "\n"
     ]
    }
   ],
   "source": [
    "all_pred_dict = {}; ct = 0\n",
    "# for m in ms:#_, \n",
    "for _, ms in mgroups.items():\n",
    "    models = []; m = ms[0];# print(json.loads(_))\n",
    "    params = json.load(open(CODE_PATH + '/params/' + m + '.json', 'r'))\n",
    "#     if params['frac_pwr_mult'] not in [2.36, 2.04, 1.81, 1.91, 1.88]: continue\n",
    "    for m in ms:\n",
    "        models.append(getModel(params, m ))    \n",
    "    model = ParallelModel(models).to(device).eval()\n",
    "    metadata, msubject, md = prep_metadata(defog_metadata, tdcsfog_metadata, daily_metadata, subjects,\n",
    "                                      expanded = params['expanded'])\n",
    "#     model = getModel(params, m)\n",
    "    test_data, test_loader = getData(params, m, fogcount, metadata)\n",
    "    start = time.time()\n",
    "    spred_dict = inferParallel(model, test_loader)\n",
    "#     spred_dict = infer(model, test_loader)\n",
    "    print(time.time() - start)\n",
    "    \n",
    "    for k, v in spred_dict.items():\n",
    "        all_pred_dict[k] = eadd(all_pred_dict.get(k, 0), \n",
    "                                v * mpoints[_])\n",
    "    del test_data, test_loader, spred_dict\n",
    "        \n",
    "    ct += 1;\n",
    "    print()\n",
    "    del model#, models\n"
   ]
  },
  {
   "cell_type": "code",
   "execution_count": null,
   "id": "414dacbe",
   "metadata": {
    "papermill": {
     "duration": 0.018603,
     "end_time": "2023-06-08T23:22:14.715539",
     "exception": false,
     "start_time": "2023-06-08T23:22:14.696936",
     "status": "completed"
    },
    "tags": []
   },
   "outputs": [],
   "source": []
  },
  {
   "cell_type": "code",
   "execution_count": 33,
   "id": "e2917e5a",
   "metadata": {
    "execution": {
     "iopub.execute_input": "2023-06-08T23:22:14.756173Z",
     "iopub.status.busy": "2023-06-08T23:22:14.754975Z",
     "iopub.status.idle": "2023-06-08T23:22:15.177800Z",
     "shell.execute_reply": "2023-06-08T23:22:15.176246Z"
    },
    "papermill": {
     "duration": 0.446215,
     "end_time": "2023-06-08T23:22:15.180817",
     "exception": false,
     "start_time": "2023-06-08T23:22:14.734602",
     "status": "completed"
    },
    "tags": []
   },
   "outputs": [
    {
     "name": "stdout",
     "output_type": "stream",
     "text": [
      "test/defog/02ab235146.csv 70422 281688\n",
      "test/tdcsfog/003f117e14.csv 1171 4682\n",
      "286370\n"
     ]
    },
    {
     "data": {
      "text/html": [
       "<div>\n",
       "<style scoped>\n",
       "    .dataframe tbody tr th:only-of-type {\n",
       "        vertical-align: middle;\n",
       "    }\n",
       "\n",
       "    .dataframe tbody tr th {\n",
       "        vertical-align: top;\n",
       "    }\n",
       "\n",
       "    .dataframe thead th {\n",
       "        text-align: right;\n",
       "    }\n",
       "</style>\n",
       "<table border=\"1\" class=\"dataframe\">\n",
       "  <thead>\n",
       "    <tr style=\"text-align: right;\">\n",
       "      <th></th>\n",
       "      <th>StartHesitation</th>\n",
       "      <th>Turn</th>\n",
       "      <th>Walking</th>\n",
       "    </tr>\n",
       "    <tr>\n",
       "      <th>Id</th>\n",
       "      <th></th>\n",
       "      <th></th>\n",
       "      <th></th>\n",
       "    </tr>\n",
       "  </thead>\n",
       "  <tbody>\n",
       "    <tr>\n",
       "      <th>003f117e14_4677</th>\n",
       "      <td>0.969125</td>\n",
       "      <td>1.088453</td>\n",
       "      <td>0.857234</td>\n",
       "    </tr>\n",
       "    <tr>\n",
       "      <th>003f117e14_4678</th>\n",
       "      <td>0.951290</td>\n",
       "      <td>1.060799</td>\n",
       "      <td>0.858686</td>\n",
       "    </tr>\n",
       "    <tr>\n",
       "      <th>003f117e14_4679</th>\n",
       "      <td>0.848943</td>\n",
       "      <td>0.978044</td>\n",
       "      <td>0.811633</td>\n",
       "    </tr>\n",
       "    <tr>\n",
       "      <th>003f117e14_4680</th>\n",
       "      <td>0.746597</td>\n",
       "      <td>0.895288</td>\n",
       "      <td>0.764580</td>\n",
       "    </tr>\n",
       "    <tr>\n",
       "      <th>003f117e14_4681</th>\n",
       "      <td>0.644250</td>\n",
       "      <td>0.812532</td>\n",
       "      <td>0.717527</td>\n",
       "    </tr>\n",
       "  </tbody>\n",
       "</table>\n",
       "</div>"
      ],
      "text/plain": [
       "                 StartHesitation      Turn   Walking\n",
       "Id                                                  \n",
       "003f117e14_4677         0.969125  1.088453  0.857234\n",
       "003f117e14_4678         0.951290  1.060799  0.858686\n",
       "003f117e14_4679         0.848943  0.978044  0.811633\n",
       "003f117e14_4680         0.746597  0.895288  0.764580\n",
       "003f117e14_4681         0.644250  0.812532  0.717527"
      ]
     },
     "execution_count": 33,
     "metadata": {},
     "output_type": "execute_result"
    }
   ],
   "source": [
    "preds = []\n",
    "for k, v in all_pred_dict.items():\n",
    "    true_len = len(load(k))\n",
    "    print(k, len(v), true_len)\n",
    "    v = cv2.resize(v, None, fx = 1, fy = SAMPLE)\n",
    "    v = v[:true_len]\n",
    "    v = np.pad(v, ((0, true_len - len(v) ), (0, 0)), mode = 'edge')\n",
    "    \n",
    "    df = pd.DataFrame(v / ct, columns = sample.columns, \n",
    "                index = ['{}_{}'.format(k.split('/')[-1].split('.')[0], i)\n",
    "                             for i in range(len(v))],\n",
    "                     dtype = np.float32)\n",
    "    df.index.name = 'Id'\n",
    "    preds.append(df)\n",
    "preds = pd.concat(preds)#.reset_index()\n",
    "print(len(preds))\n",
    "preds.tail()"
   ]
  },
  {
   "cell_type": "code",
   "execution_count": 34,
   "id": "1fedbec7",
   "metadata": {
    "execution": {
     "iopub.execute_input": "2023-06-08T23:22:15.223875Z",
     "iopub.status.busy": "2023-06-08T23:22:15.222200Z",
     "iopub.status.idle": "2023-06-08T23:22:15.232015Z",
     "shell.execute_reply": "2023-06-08T23:22:15.231068Z"
    },
    "papermill": {
     "duration": 0.032853,
     "end_time": "2023-06-08T23:22:15.234393",
     "exception": false,
     "start_time": "2023-06-08T23:22:15.201540",
     "status": "completed"
    },
    "tags": []
   },
   "outputs": [],
   "source": [
    "if len(fog_files) == 2:\n",
    "    preds = preds[:-1]#.head(200)"
   ]
  },
  {
   "cell_type": "code",
   "execution_count": 35,
   "id": "b8c949a4",
   "metadata": {
    "execution": {
     "iopub.execute_input": "2023-06-08T23:22:15.276388Z",
     "iopub.status.busy": "2023-06-08T23:22:15.276020Z",
     "iopub.status.idle": "2023-06-08T23:22:15.940786Z",
     "shell.execute_reply": "2023-06-08T23:22:15.939615Z"
    },
    "papermill": {
     "duration": 0.688651,
     "end_time": "2023-06-08T23:22:15.943539",
     "exception": false,
     "start_time": "2023-06-08T23:22:15.254888",
     "status": "completed"
    },
    "tags": []
   },
   "outputs": [
    {
     "data": {
      "text/plain": [
       "286370"
      ]
     },
     "execution_count": 35,
     "metadata": {},
     "output_type": "execute_result"
    }
   ],
   "source": [
    "if len(preds) != len(sample): \n",
    "    preds = pd.concat((preds.reindex(\n",
    "        sorted(list(set(sample.index) & set(preds.index))) ), \n",
    "                    sample.reindex(\n",
    "        sorted(list(set(sample.index) - set(preds.index))) ) ))\n",
    "len(preds)"
   ]
  },
  {
   "cell_type": "code",
   "execution_count": 36,
   "id": "347abece",
   "metadata": {
    "execution": {
     "iopub.execute_input": "2023-06-08T23:22:15.984375Z",
     "iopub.status.busy": "2023-06-08T23:22:15.984003Z",
     "iopub.status.idle": "2023-06-08T23:22:15.996002Z",
     "shell.execute_reply": "2023-06-08T23:22:15.994999Z"
    },
    "papermill": {
     "duration": 0.035694,
     "end_time": "2023-06-08T23:22:15.998800",
     "exception": false,
     "start_time": "2023-06-08T23:22:15.963106",
     "status": "completed"
    },
    "tags": []
   },
   "outputs": [
    {
     "data": {
      "text/html": [
       "<div>\n",
       "<style scoped>\n",
       "    .dataframe tbody tr th:only-of-type {\n",
       "        vertical-align: middle;\n",
       "    }\n",
       "\n",
       "    .dataframe tbody tr th {\n",
       "        vertical-align: top;\n",
       "    }\n",
       "\n",
       "    .dataframe thead th {\n",
       "        text-align: right;\n",
       "    }\n",
       "</style>\n",
       "<table border=\"1\" class=\"dataframe\">\n",
       "  <thead>\n",
       "    <tr style=\"text-align: right;\">\n",
       "      <th></th>\n",
       "      <th>StartHesitation</th>\n",
       "      <th>Turn</th>\n",
       "      <th>Walking</th>\n",
       "    </tr>\n",
       "    <tr>\n",
       "      <th>Id</th>\n",
       "      <th></th>\n",
       "      <th></th>\n",
       "      <th></th>\n",
       "    </tr>\n",
       "  </thead>\n",
       "  <tbody>\n",
       "    <tr>\n",
       "      <th>02ab235146_99996</th>\n",
       "      <td>2.242917</td>\n",
       "      <td>5.394113</td>\n",
       "      <td>3.205467</td>\n",
       "    </tr>\n",
       "    <tr>\n",
       "      <th>02ab235146_99997</th>\n",
       "      <td>2.242001</td>\n",
       "      <td>5.385119</td>\n",
       "      <td>3.199695</td>\n",
       "    </tr>\n",
       "    <tr>\n",
       "      <th>02ab235146_99998</th>\n",
       "      <td>2.239373</td>\n",
       "      <td>5.377664</td>\n",
       "      <td>3.195646</td>\n",
       "    </tr>\n",
       "    <tr>\n",
       "      <th>02ab235146_99999</th>\n",
       "      <td>2.235034</td>\n",
       "      <td>5.371747</td>\n",
       "      <td>3.193320</td>\n",
       "    </tr>\n",
       "    <tr>\n",
       "      <th>003f117e14_4681</th>\n",
       "      <td>0.000000</td>\n",
       "      <td>0.000000</td>\n",
       "      <td>0.000000</td>\n",
       "    </tr>\n",
       "  </tbody>\n",
       "</table>\n",
       "</div>"
      ],
      "text/plain": [
       "                  StartHesitation      Turn   Walking\n",
       "Id                                                   \n",
       "02ab235146_99996         2.242917  5.394113  3.205467\n",
       "02ab235146_99997         2.242001  5.385119  3.199695\n",
       "02ab235146_99998         2.239373  5.377664  3.195646\n",
       "02ab235146_99999         2.235034  5.371747  3.193320\n",
       "003f117e14_4681          0.000000  0.000000  0.000000"
      ]
     },
     "execution_count": 36,
     "metadata": {},
     "output_type": "execute_result"
    }
   ],
   "source": [
    "preds.tail(5)"
   ]
  },
  {
   "cell_type": "code",
   "execution_count": 37,
   "id": "a30ad245",
   "metadata": {
    "execution": {
     "iopub.execute_input": "2023-06-08T23:22:16.041478Z",
     "iopub.status.busy": "2023-06-08T23:22:16.040202Z",
     "iopub.status.idle": "2023-06-08T23:22:16.094742Z",
     "shell.execute_reply": "2023-06-08T23:22:16.093765Z"
    },
    "papermill": {
     "duration": 0.077517,
     "end_time": "2023-06-08T23:22:16.097291",
     "exception": false,
     "start_time": "2023-06-08T23:22:16.019774",
     "status": "completed"
    },
    "tags": []
   },
   "outputs": [],
   "source": [
    "assert len(preds) == len(sample) and all(preds.columns == sample.columns)\n",
    "assert sorted(preds.index.tolist()) == sorted(sample.index.tolist())"
   ]
  },
  {
   "cell_type": "code",
   "execution_count": 38,
   "id": "b32e0e23",
   "metadata": {
    "execution": {
     "iopub.execute_input": "2023-06-08T23:22:16.138923Z",
     "iopub.status.busy": "2023-06-08T23:22:16.138581Z",
     "iopub.status.idle": "2023-06-08T23:22:17.438645Z",
     "shell.execute_reply": "2023-06-08T23:22:17.437498Z"
    },
    "papermill": {
     "duration": 1.323828,
     "end_time": "2023-06-08T23:22:17.441798",
     "exception": false,
     "start_time": "2023-06-08T23:22:16.117970",
     "status": "completed"
    },
    "tags": []
   },
   "outputs": [],
   "source": [
    "preds.to_csv('submission.csv')#, index = False)"
   ]
  },
  {
   "cell_type": "code",
   "execution_count": 39,
   "id": "29b6cbbf",
   "metadata": {
    "execution": {
     "iopub.execute_input": "2023-06-08T23:22:17.483096Z",
     "iopub.status.busy": "2023-06-08T23:22:17.482740Z",
     "iopub.status.idle": "2023-06-08T23:22:18.043139Z",
     "shell.execute_reply": "2023-06-08T23:22:18.042096Z"
    },
    "papermill": {
     "duration": 0.583509,
     "end_time": "2023-06-08T23:22:18.045736",
     "exception": false,
     "start_time": "2023-06-08T23:22:17.462227",
     "status": "completed"
    },
    "tags": []
   },
   "outputs": [],
   "source": [
    "preds2 = pd.read_csv('submission.csv')\n",
    "sample2 = pd.read_csv(getFile('sample_submission.csv'))\n",
    "assert len(preds2) == len(sample2) and all(preds2.columns == sample2.columns)\n",
    "assert sorted(preds2.index.tolist()) == sorted(sample2.index.tolist())"
   ]
  },
  {
   "cell_type": "code",
   "execution_count": null,
   "id": "14ba77b9",
   "metadata": {
    "papermill": {
     "duration": 0.019244,
     "end_time": "2023-06-08T23:22:18.084702",
     "exception": false,
     "start_time": "2023-06-08T23:22:18.065458",
     "status": "completed"
    },
    "tags": []
   },
   "outputs": [],
   "source": []
  },
  {
   "cell_type": "code",
   "execution_count": 40,
   "id": "5ae0c471",
   "metadata": {
    "execution": {
     "iopub.execute_input": "2023-06-08T23:22:18.125815Z",
     "iopub.status.busy": "2023-06-08T23:22:18.124879Z",
     "iopub.status.idle": "2023-06-08T23:22:18.788834Z",
     "shell.execute_reply": "2023-06-08T23:22:18.787896Z"
    },
    "papermill": {
     "duration": 0.68698,
     "end_time": "2023-06-08T23:22:18.791053",
     "exception": false,
     "start_time": "2023-06-08T23:22:18.104073",
     "status": "completed"
    },
    "tags": []
   },
   "outputs": [
    {
     "data": {
      "image/png": "[encoded data removed]",
      "text/plain": [
       "<Figure size 700x400 with 1 Axes>"
      ]
     },
     "metadata": {},
     "output_type": "display_data"
    },
    {
     "data": {
      "image/png": "[encoded data removed]",
      "text/plain": [
       "<Figure size 700x400 with 1 Axes>"
      ]
     },
     "metadata": {},
     "output_type": "display_data"
    }
   ],
   "source": [
    "for k in fog_files[:2]:\n",
    "    plt.figure()\n",
    "    plt.plot(all_pred_dict[k] / ct)"
   ]
  },
  {
   "cell_type": "code",
   "execution_count": 41,
   "id": "359818f1",
   "metadata": {
    "execution": {
     "iopub.execute_input": "2023-06-08T23:22:18.838210Z",
     "iopub.status.busy": "2023-06-08T23:22:18.837160Z",
     "iopub.status.idle": "2023-06-08T23:22:18.847931Z",
     "shell.execute_reply": "2023-06-08T23:22:18.846779Z"
    },
    "papermill": {
     "duration": 0.037153,
     "end_time": "2023-06-08T23:22:18.850371",
     "exception": false,
     "start_time": "2023-06-08T23:22:18.813218",
     "status": "completed"
    },
    "tags": []
   },
   "outputs": [
    {
     "data": {
      "text/plain": [
       "array([10.999993, 10.999912, 10.99998 ], dtype=float32)"
      ]
     },
     "execution_count": 41,
     "metadata": {},
     "output_type": "execute_result"
    }
   ],
   "source": [
    "np.concatenate(list(all_pred_dict.values())).mean(0)"
   ]
  },
  {
   "cell_type": "code",
   "execution_count": null,
   "id": "c323633e",
   "metadata": {
    "papermill": {
     "duration": 0.021685,
     "end_time": "2023-06-08T23:22:18.896432",
     "exception": false,
     "start_time": "2023-06-08T23:22:18.874747",
     "status": "completed"
    },
    "tags": []
   },
   "outputs": [],
   "source": []
  }
 ],
 "metadata": {
  "kernelspec": {
   "display_name": "Python 3",
   "language": "python",
   "name": "python3"
  },
  "language_info": {
   "codemirror_mode": {
    "name": "ipython",
    "version": 3
   },
   "file_extension": ".py",
   "mimetype": "text/x-python",
   "name": "python",
   "nbconvert_exporter": "python",
   "pygments_lexer": "ipython3",
   "version": "3.10.10"
  },
  "papermill": {
   "default_parameters": {},
   "duration": 133.621877,
   "end_time": "2023-06-08T23:22:21.839341",
   "environment_variables": {},
   "exception": null,
   "input_path": "__notebook__.ipynb",
   "output_path": "__notebook__.ipynb",
   "parameters": {},
   "start_time": "2023-06-08T23:20:08.217464",
   "version": "2.4.0"
  }
 },
 "nbformat": 4,
 "nbformat_minor": 5
}

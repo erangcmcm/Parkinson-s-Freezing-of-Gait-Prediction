{
 "cells": [
  {
   "cell_type": "code",
   "execution_count": 23,
   "metadata": {},
   "outputs": [
    {
     "name": "stdout",
     "output_type": "stream",
     "text": [
      "[default]\n",
      "region = us-east-1\n",
      "output = json\n"
     ]
    }
   ],
   "source": [
    "# set region to us-east-1 and json out\n",
    "!aws configure set default.region us-east-1 && aws configure set default.output json\n",
    "!sudo cat ~/.aws/config\n",
    "# print config file\n",
    "!cp ~/.aws/config /home/ec2-user/efs/Various/config"
   ]
  },
  {
   "cell_type": "code",
   "execution_count": 11,
   "metadata": {},
   "outputs": [],
   "source": [
    "# import psutil\n",
    "# import time\n",
    "# import random\n",
    "# while True:\n",
    "#     m = (psutil.virtual_memory().percent)\n",
    "#     if m / 100 > random.random() ** 0.3: print(m)\n",
    "#     time.sleep(0.5)"
   ]
  },
  {
   "cell_type": "code",
   "execution_count": 32,
   "metadata": {},
   "outputs": [
    {
     "name": "stdout",
     "output_type": "stream",
     "text": [
      "54.1 58.4\n",
      "54.1 62.7\n"
     ]
    },
    {
     "ename": "KeyboardInterrupt",
     "evalue": "",
     "output_type": "error",
     "traceback": [
      "\u001b[0;31m---------------------------------------------------------------------------\u001b[0m",
      "\u001b[0;31mKeyboardInterrupt\u001b[0m                         Traceback (most recent call last)",
      "Cell \u001b[0;32mIn[32], line 5\u001b[0m\n\u001b[1;32m      3\u001b[0m \u001b[39mfor\u001b[39;00m i \u001b[39min\u001b[39;00m \u001b[39mrange\u001b[39m(\u001b[39m100\u001b[39m):\n\u001b[1;32m      4\u001b[0m     \u001b[39mprint\u001b[39m(psutil\u001b[39m.\u001b[39mvirtual_memory()\u001b[39m.\u001b[39mpercent, psutil\u001b[39m.\u001b[39mcpu_percent())\n\u001b[0;32m----> 5\u001b[0m     time\u001b[39m.\u001b[39;49msleep(\u001b[39m5\u001b[39;49m)\n",
      "\u001b[0;31mKeyboardInterrupt\u001b[0m: "
     ]
    }
   ],
   "source": [
    "import time\n",
    "import psutil\n",
    "for i in range(100):\n",
    "    print(psutil.virtual_memory().percent, psutil.cpu_percent())\n",
    "    time.sleep(5)"
   ]
  },
  {
   "cell_type": "code",
   "execution_count": null,
   "metadata": {},
   "outputs": [],
   "source": []
  },
  {
   "cell_type": "code",
   "execution_count": null,
   "metadata": {},
   "outputs": [],
   "source": []
  },
  {
   "cell_type": "code",
   "execution_count": 1,
   "metadata": {},
   "outputs": [
    {
     "name": "stdout",
     "output_type": "stream",
     "text": [
      "root         541  0.0  0.0  29912 11552 ?        Ss   03:01   0:00 /usr/bin/python3 /usr/bin/networkd-dispatcher --run-startup-triggers\n",
      "root         658  0.0  0.0 108132 10900 ?        Ssl  03:01   0:00 /usr/bin/python3 /usr/share/unattended-upgrades/unattended-upgrade-shutdown --wait-for-signal\n",
      "ubuntu     48921  0.0  0.0   2616   476 ?        S    03:54   0:00 sh /home/ubuntu/.vscode-server/bin/b3e4e68a0bc097f0ae7907b217c1119af9e03435/bin/code-server --start-server --host=127.0.0.1 --accept-server-license-terms --enable-remote-auto-shutdown --port=0 --telemetry-level all --install-extension GitHub.copilot --install-extension ms-python.python --install-extension ms-toolsai.jupyter --connection-token-file /home/ubuntu/.vscode-server/.b3e4e68a0bc097f0ae7907b217c1119af9e03435.token\n",
      "ubuntu     48931  0.1  0.7 968112 123852 ?       Sl   03:54   0:19 /home/ubuntu/.vscode-server/bin/b3e4e68a0bc097f0ae7907b217c1119af9e03435/node /home/ubuntu/.vscode-server/bin/b3e4e68a0bc097f0ae7907b217c1119af9e03435/out/server-main.js --start-server --host=127.0.0.1 --accept-server-license-terms --enable-remote-auto-shutdown --port=0 --telemetry-level all --install-extension GitHub.copilot --install-extension ms-python.python --install-extension ms-toolsai.jupyter --connection-token-file /home/ubuntu/.vscode-server/.b3e4e68a0bc097f0ae7907b217c1119af9e03435.token\n",
      "ubuntu     53666  7.3  0.7 860292 113736 ?       Dl   06:39   0:02 /home/ubuntu/.vscode-server/bin/b3e4e68a0bc097f0ae7907b217c1119af9e03435/node /home/ubuntu/.vscode-server/extensions/ms-python.vscode-pylance-2023.6.10/dist/server.bundle.js --cancellationReceive=file:e344c158845c77212bd27aafdd89b9810ed82c77ff --node-ipc --clientProcessId=53590\n",
      "ubuntu     53790 57.0  0.3 678804 62716 ?        Rl   06:39   0:00 /opt/conda/envs/pytorch/bin/python -m ipykernel_launcher --ip=127.0.0.1 --stdin=9003 --control=9001 --hb=9000 --Session.signature_scheme=\"hmac-sha256\" --Session.key=b\"73734131-710d-437f-8aa1-36671cfdf094\" --shell=9002 --transport=\"tcp\" --iopub=9004 --f=/home/ubuntu/.local/share/jupyter/runtime/kernel-v2-53590gNn3yVCqy63o.json\n",
      "ubuntu     53802  0.0  0.0   8752  3500 pts/0    Ss+  06:39   0:00 /bin/bash -c ps -aux | grep python\n",
      "ubuntu     53807  0.0  0.0   8172   728 pts/0    S+   06:39   0:00 grep python\n"
     ]
    }
   ],
   "source": [
    "# list all running procsses\n",
    "\n",
    "!ps -aux | grep python\n"
   ]
  },
  {
   "cell_type": "code",
   "execution_count": 41,
   "metadata": {},
   "outputs": [
    {
     "data": {
      "text/plain": [
       "54.5"
      ]
     },
     "execution_count": 41,
     "metadata": {},
     "output_type": "execute_result"
    }
   ],
   "source": [
    "import psutil\n",
    "psutil.virtual_memory().percent"
   ]
  },
  {
   "cell_type": "code",
   "execution_count": 46,
   "metadata": {},
   "outputs": [
    {
     "name": "stdout",
     "output_type": "stream",
     "text": [
      "Thu Jun  8 10:08:50 2023       \n",
      "+-----------------------------------------------------------------------------+\n",
      "| NVIDIA-SMI 525.85.12    Driver Version: 525.85.12    CUDA Version: 12.0     |\n",
      "|-------------------------------+----------------------+----------------------+\n",
      "| GPU  Name        Persistence-M| Bus-Id        Disp.A | Volatile Uncorr. ECC |\n",
      "| Fan  Temp  Perf  Pwr:Usage/Cap|         Memory-Usage | GPU-Util  Compute M. |\n",
      "|                               |                      |               MIG M. |\n",
      "|===============================+======================+======================|\n",
      "|   0  Tesla T4            On   | 00000000:00:1E.0 Off |                    0 |\n",
      "| N/A   60C    P0    59W /  70W |   1429MiB / 15360MiB |     67%      Default |\n",
      "|                               |                      |                  N/A |\n",
      "+-------------------------------+----------------------+----------------------+\n",
      "                                                                               \n",
      "+-----------------------------------------------------------------------------+\n",
      "| Processes:                                                                  |\n",
      "|  GPU   GI   CI        PID   Type   Process name                  GPU Memory |\n",
      "|        ID   ID                                                   Usage      |\n",
      "|=============================================================================|\n",
      "|    0   N/A  N/A     55470      C   ...a/envs/pytorch/bin/python     1426MiB |\n",
      "+-----------------------------------------------------------------------------+\n"
     ]
    }
   ],
   "source": [
    "!nvidia-smi"
   ]
  },
  {
   "cell_type": "code",
   "execution_count": null,
   "metadata": {},
   "outputs": [],
   "source": []
  },
  {
   "cell_type": "code",
   "execution_count": null,
   "metadata": {},
   "outputs": [],
   "source": []
  },
  {
   "cell_type": "code",
   "execution_count": 29,
   "metadata": {},
   "outputs": [
    {
     "name": "stdout",
     "output_type": "stream",
     "text": [
      "CPU times: user 47.3 ms, sys: 3.47 ms, total: 50.8 ms\n",
      "Wall time: 131 ms\n"
     ]
    },
    {
     "data": {
      "text/plain": [
       "{'ResponseMetadata': {'RequestId': '5GS5PVQSMSPRX23F',\n",
       "  'HostId': 'qs6Oiy1AYMoZQgbR4G3dprHWlI4IgPB2XF7+Mzc9EcImiE/V4E2qPlSjfnNRBXuFFIZkwalO3Ei9JIwq3pt6BQ==',\n",
       "  'HTTPStatusCode': 200,\n",
       "  'HTTPHeaders': {'x-amz-id-2': 'qs6Oiy1AYMoZQgbR4G3dprHWlI4IgPB2XF7+Mzc9EcImiE/V4E2qPlSjfnNRBXuFFIZkwalO3Ei9JIwq3pt6BQ==',\n",
       "   'x-amz-request-id': '5GS5PVQSMSPRX23F',\n",
       "   'date': 'Thu, 08 Jun 2023 10:00:14 GMT',\n",
       "   'x-amz-server-side-encryption': 'AES256',\n",
       "   'etag': '\"098f6bcd4621d373cade4e832627b4f6\"',\n",
       "   'server': 'AmazonS3',\n",
       "   'content-length': '0'},\n",
       "  'RetryAttempts': 0},\n",
       " 'ETag': '\"098f6bcd4621d373cade4e832627b4f6\"',\n",
       " 'ServerSideEncryption': 'AES256'}"
      ]
     },
     "execution_count": 29,
     "metadata": {},
     "output_type": "execute_result"
    }
   ],
   "source": [
    "%%time\n",
    "s3.put_object(Bucket = 'projects-v',\n",
    "                Key = 'test.txt',   \n",
    "                Body = 'test')"
   ]
  },
  {
   "cell_type": "code",
   "execution_count": null,
   "metadata": {},
   "outputs": [],
   "source": []
  },
  {
   "cell_type": "code",
   "execution_count": null,
   "metadata": {},
   "outputs": [
    {
     "ename": "",
     "evalue": "",
     "output_type": "error",
     "traceback": [
      "\u001b[1;31mCanceled future for execute_request message before replies were done"
     ]
    },
    {
     "ename": "",
     "evalue": "",
     "output_type": "error",
     "traceback": [
      "\u001b[1;31mThe Kernel crashed while executing code in the the current cell or a previous cell. Please review the code in the cell(s) to identify a possible cause of the failure. Click <a href='https://aka.ms/vscodeJupyterKernelCrash'>here</a> for more info. View Jupyter <a href='command:jupyter.viewOutput'>log</a> for further details."
     ]
    }
   ],
   "source": [
    "#kill all python ipykernel processes\n",
    "!kill -9 $(ps aux | grep '[p]ython -m ipykernel_launcher' | awk '{print $2}')"
   ]
  },
  {
   "cell_type": "code",
   "execution_count": 3,
   "metadata": {},
   "outputs": [],
   "source": [
    "# import torch"
   ]
  },
  {
   "cell_type": "code",
   "execution_count": 4,
   "metadata": {},
   "outputs": [],
   "source": [
    "# b = torch.zeros(256 * 2 - 1, 8)\n",
    "# n = b.shape[0]//2 + 1\n",
    "# for h in range(0, 8):\n",
    "#     bias = -1/2 ** (h + 2+ 1) * torch.arange(0, n)\n",
    "#     b[:n, h] = torch.flip(bias, [0])\n",
    "#     b[n-1:, h] = bias"
   ]
  },
  {
   "cell_type": "code",
   "execution_count": 5,
   "metadata": {},
   "outputs": [],
   "source": [
    "# import matplotlib.pyplot as plt\n",
    "# plt.plot(b.exp(), marker = '');\n",
    "# plt.ylim(0, 1.01);"
   ]
  },
  {
   "cell_type": "code",
   "execution_count": null,
   "metadata": {},
   "outputs": [],
   "source": []
  },
  {
   "cell_type": "code",
   "execution_count": null,
   "metadata": {},
   "outputs": [],
   "source": []
  },
  {
   "cell_type": "code",
   "execution_count": 28,
   "metadata": {},
   "outputs": [],
   "source": [
    "# import boto3\n",
    "# DATA_PATH = '/data/'\n",
    "# TAG = 'tlvmc-parkinsons-freezing-gait-prediction'\n",
    "# BUCKET = 'projects-v'\n",
    "# PREFIX = 'walk/'\n",
    "# # list contents of s3 with boto3\n",
    "# s3 = boto3.resource('s3')\n",
    "# bucket = s3.Bucket(BUCKET)\n",
    "# for i, obj in enumerate(bucket.objects.filter(Prefix=PREFIX)):\n",
    "#     # if 'cache' not in obj.key: \n",
    "#     if i % 100 == 0: print(obj.key)\n",
    "\n",
    "# # # delete all of prefix\n",
    "# # bucket.objects.filter(Prefix=PREFIX).delete()"
   ]
  },
  {
   "cell_type": "code",
   "execution_count": null,
   "metadata": {},
   "outputs": [],
   "source": []
  },
  {
   "cell_type": "code",
   "execution_count": 33,
   "metadata": {},
   "outputs": [],
   "source": [
    "# Launch ec2 instance g4dn.xlarge--\n",
    "!aws ec2 run-instances --count 71 --instance-type g4dn.xlarge --launch-template LaunchTemplateName='g4.xlarge--run' > x.txt"
   ]
  },
  {
   "cell_type": "code",
   "execution_count": null,
   "metadata": {},
   "outputs": [],
   "source": []
  },
  {
   "cell_type": "code",
   "execution_count": 22,
   "metadata": {},
   "outputs": [],
   "source": [
    "# !aws sqs list-queues --output text --query QueueUrls --queue-name-prefix walk > walk.txt"
   ]
  },
  {
   "cell_type": "code",
   "execution_count": 26,
   "metadata": {},
   "outputs": [],
   "source": [
    "q = open('walk.txt').read()"
   ]
  },
  {
   "cell_type": "code",
   "execution_count": 27,
   "metadata": {},
   "outputs": [
    {
     "name": "stdout",
     "output_type": "stream",
     "text": [
      "        \"ApproximateNumberOfMessages\": \"71\",\n",
      "        \"ApproximateNumberOfMessagesNotVisible\": \"1\",\n",
      "        \"ApproximateNumberOfMessagesDelayed\": \"0\",\n"
     ]
    }
   ],
   "source": [
    "!aws sqs get-queue-attributes --queue-url \"$q\" --attribute-names All | grep Messages"
   ]
  },
  {
   "cell_type": "code",
   "execution_count": 28,
   "metadata": {},
   "outputs": [
    {
     "name": "stdout",
     "output_type": "stream",
     "text": [
      "1\n"
     ]
    }
   ],
   "source": [
    "# and list the count of running g4dn.xlarge instances\n",
    "!aws ec2 describe-instances  --query 'Reservations[*].Instances[*].{Instance:InstanceId,State:State.Name,Type:InstanceType,Name:Tags[?Key==`Name`]|[0].Value}' --output table --filters \"Name=instance-state-name,Values=running\" | grep g4dn.xlarge  | wc -l"
   ]
  },
  {
   "cell_type": "code",
   "execution_count": 31,
   "metadata": {},
   "outputs": [],
   "source": [
    "# !nvidia-smi"
   ]
  },
  {
   "cell_type": "code",
   "execution_count": null,
   "metadata": {},
   "outputs": [],
   "source": [
    "import numpy as np\n"
   ]
  },
  {
   "cell_type": "code",
   "execution_count": 301,
   "metadata": {},
   "outputs": [],
   "source": [
    "import time\n"
   ]
  },
  {
   "cell_type": "code",
   "execution_count": 328,
   "metadata": {},
   "outputs": [
    {
     "name": "stdout",
     "output_type": "stream",
     "text": [
      "90700\n",
      "0.0025\n"
     ]
    }
   ],
   "source": [
    "x = np.linspace(0, 1, 100000, dtype = np.float32) ** 3\n",
    "start = time.time()\n",
    "g = 100\n",
    "x = x.reshape(-1, g).mean(-1)\n",
    "x = (x - x.min()) / (x.max() - x.min())\n",
    "idx = np.random.choice(len(x), p = x / x.sum()) * g\n",
    "print(idx)\n",
    "print(round(time.time() - start, 4))"
   ]
  },
  {
   "cell_type": "code",
   "execution_count": null,
   "metadata": {},
   "outputs": [],
   "source": []
  },
  {
   "cell_type": "code",
   "execution_count": null,
   "metadata": {},
   "outputs": [],
   "source": []
  },
  {
   "cell_type": "code",
   "execution_count": 174,
   "metadata": {},
   "outputs": [
    {
     "name": "stdout",
     "output_type": "stream",
     "text": [
      "-----------------------------------------------------------\n",
      "|                   GetMetricStatistics                   |\n",
      "|       Average       |       Timestamp        |  Unit    |\n",
      "|  60.014539919953265 |  2023-06-08T13:24:00Z  |  Percent |\n",
      "|  59.792151119503124 |  2023-06-08T13:25:00Z  |  Percent |\n",
      "|  60.2273251413274   |  2023-06-08T13:26:00Z  |  Percent |\n",
      "|  60.158132255335424 |  2023-06-08T13:27:00Z  |  Percent |\n",
      "|  60.04810830259869  |  2023-06-08T13:28:00Z  |  Percent |\n",
      "|  60.0506475423343   |  2023-06-08T13:29:00Z  |  Percent |\n",
      "|  59.89496726032653  |  2023-06-08T13:30:00Z  |  Percent |\n",
      "|  59.58230392156863  |  2023-06-08T13:31:00Z  |  Percent |\n"
     ]
    }
   ],
   "source": [
    "import datetime\n",
    "t0, t1 = [(datetime.datetime.now() + datetime.timedelta(minutes = e)).strftime(\"%Y-%m-%dT%H:%M:00\")\n",
    "                         for e in [-8, 1000]]; #t0, t1\n",
    "!aws cloudwatch get-metric-statistics --metric-name CPUUtilization --namespace AWS/EC2 --statistics Average --period 60 --start-time $t0 --end-time $t1 --query 'Datapoints' --output table | sort -k 3 -t \"|\" | tail -n +4"
   ]
  },
  {
   "cell_type": "code",
   "execution_count": null,
   "metadata": {},
   "outputs": [],
   "source": []
  },
  {
   "cell_type": "code",
   "execution_count": 170,
   "metadata": {},
   "outputs": [],
   "source": [
    "# !nvidia-smi"
   ]
  },
  {
   "cell_type": "code",
   "execution_count": null,
   "metadata": {},
   "outputs": [],
   "source": []
  },
  {
   "cell_type": "code",
   "execution_count": 193,
   "metadata": {},
   "outputs": [],
   "source": [
    "# # get all messages, read body\n",
    "# !aws sqs receive-message --queue-url \"$q\" --max-number-of-messages 10 | grep Body\n"
   ]
  },
  {
   "cell_type": "code",
   "execution_count": 35,
   "metadata": {},
   "outputs": [
    {
     "name": "stdout",
     "output_type": "stream",
     "text": [
      "|  172.31.87.92 |  i-00a7193c39a8fdba0  |  None |  running |  g4dn.xlarge  |\n",
      "|  172.31.95.31 |  i-0b4b15a6bad82fdf8  |  None |  running |  g4dn.xlarge  |\n",
      "|  172.31.87.111|  i-0203cc518aed40a83  |  None |  running |  g4dn.xlarge  |\n",
      "|  172.31.92.242|  i-0f095a732cdfec5f3  |  None |  running |  g4dn.xlarge  |\n",
      "|  172.31.22.116|  i-0394cfb0c92345c0e  |  None |  running |  g4dn.xlarge  |\n"
     ]
    }
   ],
   "source": [
    "#list ips of all g4dn.xlarge running instances\n",
    "!aws ec2 describe-instances  --query 'Reservations[*].Instances[*].{Instance:InstanceId,State:State.Name,Type:InstanceType,Name:Tags[?Key==`Name`]|[0].Value,IP:PrivateIpAddress}' --output table --filters \"Name=instance-state-name,Values=running\" | grep g4dn.xlarge "
   ]
  },
  {
   "cell_type": "code",
   "execution_count": null,
   "metadata": {},
   "outputs": [],
   "source": []
  },
  {
   "cell_type": "code",
   "execution_count": null,
   "metadata": {},
   "outputs": [],
   "source": []
  },
  {
   "cell_type": "code",
   "execution_count": 16,
   "metadata": {},
   "outputs": [],
   "source": [
    "# get a list instance ids of all running g4dn.xlarge instances, strip spaces\n",
    "r = !aws ec2 describe-instances  --query 'Reservations[*].Instances[*].{Instance:InstanceId,State:State.Name,Type:InstanceType,Name:Tags[?Key==`Name`]|[0].Value}' --output table --filters \"Name=instance-state-name,Values=running\" | grep g4dn.xlarge | cut -f 2 | cut -f 2 -d '|'  | tr -d ' '"
   ]
  },
  {
   "cell_type": "code",
   "execution_count": 17,
   "metadata": {},
   "outputs": [],
   "source": [
    "# list instance ids and launch time that are running (!!)\n",
    "eids = !aws ec2 describe-instances --instance-ids $r --query 'Reservations[*].Instances[*].{Instance:InstanceId,LaunchTime:LaunchTime}' --filters \"Name=instance-state-name,Values=running\" --output table\n",
    "# eids = !aws ec2 describe-instances --instance-ids $r --query 'Reservations[*].Instances[*].{Instance:InstanceId,LaunchTime:LaunchTime}' --output table\n"
   ]
  },
  {
   "cell_type": "code",
   "execution_count": 18,
   "metadata": {},
   "outputs": [
    {
     "data": {
      "text/plain": [
       "['-----------------------------------------------------',\n",
       " '|                 DescribeInstances                 |',\n",
       " '+----------------------+----------------------------+',\n",
       " '|       Instance       |        LaunchTime          |',\n",
       " '+----------------------+----------------------------+',\n",
       " '|  i-017626809f924b9d1 |  2023-06-08T03:00:13.000Z  |',\n",
       " '|  i-0bef5728bde0e3bdd |  2023-06-08T13:00:16.000Z  |',\n",
       " '|  i-0bdce070f8e78142a |  2023-06-08T14:13:59.000Z  |',\n",
       " '+----------------------+----------------------------+']"
      ]
     },
     "execution_count": 18,
     "metadata": {},
     "output_type": "execute_result"
    }
   ],
   "source": [
    "eids"
   ]
  },
  {
   "cell_type": "code",
   "execution_count": 19,
   "metadata": {},
   "outputs": [
    {
     "data": {
      "text/plain": [
       "([], 0, 9)"
      ]
     },
     "execution_count": 19,
     "metadata": {},
     "output_type": "execute_result"
    }
   ],
   "source": [
    "tids = [e[2:23].strip() for e in eids if 'T19:' in e ]\n",
    "tids, len(tids), len(eids)"
   ]
  },
  {
   "cell_type": "code",
   "execution_count": 20,
   "metadata": {},
   "outputs": [
    {
     "data": {
      "text/plain": [
       "[]"
      ]
     },
     "execution_count": 20,
     "metadata": {},
     "output_type": "execute_result"
    }
   ],
   "source": [
    "tids =[t for t in tids if 'dfsfsfssf' not in t]\n",
    "tids"
   ]
  },
  {
   "cell_type": "code",
   "execution_count": null,
   "metadata": {},
   "outputs": [],
   "source": []
  },
  {
   "cell_type": "code",
   "execution_count": 15,
   "metadata": {},
   "outputs": [],
   "source": [
    "# terminate tids\n",
    "for tid in tids:\n",
    "    !aws ec2 terminate-instances --instance-ids $tid > x.txt"
   ]
  },
  {
   "cell_type": "code",
   "execution_count": null,
   "metadata": {},
   "outputs": [],
   "source": []
  },
  {
   "cell_type": "code",
   "execution_count": null,
   "metadata": {},
   "outputs": [],
   "source": []
  },
  {
   "cell_type": "code",
   "execution_count": 56,
   "metadata": {},
   "outputs": [],
   "source": [
    "# # shut down all instances of g4dn.xlarge \n",
    "# !aws ec2 describe-instances  --query 'Reservations[*].Instances[*].{Instance:InstanceId,State:State.Name,Type:InstanceType,Name:Tags[?Key==`Name`]|[0].Value}' --output table --filters \"Name=instance-state-name,Values=running\" | grep g4dn.xlarge  | awk '{print $2}' | xargs -I {} aws ec2 terminate-instances --instance-ids {}"
   ]
  },
  {
   "cell_type": "code",
   "execution_count": 27,
   "metadata": {},
   "outputs": [
    {
     "name": "stdout",
     "output_type": "stream",
     "text": [
      "-----------------------------------------------------------\n",
      "|                   GetMetricStatistics                   |\n",
      "|       Average       |       Timestamp        |  Unit    |\n",
      "|  60.918750572256364 |  2023-06-07T09:55:00Z  |  Percent |\n",
      "|  60.85032289655552  |  2023-06-07T09:56:00Z  |  Percent |\n",
      "|  60.742548472459305 |  2023-06-07T09:57:00Z  |  Percent |\n",
      "|  60.68993857941246  |  2023-06-07T09:58:00Z  |  Percent |\n",
      "|  61.04315673635378  |  2023-06-07T09:59:00Z  |  Percent |\n",
      "|  61.50078807338495  |  2023-06-07T10:00:00Z  |  Percent |\n",
      "|  60.99721109860777  |  2023-06-07T10:01:00Z  |  Percent |\n",
      "|  60.58796024414846  |  2023-06-07T10:02:00Z  |  Percent |\n",
      "|  60.72956607378641  |  2023-06-07T10:03:00Z  |  Percent |\n"
     ]
    }
   ],
   "source": [
    "import datetime\n",
    "t0, t1 = [(datetime.datetime.now() + datetime.timedelta(minutes = e)).strftime(\"%Y-%m-%dT%H:%M:00\")\n",
    "                         for e in [-8, 1000]]; #t0, t1\n",
    "!aws cloudwatch get-metric-statistics --metric-name CPUUtilization --namespace AWS/EC2 --statistics Average --period 60 --start-time $t0 --end-time $t1 --query 'Datapoints' --output table | sort -k 3 -t \"|\" | tail -n +4"
   ]
  },
  {
   "cell_type": "code",
   "execution_count": null,
   "metadata": {},
   "outputs": [],
   "source": []
  },
  {
   "cell_type": "code",
   "execution_count": null,
   "metadata": {},
   "outputs": [],
   "source": []
  }
 ],
 "metadata": {
  "kernelspec": {
   "display_name": "Python 3 (ipykernel)",
   "language": "python",
   "name": "python3"
  },
  "language_info": {
   "codemirror_mode": {
    "name": "ipython",
    "version": 3
   },
   "file_extension": ".py",
   "mimetype": "text/x-python",
   "name": "python",
   "nbconvert_exporter": "python",
   "pygments_lexer": "ipython3",
   "version": "3.10.10"
  }
 },
 "nbformat": 4,
 "nbformat_minor": 4
}

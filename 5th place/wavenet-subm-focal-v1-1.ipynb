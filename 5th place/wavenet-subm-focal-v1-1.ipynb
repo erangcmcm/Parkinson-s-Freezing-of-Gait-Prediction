{
 "cells": [
  {
   "cell_type": "code",
   "execution_count": null,
   "id": "0d5233cf",
   "metadata": {
    "papermill": {
     "duration": 0.007047,
     "end_time": "2023-06-20T17:44:30.132522",
     "exception": false,
     "start_time": "2023-06-20T17:44:30.125475",
     "status": "completed"
    },
    "tags": []
   },
   "outputs": [],
   "source": []
  },
  {
   "cell_type": "code",
   "execution_count": 1,
   "id": "fe9f4b6a",
   "metadata": {
    "execution": {
     "iopub.execute_input": "2023-06-20T17:44:30.146588Z",
     "iopub.status.busy": "2023-06-20T17:44:30.146102Z",
     "iopub.status.idle": "2023-06-20T17:45:34.721164Z",
     "shell.execute_reply": "2023-06-20T17:45:34.720009Z"
    },
    "papermill": {
     "duration": 64.585526,
     "end_time": "2023-06-20T17:45:34.724304",
     "exception": false,
     "start_time": "2023-06-20T17:44:30.138778",
     "status": "completed"
    },
    "tags": []
   },
   "outputs": [
    {
     "name": "stdout",
     "output_type": "stream",
     "text": [
      "Processing /kaggle/input/audiomentations-v0290/resampy-0.4.2-py3-none-any.whl\r\n",
      "Requirement already satisfied: numpy>=1.17 in /opt/conda/lib/python3.10/site-packages (from resampy==0.4.2) (1.23.5)\r\n",
      "Requirement already satisfied: numba>=0.53 in /opt/conda/lib/python3.10/site-packages (from resampy==0.4.2) (0.56.4)\r\n",
      "Requirement already satisfied: llvmlite<0.40,>=0.39.0dev0 in /opt/conda/lib/python3.10/site-packages (from numba>=0.53->resampy==0.4.2) (0.39.1)\r\n",
      "Requirement already satisfied: setuptools in /opt/conda/lib/python3.10/site-packages (from numba>=0.53->resampy==0.4.2) (59.8.0)\r\n",
      "Installing collected packages: resampy\r\n",
      "Successfully installed resampy-0.4.2\r\n",
      "\u001b[33mWARNING: Running pip as the 'root' user can result in broken permissions and conflicting behaviour with the system package manager. It is recommended to use a virtual environment instead: https://pip.pypa.io/warnings/venv\u001b[0m\u001b[33m\r\n",
      "\u001b[0mProcessing /kaggle/input/audiomentations-v0290/librosa-0.9.2-py3-none-any.whl\r\n",
      "Requirement already satisfied: audioread>=2.1.9 in /opt/conda/lib/python3.10/site-packages (from librosa==0.9.2) (3.0.0)\r\n",
      "Requirement already satisfied: numpy>=1.17.0 in /opt/conda/lib/python3.10/site-packages (from librosa==0.9.2) (1.23.5)\r\n",
      "Requirement already satisfied: scipy>=1.2.0 in /opt/conda/lib/python3.10/site-packages (from librosa==0.9.2) (1.10.1)\r\n",
      "Requirement already satisfied: scikit-learn>=0.19.1 in /opt/conda/lib/python3.10/site-packages (from librosa==0.9.2) (1.2.2)\r\n",
      "Requirement already satisfied: joblib>=0.14 in /opt/conda/lib/python3.10/site-packages (from librosa==0.9.2) (1.2.0)\r\n",
      "Requirement already satisfied: decorator>=4.0.10 in /opt/conda/lib/python3.10/site-packages (from librosa==0.9.2) (5.1.1)\r\n",
      "Requirement already satisfied: resampy>=0.2.2 in /opt/conda/lib/python3.10/site-packages (from librosa==0.9.2) (0.4.2)\r\n",
      "Requirement already satisfied: numba>=0.45.1 in /opt/conda/lib/python3.10/site-packages (from librosa==0.9.2) (0.56.4)\r\n",
      "Requirement already satisfied: soundfile>=0.10.2 in /opt/conda/lib/python3.10/site-packages (from librosa==0.9.2) (0.12.1)\r\n",
      "Requirement already satisfied: pooch>=1.0 in /opt/conda/lib/python3.10/site-packages (from librosa==0.9.2) (1.6.0)\r\n",
      "Requirement already satisfied: packaging>=20.0 in /opt/conda/lib/python3.10/site-packages (from librosa==0.9.2) (21.3)\r\n",
      "Requirement already satisfied: llvmlite<0.40,>=0.39.0dev0 in /opt/conda/lib/python3.10/site-packages (from numba>=0.45.1->librosa==0.9.2) (0.39.1)\r\n",
      "Requirement already satisfied: setuptools in /opt/conda/lib/python3.10/site-packages (from numba>=0.45.1->librosa==0.9.2) (59.8.0)\r\n",
      "Requirement already satisfied: pyparsing!=3.0.5,>=2.0.2 in /opt/conda/lib/python3.10/site-packages (from packaging>=20.0->librosa==0.9.2) (3.0.9)\r\n",
      "Requirement already satisfied: appdirs>=1.3.0 in /opt/conda/lib/python3.10/site-packages (from pooch>=1.0->librosa==0.9.2) (1.4.4)\r\n",
      "Requirement already satisfied: requests>=2.19.0 in /opt/conda/lib/python3.10/site-packages (from pooch>=1.0->librosa==0.9.2) (2.28.2)\r\n",
      "Requirement already satisfied: threadpoolctl>=2.0.0 in /opt/conda/lib/python3.10/site-packages (from scikit-learn>=0.19.1->librosa==0.9.2) (3.1.0)\r\n",
      "Requirement already satisfied: cffi>=1.0 in /opt/conda/lib/python3.10/site-packages (from soundfile>=0.10.2->librosa==0.9.2) (1.15.1)\r\n",
      "Requirement already satisfied: pycparser in /opt/conda/lib/python3.10/site-packages (from cffi>=1.0->soundfile>=0.10.2->librosa==0.9.2) (2.21)\r\n",
      "Requirement already satisfied: charset-normalizer<4,>=2 in /opt/conda/lib/python3.10/site-packages (from requests>=2.19.0->pooch>=1.0->librosa==0.9.2) (2.1.1)\r\n",
      "Requirement already satisfied: idna<4,>=2.5 in /opt/conda/lib/python3.10/site-packages (from requests>=2.19.0->pooch>=1.0->librosa==0.9.2) (3.4)\r\n",
      "Requirement already satisfied: urllib3<1.27,>=1.21.1 in /opt/conda/lib/python3.10/site-packages (from requests>=2.19.0->pooch>=1.0->librosa==0.9.2) (1.26.15)\r\n",
      "Requirement already satisfied: certifi>=2017.4.17 in /opt/conda/lib/python3.10/site-packages (from requests>=2.19.0->pooch>=1.0->librosa==0.9.2) (2023.5.7)\r\n",
      "Installing collected packages: librosa\r\n",
      "  Attempting uninstall: librosa\r\n",
      "    Found existing installation: librosa 0.10.0.post2\r\n",
      "    Uninstalling librosa-0.10.0.post2:\r\n",
      "      Successfully uninstalled librosa-0.10.0.post2\r\n",
      "Successfully installed librosa-0.9.2\r\n",
      "\u001b[33mWARNING: Running pip as the 'root' user can result in broken permissions and conflicting behaviour with the system package manager. It is recommended to use a virtual environment instead: https://pip.pypa.io/warnings/venv\u001b[0m\u001b[33m\r\n",
      "\u001b[0m"
     ]
    }
   ],
   "source": [
    "!pip install /kaggle/input/audiomentations-v0290/resampy-0.4.2-py3-none-any.whl\n",
    "!pip install  /kaggle/input/audiomentations-v0290/librosa-0.9.2-py3-none-any.whl"
   ]
  },
  {
   "cell_type": "code",
   "execution_count": 2,
   "id": "e81975c7",
   "metadata": {
    "execution": {
     "iopub.execute_input": "2023-06-20T17:45:34.740282Z",
     "iopub.status.busy": "2023-06-20T17:45:34.739956Z",
     "iopub.status.idle": "2023-06-20T17:45:38.361098Z",
     "shell.execute_reply": "2023-06-20T17:45:38.360137Z"
    },
    "papermill": {
     "duration": 3.631742,
     "end_time": "2023-06-20T17:45:38.363297",
     "exception": false,
     "start_time": "2023-06-20T17:45:34.731555",
     "status": "completed"
    },
    "tags": []
   },
   "outputs": [
    {
     "data": {
      "text/plain": [
       "True"
      ]
     },
     "execution_count": 2,
     "metadata": {},
     "output_type": "execute_result"
    }
   ],
   "source": [
    "import torch\n",
    "torch.cuda.is_available()"
   ]
  },
  {
   "cell_type": "code",
   "execution_count": 3,
   "id": "3fa6239b",
   "metadata": {
    "execution": {
     "iopub.execute_input": "2023-06-20T17:45:38.381233Z",
     "iopub.status.busy": "2023-06-20T17:45:38.379536Z",
     "iopub.status.idle": "2023-06-20T17:45:41.011216Z",
     "shell.execute_reply": "2023-06-20T17:45:41.010234Z"
    },
    "papermill": {
     "duration": 2.64271,
     "end_time": "2023-06-20T17:45:41.013773",
     "exception": false,
     "start_time": "2023-06-20T17:45:38.371063",
     "status": "completed"
    },
    "scrolled": true,
    "tags": []
   },
   "outputs": [],
   "source": [
    "from pathlib import Path\n",
    "import random\n",
    "\n",
    "import numpy as np\n",
    "import pandas as pd\n",
    "import time\n",
    "import os\n",
    "import matplotlib.pyplot as plt\n",
    "# These transformations will be passed to our model class\n",
    "import torch\n",
    "import torch.nn.functional as F\n",
    "import torch.nn as nn\n",
    "import yaml\n",
    "from tqdm.auto import tqdm\n",
    "import glob\n",
    "from torch.distributions import Beta\n",
    "import librosa\n",
    "import gc"
   ]
  },
  {
   "cell_type": "code",
   "execution_count": 4,
   "id": "a4a2e2f4",
   "metadata": {
    "execution": {
     "iopub.execute_input": "2023-06-20T17:45:41.031130Z",
     "iopub.status.busy": "2023-06-20T17:45:41.030289Z",
     "iopub.status.idle": "2023-06-20T17:45:41.045260Z",
     "shell.execute_reply": "2023-06-20T17:45:41.044338Z"
    },
    "papermill": {
     "duration": 0.026208,
     "end_time": "2023-06-20T17:45:41.047477",
     "exception": false,
     "start_time": "2023-06-20T17:45:41.021269",
     "status": "completed"
    },
    "tags": []
   },
   "outputs": [],
   "source": [
    "from joblib import Parallel, delayed\n",
    "import os\n",
    "from os.path import exists\n",
    "\n",
    "WAV_SIZE=20000\n",
    "STEP_SIZE=500\n",
    "TIMES_REAL=4\n",
    "TIMES_TRAIN=8\n",
    "is_mixed_precision = True\n",
    "TARGET_COLS = ['StartHesitation', 'Turn', 'Walking']\n",
    "\n",
    "class GaitDataset(torch.utils.data.Dataset):\n",
    "\n",
    "    def __init__(self, df, is_train=False,transforms=None):\n",
    "        self.is_train = is_train\n",
    "        self.data = df\n",
    "\n",
    "    def __len__(self):\n",
    "        if self.is_train:\n",
    "            return len(self.data)*TIMES_TRAIN\n",
    "        else:\n",
    "            return len(self.data)\n",
    "    \n",
    "    \n",
    "    def __getitem__(self, idx):\n",
    "        g0=9.80665\n",
    "        row = self.data.iloc[idx]\n",
    "        data = pd.read_csv(row.filename)\n",
    "        \n",
    "        print(row.Id, data.shape)\n",
    "        \n",
    "        sig = data[[ 'AccV', 'AccML', 'AccAP']].values\n",
    "        \n",
    "        if row.type == 0:\n",
    "            sigs = []\n",
    "            for c in range(3):\n",
    "                sigs.append(librosa.resample(sig[:,c],orig_sr=128,target_sr=100))\n",
    "            wav = np.stack(sigs,axis=1)\n",
    "        else:\n",
    "            wav = sig*g0\n",
    "        \n",
    "        print('after resampling',wav.shape)\n",
    "        wav = wav/40.\n",
    "        act_len = len(wav)\n",
    "        nchunk = len(wav)//WAV_SIZE\n",
    "        rem_size = len(wav) - nchunk*WAV_SIZE\n",
    "        arrs = []\n",
    "        for chk in range(nchunk):\n",
    "            arrs.append(wav[chk*WAV_SIZE:(chk+1)*WAV_SIZE])\n",
    "\n",
    "        \n",
    "        if rem_size > 0:\n",
    "            last_arr = wav[-WAV_SIZE:]\n",
    "            arrs.append(last_arr)\n",
    "            \n",
    "        wav = np.stack(arrs,axis=0)\n",
    "        \n",
    "        print('wav',wav.shape,rem_size)\n",
    "        \n",
    "        sample = {\"wav\": wav, \"Id\":row.Id, 'type': row.type, 'df_length':len(data), \n",
    "                  'act_len':act_len,'nchunk':nchunk,'rem_size':rem_size}\n",
    "\n",
    "        return sample\n",
    "        \n",
    "\n",
    "def getDataLoader(params,val_x):\n",
    "    \n",
    "    val_dataset = GaitDataset(df=val_x, transforms=None)\n",
    "\n",
    "    valDataLoader = torch.utils.data.DataLoader(\n",
    "                        val_dataset,\n",
    "                        batch_size=1,\n",
    "                        num_workers=params['num_workers'],\n",
    "                        shuffle=False,\n",
    "                        pin_memory=False,\n",
    "                    )\n",
    "    \n",
    "    return valDataLoader"
   ]
  },
  {
   "cell_type": "code",
   "execution_count": 5,
   "id": "8c955faf",
   "metadata": {
    "execution": {
     "iopub.execute_input": "2023-06-20T17:45:41.063288Z",
     "iopub.status.busy": "2023-06-20T17:45:41.062986Z",
     "iopub.status.idle": "2023-06-20T17:45:41.078769Z",
     "shell.execute_reply": "2023-06-20T17:45:41.077962Z"
    },
    "papermill": {
     "duration": 0.025808,
     "end_time": "2023-06-20T17:45:41.080689",
     "exception": false,
     "start_time": "2023-06-20T17:45:41.054881",
     "status": "completed"
    },
    "tags": []
   },
   "outputs": [],
   "source": [
    "class Wave_Block(nn.Module):\n",
    "\n",
    "    def __init__(self, in_channels, out_channels, dilation_rates, kernel_size):\n",
    "        super(Wave_Block, self).__init__()\n",
    "        self.num_rates = dilation_rates\n",
    "        self.convs = nn.ModuleList()\n",
    "        self.filter_convs = nn.ModuleList()\n",
    "        self.gate_convs = nn.ModuleList()\n",
    "\n",
    "        self.convs.append(nn.Conv1d(in_channels, out_channels, kernel_size=1))\n",
    "        dilation_rates = [2 ** i for i in range(dilation_rates)]\n",
    "        for dilation_rate in dilation_rates:\n",
    "            self.filter_convs.append(\n",
    "                nn.Conv1d(out_channels, out_channels, kernel_size=kernel_size, padding=int((dilation_rate*(kernel_size-1))/2), dilation=dilation_rate))\n",
    "            self.gate_convs.append(\n",
    "                nn.Conv1d(out_channels, out_channels, kernel_size=kernel_size, padding=int((dilation_rate*(kernel_size-1))/2), dilation=dilation_rate))\n",
    "            self.convs.append(nn.Conv1d(out_channels, out_channels, kernel_size=1))\n",
    "\n",
    "    def forward(self, x):\n",
    "        x = self.convs[0](x)\n",
    "        res = x\n",
    "        for i in range(self.num_rates):\n",
    "            x = torch.tanh(self.filter_convs[i](x)) * torch.sigmoid(self.gate_convs[i](x))\n",
    "            x = self.convs[i + 1](x)\n",
    "            res = res + x\n",
    "        return res\n",
    "# detail \n",
    "class Classifier(nn.Module):\n",
    "    def __init__(self, inch=3, kernel_size=3):\n",
    "        super().__init__()\n",
    "        self.LSTM = nn.GRU(input_size=128, hidden_size=128, num_layers=4, \n",
    "                           batch_first=True, bidirectional=True)\n",
    "        \n",
    "        #self.wave_block1 = Wave_Block(inch, 16, 12, kernel_size)\n",
    "        self.wave_block2 = Wave_Block(inch, 32, 8, kernel_size)\n",
    "        self.wave_block3 = Wave_Block(32, 64, 4, kernel_size)\n",
    "        self.wave_block4 = Wave_Block(64, 128, 1, kernel_size)\n",
    "        self.fc1 = nn.Linear(256, 3)\n",
    "\n",
    "    def forward(self, x):\n",
    "        x = x.permute(0, 2, 1)\n",
    "        #x = self.wave_block1(x)\n",
    "        x = self.wave_block2(x)\n",
    "        x = self.wave_block3(x)\n",
    "\n",
    "        x = self.wave_block4(x)\n",
    "        x = x.permute(0, 2, 1)\n",
    "        x, h = self.LSTM(x)\n",
    "        x = self.fc1(x)\n",
    "    \n",
    "        \n",
    "        return x,x,x"
   ]
  },
  {
   "cell_type": "code",
   "execution_count": 6,
   "id": "d41bd36e",
   "metadata": {
    "execution": {
     "iopub.execute_input": "2023-06-20T17:45:41.096492Z",
     "iopub.status.busy": "2023-06-20T17:45:41.096221Z",
     "iopub.status.idle": "2023-06-20T17:45:41.101748Z",
     "shell.execute_reply": "2023-06-20T17:45:41.100853Z"
    },
    "papermill": {
     "duration": 0.01588,
     "end_time": "2023-06-20T17:45:41.104017",
     "exception": false,
     "start_time": "2023-06-20T17:45:41.088137",
     "status": "completed"
    },
    "tags": []
   },
   "outputs": [],
   "source": [
    "import torch.cuda.amp as amp\n",
    "class AmpNet(Classifier):\n",
    "    \n",
    "    def __init__(self,params):\n",
    "        super(AmpNet, self).__init__()\n",
    "    @torch.cuda.amp.autocast()\n",
    "    def forward(self,*args):\n",
    "        return super(AmpNet, self).forward(*args)\n",
    "\n",
    "is_mixed_precision = True  #True #False"
   ]
  },
  {
   "cell_type": "code",
   "execution_count": 7,
   "id": "e9775d33",
   "metadata": {
    "execution": {
     "iopub.execute_input": "2023-06-20T17:45:41.119098Z",
     "iopub.status.busy": "2023-06-20T17:45:41.118823Z",
     "iopub.status.idle": "2023-06-20T17:45:41.126769Z",
     "shell.execute_reply": "2023-06-20T17:45:41.125930Z"
    },
    "papermill": {
     "duration": 0.017865,
     "end_time": "2023-06-20T17:45:41.128791",
     "exception": false,
     "start_time": "2023-06-20T17:45:41.110926",
     "status": "completed"
    },
    "tags": []
   },
   "outputs": [],
   "source": [
    "def getOptimzersScheduler(model,params,steps_in_epoch=25,pct_start=0.1):\n",
    "    \n",
    "    \n",
    "    mdl_parameters = [\n",
    "                {'params': model.parameters(), 'lr': 1e-4},\n",
    "            ]\n",
    "    \n",
    "    optimizer = torch.optim.Adam(mdl_parameters, lr=params['learning_rate'][0])\n",
    "    \n",
    "    scheduler = torch.optim.lr_scheduler.OneCycleLR(optimizer,steps_per_epoch=1,\n",
    "                                                    pct_start=pct_start,\n",
    "                                                    max_lr=params['learning_rate'],\n",
    "                                                    epochs  = params['max_epochs'], \n",
    "                                                    div_factor = params['div_factor'], \n",
    "                                                    final_div_factor=params['final_div_factor'],\n",
    "                                                    verbose=True)\n",
    "    \n",
    "    return optimizer,scheduler,False"
   ]
  },
  {
   "cell_type": "code",
   "execution_count": 8,
   "id": "392e6dc0",
   "metadata": {
    "execution": {
     "iopub.execute_input": "2023-06-20T17:45:41.144227Z",
     "iopub.status.busy": "2023-06-20T17:45:41.143965Z",
     "iopub.status.idle": "2023-06-20T17:45:41.149386Z",
     "shell.execute_reply": "2023-06-20T17:45:41.148404Z"
    },
    "papermill": {
     "duration": 0.015583,
     "end_time": "2023-06-20T17:45:41.151663",
     "exception": false,
     "start_time": "2023-06-20T17:45:41.136080",
     "status": "completed"
    },
    "tags": []
   },
   "outputs": [],
   "source": [
    "def save_model(epoch,model,ckpt_path='./',name='',val_rmse=0):\n",
    "    path = os.path.join(ckpt_path, '{}_{}.pth'.format(name, epoch))\n",
    "    torch.save(model.state_dict(), path, _use_new_zipfile_serialization=False)\n",
    "    \n",
    "def load_model(model,ckpt_path):\n",
    "    state = torch.load(ckpt_path)\n",
    "    print(model.load_state_dict(state,strict=False))\n",
    "    return model"
   ]
  },
  {
   "cell_type": "code",
   "execution_count": 9,
   "id": "f9dd1038",
   "metadata": {
    "execution": {
     "iopub.execute_input": "2023-06-20T17:45:41.167307Z",
     "iopub.status.busy": "2023-06-20T17:45:41.167055Z",
     "iopub.status.idle": "2023-06-20T17:45:44.082202Z",
     "shell.execute_reply": "2023-06-20T17:45:44.080781Z"
    },
    "papermill": {
     "duration": 2.926071,
     "end_time": "2023-06-20T17:45:44.085160",
     "exception": false,
     "start_time": "2023-06-20T17:45:41.159089",
     "status": "completed"
    },
    "tags": []
   },
   "outputs": [],
   "source": [
    "CLASS_WT = torch.tensor([0.4,1,1,1]).float().cuda()"
   ]
  },
  {
   "cell_type": "code",
   "execution_count": 10,
   "id": "6e143b7c",
   "metadata": {
    "execution": {
     "iopub.execute_input": "2023-06-20T17:45:44.103326Z",
     "iopub.status.busy": "2023-06-20T17:45:44.102276Z",
     "iopub.status.idle": "2023-06-20T17:45:44.111448Z",
     "shell.execute_reply": "2023-06-20T17:45:44.110627Z"
    },
    "papermill": {
     "duration": 0.020537,
     "end_time": "2023-06-20T17:45:44.113603",
     "exception": false,
     "start_time": "2023-06-20T17:45:44.093066",
     "status": "completed"
    },
    "tags": []
   },
   "outputs": [],
   "source": [
    "def validation_step(model, batch, batch_idx):\n",
    "    # Load images and labels\n",
    "    x = batch[\"wav\"].float()\n",
    "    if GPU:\n",
    "        x= x.cuda(non_blocking=True)\n",
    "    x = x[0]\n",
    "    \n",
    "    print('x',x.shape)\n",
    "    # Forward pass & softmax\n",
    "    \n",
    "    flat_pred = np.zeros((batch['act_len'][0],3))\n",
    "    with torch.no_grad():\n",
    "        if is_mixed_precision:\n",
    "            with amp.autocast():\n",
    "                preds, _, _ = model(x)\n",
    "                preds = preds\n",
    "                \n",
    "                print('preds',preds.shape)\n",
    "     \n",
    "    for i in range(batch['nchunk'][0]):\n",
    "        flat_pred[i*WAV_SIZE:(i+1)*WAV_SIZE] = torch.sigmoid(preds[i]).detach().cpu().numpy()\n",
    "        \n",
    "    rem_sz = batch['rem_size'][0]\n",
    "    if rem_sz > 0:\n",
    "        flat_pred[-rem_sz:] = torch.sigmoid(preds[-1]).detach().cpu().numpy()[-rem_sz:]\n",
    "\n",
    "    return flat_pred"
   ]
  },
  {
   "cell_type": "code",
   "execution_count": 11,
   "id": "2a085fd6",
   "metadata": {
    "execution": {
     "iopub.execute_input": "2023-06-20T17:45:44.129030Z",
     "iopub.status.busy": "2023-06-20T17:45:44.128729Z",
     "iopub.status.idle": "2023-06-20T17:45:44.139534Z",
     "shell.execute_reply": "2023-06-20T17:45:44.138631Z"
    },
    "papermill": {
     "duration": 0.020802,
     "end_time": "2023-06-20T17:45:44.141457",
     "exception": false,
     "start_time": "2023-06-20T17:45:44.120655",
     "status": "completed"
    },
    "tags": []
   },
   "outputs": [],
   "source": [
    "from sklearn.metrics import roc_auc_score,f1_score,precision_score,average_precision_score\n",
    "        \n",
    "\n",
    "def test_epoch(model,valDataLoader):\n",
    "\n",
    "    total_loss=0\n",
    "    total_step=0\n",
    "    model.eval()\n",
    "    pred_dfs = []\n",
    "\n",
    "    pbar=tqdm(enumerate(valDataLoader),total=len(valDataLoader))\n",
    "    for bi,data in pbar :\n",
    "        pred = validation_step(model,data,bi)\n",
    "        \n",
    "        if data['type'][0] == 0:\n",
    "            preds = []\n",
    "            for c in range(3):\n",
    "                preds.append(librosa.resample(pred[:,c].astype(np.float32),orig_sr=100,target_sr=128))\n",
    "                \n",
    "            pred = np.stack(preds,axis=1)\n",
    "            pred = np.clip(pred,0,1)\n",
    "            \n",
    "            pred1 = np.zeros((data['df_length'][0],3))\n",
    "            pred1[0:data['df_length'][0]] = pred[0:data['df_length'][0]]\n",
    "            pred=pred1\n",
    "        \n",
    "        total_step+=1\n",
    "        preds_df = pd.DataFrame(pred)\n",
    "        print('preds_df',preds_df.shape)\n",
    "        preds_df.columns = TARGET_COLS\n",
    "        preds_df['Id'] = data['Id'][0]\n",
    "        preds_df['Id'] = preds_df['Id'] + '_' + preds_df.index.values.astype(str)\n",
    "\n",
    "        pred_dfs.append(preds_df)\n",
    "      \n",
    "    print('len preds_df',len(preds))\n",
    "    preds = pd.concat(pred_dfs)\n",
    "\n",
    "    print('preds',preds.shape)\n",
    "    return preds[TARGET_COLS] , preds[['Id']]"
   ]
  },
  {
   "cell_type": "code",
   "execution_count": 12,
   "id": "fe6be025",
   "metadata": {
    "execution": {
     "iopub.execute_input": "2023-06-20T17:45:44.157833Z",
     "iopub.status.busy": "2023-06-20T17:45:44.157077Z",
     "iopub.status.idle": "2023-06-20T17:45:44.164963Z",
     "shell.execute_reply": "2023-06-20T17:45:44.164149Z"
    },
    "papermill": {
     "duration": 0.018066,
     "end_time": "2023-06-20T17:45:44.166887",
     "exception": false,
     "start_time": "2023-06-20T17:45:44.148821",
     "status": "completed"
    },
    "tags": []
   },
   "outputs": [],
   "source": [
    "GPU=True\n",
    "def test_loop(params,test_x,ckpt_paths):\n",
    "    \n",
    "    #create model\n",
    "    models = []\n",
    "    \n",
    "    for c in ckpt_paths:\n",
    "        model = AmpNet(params).cuda()\n",
    "        #load model\n",
    "        model = load_model(model,c)\n",
    "        model.eval()\n",
    "        models.append(model)\n",
    "    #get loaders\n",
    "    valDataLoader = getDataLoader(params,test_x)\n",
    "    \n",
    "    preds_dfs = []\n",
    "    id_df = None\n",
    "    for m in models:\n",
    "        df, id_df = test_epoch(m,valDataLoader)\n",
    "        preds_dfs.append(df)\n",
    "    \n",
    "    preds = preds_dfs[0].copy()\n",
    "    for pred_df in preds_dfs:\n",
    "        for c in TARGET_COLS:\n",
    "            preds[c] += pred_df[c]\n",
    "        \n",
    "    for c in TARGET_COLS:\n",
    "        preds[c] /= len(models)\n",
    "        \n",
    "    preds['Id'] = id_df\n",
    "    return preds"
   ]
  },
  {
   "cell_type": "code",
   "execution_count": 13,
   "id": "f8ddfb9f",
   "metadata": {
    "execution": {
     "iopub.execute_input": "2023-06-20T17:45:44.182461Z",
     "iopub.status.busy": "2023-06-20T17:45:44.181726Z",
     "iopub.status.idle": "2023-06-20T17:45:44.187141Z",
     "shell.execute_reply": "2023-06-20T17:45:44.186297Z"
    },
    "papermill": {
     "duration": 0.015236,
     "end_time": "2023-06-20T17:45:44.189129",
     "exception": false,
     "start_time": "2023-06-20T17:45:44.173893",
     "status": "completed"
    },
    "tags": []
   },
   "outputs": [],
   "source": [
    "hparams = {\n",
    "    # Optional hparams\n",
    "    \"backbone\": 'wavenet_4096', #'', #'tf_efficientnetv2_b2',\n",
    "    \"learning_rate\": [5e-4],\n",
    "    \"max_epochs\": 121,\n",
    "    \"batch_size\": 8,\n",
    "    \"num_workers\": 0,\n",
    "    \"val_sanity_checks\": 0,\n",
    "    \"fast_dev_run\": False,\n",
    "    \"output_path\": f\"\",\n",
    "    \"gpu\": torch.cuda.is_available(),\n",
    "    'div_factor':10,\n",
    "    'final_div_factor':20,\n",
    "}"
   ]
  },
  {
   "cell_type": "code",
   "execution_count": 14,
   "id": "3bb25529",
   "metadata": {
    "execution": {
     "iopub.execute_input": "2023-06-20T17:45:44.205196Z",
     "iopub.status.busy": "2023-06-20T17:45:44.204467Z",
     "iopub.status.idle": "2023-06-20T17:45:44.209058Z",
     "shell.execute_reply": "2023-06-20T17:45:44.208212Z"
    },
    "papermill": {
     "duration": 0.014444,
     "end_time": "2023-06-20T17:45:44.210839",
     "exception": false,
     "start_time": "2023-06-20T17:45:44.196395",
     "status": "completed"
    },
    "tags": []
   },
   "outputs": [],
   "source": [
    "scaler = amp.GradScaler()"
   ]
  },
  {
   "cell_type": "code",
   "execution_count": 15,
   "id": "c1362086",
   "metadata": {
    "execution": {
     "iopub.execute_input": "2023-06-20T17:45:44.226516Z",
     "iopub.status.busy": "2023-06-20T17:45:44.225915Z",
     "iopub.status.idle": "2023-06-20T17:45:44.232761Z",
     "shell.execute_reply": "2023-06-20T17:45:44.231912Z"
    },
    "papermill": {
     "duration": 0.016848,
     "end_time": "2023-06-20T17:45:44.234866",
     "exception": false,
     "start_time": "2023-06-20T17:45:44.218018",
     "status": "completed"
    },
    "tags": []
   },
   "outputs": [],
   "source": [
    "import random\n",
    "seed=42\n",
    "def set_seed(seed=42):\n",
    "    torch.manual_seed(seed)\n",
    "    torch.cuda.manual_seed(seed)\n",
    "    torch.backends.cudnn.deterministic = False\n",
    "    torch.use_deterministic_algorithms = True\n",
    "    random.seed(0)\n",
    "    np.random.seed(0)\n",
    "set_seed(seed)\n",
    "\n"
   ]
  },
  {
   "cell_type": "code",
   "execution_count": 16,
   "id": "da609a5f",
   "metadata": {
    "execution": {
     "iopub.execute_input": "2023-06-20T17:45:44.250463Z",
     "iopub.status.busy": "2023-06-20T17:45:44.249722Z",
     "iopub.status.idle": "2023-06-20T17:45:44.270694Z",
     "shell.execute_reply": "2023-06-20T17:45:44.269739Z"
    },
    "papermill": {
     "duration": 0.031004,
     "end_time": "2023-06-20T17:45:44.272767",
     "exception": false,
     "start_time": "2023-06-20T17:45:44.241763",
     "status": "completed"
    },
    "tags": []
   },
   "outputs": [],
   "source": [
    "import glob\n",
    "import os\n",
    "import pandas as pd\n",
    "\n",
    "tdcsfog_files = glob.glob('/kaggle/input/tlvmc-parkinsons-freezing-gait-prediction/test/tdcsfog/*.csv')\n",
    "tdcsfog_df = pd.DataFrame({'filename':tdcsfog_files, 'type':0} )\n",
    "defog_files = glob.glob('/kaggle/input/tlvmc-parkinsons-freezing-gait-prediction/test/defog/*.csv')\n",
    "defog_df = pd.DataFrame({'filename':defog_files, 'type':1} )\n",
    "\n",
    "fog_data = pd.concat([tdcsfog_df,defog_df]).reset_index(drop=True)\n",
    "fog_data['Id'] = fog_data.filename.apply(lambda f:os.path.basename(f).replace('.csv',''))"
   ]
  },
  {
   "cell_type": "code",
   "execution_count": 17,
   "id": "0e41e2b2",
   "metadata": {
    "execution": {
     "iopub.execute_input": "2023-06-20T17:45:44.289616Z",
     "iopub.status.busy": "2023-06-20T17:45:44.288142Z",
     "iopub.status.idle": "2023-06-20T17:45:44.300988Z",
     "shell.execute_reply": "2023-06-20T17:45:44.299996Z"
    },
    "papermill": {
     "duration": 0.023012,
     "end_time": "2023-06-20T17:45:44.303233",
     "exception": false,
     "start_time": "2023-06-20T17:45:44.280221",
     "status": "completed"
    },
    "tags": []
   },
   "outputs": [
    {
     "data": {
      "text/html": [
       "<div>\n",
       "<style scoped>\n",
       "    .dataframe tbody tr th:only-of-type {\n",
       "        vertical-align: middle;\n",
       "    }\n",
       "\n",
       "    .dataframe tbody tr th {\n",
       "        vertical-align: top;\n",
       "    }\n",
       "\n",
       "    .dataframe thead th {\n",
       "        text-align: right;\n",
       "    }\n",
       "</style>\n",
       "<table border=\"1\" class=\"dataframe\">\n",
       "  <thead>\n",
       "    <tr style=\"text-align: right;\">\n",
       "      <th></th>\n",
       "      <th>filename</th>\n",
       "      <th>type</th>\n",
       "      <th>Id</th>\n",
       "    </tr>\n",
       "  </thead>\n",
       "  <tbody>\n",
       "    <tr>\n",
       "      <th>0</th>\n",
       "      <td>/kaggle/input/tlvmc-parkinsons-freezing-gait-p...</td>\n",
       "      <td>0</td>\n",
       "      <td>003f117e14</td>\n",
       "    </tr>\n",
       "    <tr>\n",
       "      <th>1</th>\n",
       "      <td>/kaggle/input/tlvmc-parkinsons-freezing-gait-p...</td>\n",
       "      <td>1</td>\n",
       "      <td>02ab235146</td>\n",
       "    </tr>\n",
       "  </tbody>\n",
       "</table>\n",
       "</div>"
      ],
      "text/plain": [
       "                                            filename  type          Id\n",
       "0  /kaggle/input/tlvmc-parkinsons-freezing-gait-p...     0  003f117e14\n",
       "1  /kaggle/input/tlvmc-parkinsons-freezing-gait-p...     1  02ab235146"
      ]
     },
     "execution_count": 17,
     "metadata": {},
     "output_type": "execute_result"
    }
   ],
   "source": [
    "fog_data"
   ]
  },
  {
   "cell_type": "code",
   "execution_count": 18,
   "id": "604f7f8c",
   "metadata": {
    "execution": {
     "iopub.execute_input": "2023-06-20T17:45:44.320338Z",
     "iopub.status.busy": "2023-06-20T17:45:44.319901Z",
     "iopub.status.idle": "2023-06-20T17:45:51.299979Z",
     "shell.execute_reply": "2023-06-20T17:45:51.298789Z"
    },
    "papermill": {
     "duration": 6.991383,
     "end_time": "2023-06-20T17:45:51.302789",
     "exception": false,
     "start_time": "2023-06-20T17:45:44.311406",
     "status": "completed"
    },
    "tags": []
   },
   "outputs": [
    {
     "name": "stdout",
     "output_type": "stream",
     "text": [
      "<All keys matched successfully>\n"
     ]
    },
    {
     "data": {
      "application/vnd.jupyter.widget-view+json": {
       "model_id": "61358c76555e4af6a00815b717a89584",
       "version_major": 2,
       "version_minor": 0
      },
      "text/plain": [
       "  0%|          | 0/2 [00:00<?, ?it/s]"
      ]
     },
     "metadata": {},
     "output_type": "display_data"
    },
    {
     "name": "stdout",
     "output_type": "stream",
     "text": [
      "003f117e14 (4682, 4)\n",
      "after resampling (3658, 3)\n",
      "wav (1, 3658, 3) 3658\n",
      "x torch.Size([1, 3658, 3])\n",
      "preds torch.Size([1, 3658, 3])\n",
      "preds_df (4682, 3)\n",
      "02ab235146 (281688, 4)\n",
      "after resampling (281688, 3)\n",
      "wav (15, 20000, 3) 1688\n",
      "x torch.Size([15, 20000, 3])\n",
      "preds torch.Size([15, 20000, 3])\n",
      "preds_df (281688, 3)\n",
      "len preds_df 3\n",
      "preds (286370, 4)\n"
     ]
    }
   ],
   "source": [
    "import gc\n",
    "version='1'\n",
    "fn=0\n",
    "\n",
    "ckpt_paths = ['/kaggle/input/wavenet4096-v1/wavenet_4096-fold0_48.pth', \n",
    "             '/kaggle/input/wavenet4096-v1/wavenet_4096-fold1_43.pth',\n",
    "             '/kaggle/input/wavenet4096-v1/wavenet_4096-fold2_72.pth',\n",
    "             '/kaggle/input/wavenet4096-v1/wavenet_4096-fold3_23.pth',\n",
    "             '/kaggle/input/wavenet4096-v1/wavenet_4096-fold4_36.pth',\n",
    "              '/kaggle/input/gait-wavenet-v2/wavenet_4096-fold0_58.pth',\n",
    "             '/kaggle/input/gait-wavenet-v2/wavenet_4096-fold1_36.pth',\n",
    "             '/kaggle/input/gait-wavenet-v2/wavenet_4096-fold2_50.pth',\n",
    "            '/kaggle/input/gait-wavenet-v2/wavenet_4096-fold3_17.pth',\n",
    "              '/kaggle/input/gait-wavenet-v2/wavenet_4096-fold4_12.pth',\n",
    "            ]\n",
    "\n",
    "ckpt_paths = [#'/kaggle/input/gait-wavenet-focal/wavenet_4096-fold0_18.pth',\n",
    "            '/kaggle/input/gait-wavenet-focal/wavenet_4096-fold1_54.pth',\n",
    "            #'/kaggle/input/gait-wavenet-focal/wavenet_4096-fold2_19.pth',\n",
    "            #'/kaggle/input/gait-wavenet-focal/wavenet_4096-fold3_21.pth',\n",
    "            #'/kaggle/input/gait-wavenet-focal/wavenet_4096-fold4_45.pth'\n",
    "            ]\n",
    "\n",
    "subm = test_loop(hparams,fog_data,ckpt_paths)"
   ]
  },
  {
   "cell_type": "code",
   "execution_count": 19,
   "id": "8a73c2f6",
   "metadata": {
    "execution": {
     "iopub.execute_input": "2023-06-20T17:45:51.320498Z",
     "iopub.status.busy": "2023-06-20T17:45:51.320206Z",
     "iopub.status.idle": "2023-06-20T17:45:51.334745Z",
     "shell.execute_reply": "2023-06-20T17:45:51.333703Z"
    },
    "papermill": {
     "duration": 0.025513,
     "end_time": "2023-06-20T17:45:51.336659",
     "exception": false,
     "start_time": "2023-06-20T17:45:51.311146",
     "status": "completed"
    },
    "tags": []
   },
   "outputs": [
    {
     "data": {
      "text/html": [
       "<div>\n",
       "<style scoped>\n",
       "    .dataframe tbody tr th:only-of-type {\n",
       "        vertical-align: middle;\n",
       "    }\n",
       "\n",
       "    .dataframe tbody tr th {\n",
       "        vertical-align: top;\n",
       "    }\n",
       "\n",
       "    .dataframe thead th {\n",
       "        text-align: right;\n",
       "    }\n",
       "</style>\n",
       "<table border=\"1\" class=\"dataframe\">\n",
       "  <thead>\n",
       "    <tr style=\"text-align: right;\">\n",
       "      <th></th>\n",
       "      <th>StartHesitation</th>\n",
       "      <th>Turn</th>\n",
       "      <th>Walking</th>\n",
       "      <th>Id</th>\n",
       "    </tr>\n",
       "  </thead>\n",
       "  <tbody>\n",
       "    <tr>\n",
       "      <th>277688</th>\n",
       "      <td>0.008835</td>\n",
       "      <td>0.284180</td>\n",
       "      <td>0.222534</td>\n",
       "      <td>02ab235146_277688</td>\n",
       "    </tr>\n",
       "    <tr>\n",
       "      <th>277689</th>\n",
       "      <td>0.008904</td>\n",
       "      <td>0.281006</td>\n",
       "      <td>0.220581</td>\n",
       "      <td>02ab235146_277689</td>\n",
       "    </tr>\n",
       "    <tr>\n",
       "      <th>277690</th>\n",
       "      <td>0.008904</td>\n",
       "      <td>0.277832</td>\n",
       "      <td>0.218262</td>\n",
       "      <td>02ab235146_277690</td>\n",
       "    </tr>\n",
       "    <tr>\n",
       "      <th>277691</th>\n",
       "      <td>0.008904</td>\n",
       "      <td>0.274902</td>\n",
       "      <td>0.216431</td>\n",
       "      <td>02ab235146_277691</td>\n",
       "    </tr>\n",
       "    <tr>\n",
       "      <th>277692</th>\n",
       "      <td>0.008865</td>\n",
       "      <td>0.271484</td>\n",
       "      <td>0.214111</td>\n",
       "      <td>02ab235146_277692</td>\n",
       "    </tr>\n",
       "    <tr>\n",
       "      <th>...</th>\n",
       "      <td>...</td>\n",
       "      <td>...</td>\n",
       "      <td>...</td>\n",
       "      <td>...</td>\n",
       "    </tr>\n",
       "    <tr>\n",
       "      <th>281683</th>\n",
       "      <td>0.207520</td>\n",
       "      <td>0.039215</td>\n",
       "      <td>0.050262</td>\n",
       "      <td>02ab235146_281683</td>\n",
       "    </tr>\n",
       "    <tr>\n",
       "      <th>281684</th>\n",
       "      <td>0.219849</td>\n",
       "      <td>0.041138</td>\n",
       "      <td>0.051117</td>\n",
       "      <td>02ab235146_281684</td>\n",
       "    </tr>\n",
       "    <tr>\n",
       "      <th>281685</th>\n",
       "      <td>0.236816</td>\n",
       "      <td>0.044067</td>\n",
       "      <td>0.054443</td>\n",
       "      <td>02ab235146_281685</td>\n",
       "    </tr>\n",
       "    <tr>\n",
       "      <th>281686</th>\n",
       "      <td>0.262207</td>\n",
       "      <td>0.048950</td>\n",
       "      <td>0.062744</td>\n",
       "      <td>02ab235146_281686</td>\n",
       "    </tr>\n",
       "    <tr>\n",
       "      <th>281687</th>\n",
       "      <td>0.308838</td>\n",
       "      <td>0.057861</td>\n",
       "      <td>0.078857</td>\n",
       "      <td>02ab235146_281687</td>\n",
       "    </tr>\n",
       "  </tbody>\n",
       "</table>\n",
       "<p>4000 rows × 4 columns</p>\n",
       "</div>"
      ],
      "text/plain": [
       "        StartHesitation      Turn   Walking                 Id\n",
       "277688         0.008835  0.284180  0.222534  02ab235146_277688\n",
       "277689         0.008904  0.281006  0.220581  02ab235146_277689\n",
       "277690         0.008904  0.277832  0.218262  02ab235146_277690\n",
       "277691         0.008904  0.274902  0.216431  02ab235146_277691\n",
       "277692         0.008865  0.271484  0.214111  02ab235146_277692\n",
       "...                 ...       ...       ...                ...\n",
       "281683         0.207520  0.039215  0.050262  02ab235146_281683\n",
       "281684         0.219849  0.041138  0.051117  02ab235146_281684\n",
       "281685         0.236816  0.044067  0.054443  02ab235146_281685\n",
       "281686         0.262207  0.048950  0.062744  02ab235146_281686\n",
       "281687         0.308838  0.057861  0.078857  02ab235146_281687\n",
       "\n",
       "[4000 rows x 4 columns]"
      ]
     },
     "execution_count": 19,
     "metadata": {},
     "output_type": "execute_result"
    }
   ],
   "source": [
    "subm[-4000:]"
   ]
  },
  {
   "cell_type": "code",
   "execution_count": 20,
   "id": "cb518217",
   "metadata": {
    "execution": {
     "iopub.execute_input": "2023-06-20T17:45:51.354576Z",
     "iopub.status.busy": "2023-06-20T17:45:51.354237Z",
     "iopub.status.idle": "2023-06-20T17:45:53.460914Z",
     "shell.execute_reply": "2023-06-20T17:45:53.459915Z"
    },
    "papermill": {
     "duration": 2.11829,
     "end_time": "2023-06-20T17:45:53.463452",
     "exception": false,
     "start_time": "2023-06-20T17:45:51.345162",
     "status": "completed"
    },
    "tags": []
   },
   "outputs": [],
   "source": [
    "subm[['Id','StartHesitation','Turn','Walking']].to_csv('./submission.csv',index=False)"
   ]
  }
 ],
 "metadata": {
  "kernelspec": {
   "display_name": "Python 3",
   "language": "python",
   "name": "python3"
  },
  "language_info": {
   "codemirror_mode": {
    "name": "ipython",
    "version": 3
   },
   "file_extension": ".py",
   "mimetype": "text/x-python",
   "name": "python",
   "nbconvert_exporter": "python",
   "pygments_lexer": "ipython3",
   "version": "3.10.10"
  },
  "papermill": {
   "default_parameters": {},
   "duration": 96.788592,
   "end_time": "2023-06-20T17:45:56.164760",
   "environment_variables": {},
   "exception": null,
   "input_path": "__notebook__.ipynb",
   "output_path": "__notebook__.ipynb",
   "parameters": {},
   "start_time": "2023-06-20T17:44:19.376168",
   "version": "2.4.0"
  },
  "widgets": {
   "application/vnd.jupyter.widget-state+json": {
    "state": {
     "30f70f0f50e048f18936e9bd3330c4d4": {
      "model_module": "@jupyter-widgets/base",
      "model_module_version": "1.2.0",
      "model_name": "LayoutModel",
      "state": {
       "_model_module": "@jupyter-widgets/base",
       "_model_module_version": "1.2.0",
       "_model_name": "LayoutModel",
       "_view_count": null,
       "_view_module": "@jupyter-widgets/base",
       "_view_module_version": "1.2.0",
       "_view_name": "LayoutView",
       "align_content": null,
       "align_items": null,
       "align_self": null,
       "border": null,
       "bottom": null,
       "display": null,
       "flex": null,
       "flex_flow": null,
       "grid_area": null,
       "grid_auto_columns": null,
       "grid_auto_flow": null,
       "grid_auto_rows": null,
       "grid_column": null,
       "grid_gap": null,
       "grid_row": null,
       "grid_template_areas": null,
       "grid_template_columns": null,
       "grid_template_rows": null,
       "height": null,
       "justify_content": null,
       "justify_items": null,
       "left": null,
       "margin": null,
       "max_height": null,
       "max_width": null,
       "min_height": null,
       "min_width": null,
       "object_fit": null,
       "object_position": null,
       "order": null,
       "overflow": null,
       "overflow_x": null,
       "overflow_y": null,
       "padding": null,
       "right": null,
       "top": null,
       "visibility": null,
       "width": null
      }
     },
     "32a5dfde0f8d456dba56a660b1966da4": {
      "model_module": "@jupyter-widgets/controls",
      "model_module_version": "1.5.0",
      "model_name": "HTMLModel",
      "state": {
       "_dom_classes": [],
       "_model_module": "@jupyter-widgets/controls",
       "_model_module_version": "1.5.0",
       "_model_name": "HTMLModel",
       "_view_count": null,
       "_view_module": "@jupyter-widgets/controls",
       "_view_module_version": "1.5.0",
       "_view_name": "HTMLView",
       "description": "",
       "description_tooltip": null,
       "layout": "IPY_MODEL_c1109973680147b9807677ad4dc730b0",
       "placeholder": "​",
       "style": "IPY_MODEL_65097190b57b45f186c91b83792513ac",
       "value": "100%"
      }
     },
     "548f27103cbe44528309feb7a0023346": {
      "model_module": "@jupyter-widgets/controls",
      "model_module_version": "1.5.0",
      "model_name": "HTMLModel",
      "state": {
       "_dom_classes": [],
       "_model_module": "@jupyter-widgets/controls",
       "_model_module_version": "1.5.0",
       "_model_name": "HTMLModel",
       "_view_count": null,
       "_view_module": "@jupyter-widgets/controls",
       "_view_module_version": "1.5.0",
       "_view_name": "HTMLView",
       "description": "",
       "description_tooltip": null,
       "layout": "IPY_MODEL_c8af7b89607445bfa040dc47765770b4",
       "placeholder": "​",
       "style": "IPY_MODEL_95112b1b40e741baaca2f80250dec546",
       "value": " 2/2 [00:04&lt;00:00,  2.15s/it]"
      }
     },
     "61358c76555e4af6a00815b717a89584": {
      "model_module": "@jupyter-widgets/controls",
      "model_module_version": "1.5.0",
      "model_name": "HBoxModel",
      "state": {
       "_dom_classes": [],
       "_model_module": "@jupyter-widgets/controls",
       "_model_module_version": "1.5.0",
       "_model_name": "HBoxModel",
       "_view_count": null,
       "_view_module": "@jupyter-widgets/controls",
       "_view_module_version": "1.5.0",
       "_view_name": "HBoxView",
       "box_style": "",
       "children": [
        "IPY_MODEL_32a5dfde0f8d456dba56a660b1966da4",
        "IPY_MODEL_f4e0b1b895cb4eda86359414aaff1e2a",
        "IPY_MODEL_548f27103cbe44528309feb7a0023346"
       ],
       "layout": "IPY_MODEL_30f70f0f50e048f18936e9bd3330c4d4"
      }
     },
     "65097190b57b45f186c91b83792513ac": {
      "model_module": "@jupyter-widgets/controls",
      "model_module_version": "1.5.0",
      "model_name": "DescriptionStyleModel",
      "state": {
       "_model_module": "@jupyter-widgets/controls",
       "_model_module_version": "1.5.0",
       "_model_name": "DescriptionStyleModel",
       "_view_count": null,
       "_view_module": "@jupyter-widgets/base",
       "_view_module_version": "1.2.0",
       "_view_name": "StyleView",
       "description_width": ""
      }
     },
     "787f668918c141b58e59d5a75fe6d1a3": {
      "model_module": "@jupyter-widgets/controls",
      "model_module_version": "1.5.0",
      "model_name": "ProgressStyleModel",
      "state": {
       "_model_module": "@jupyter-widgets/controls",
       "_model_module_version": "1.5.0",
       "_model_name": "ProgressStyleModel",
       "_view_count": null,
       "_view_module": "@jupyter-widgets/base",
       "_view_module_version": "1.2.0",
       "_view_name": "StyleView",
       "bar_color": null,
       "description_width": ""
      }
     },
     "95112b1b40e741baaca2f80250dec546": {
      "model_module": "@jupyter-widgets/controls",
      "model_module_version": "1.5.0",
      "model_name": "DescriptionStyleModel",
      "state": {
       "_model_module": "@jupyter-widgets/controls",
       "_model_module_version": "1.5.0",
       "_model_name": "DescriptionStyleModel",
       "_view_count": null,
       "_view_module": "@jupyter-widgets/base",
       "_view_module_version": "1.2.0",
       "_view_name": "StyleView",
       "description_width": ""
      }
     },
     "c1109973680147b9807677ad4dc730b0": {
      "model_module": "@jupyter-widgets/base",
      "model_module_version": "1.2.0",
      "model_name": "LayoutModel",
      "state": {
       "_model_module": "@jupyter-widgets/base",
       "_model_module_version": "1.2.0",
       "_model_name": "LayoutModel",
       "_view_count": null,
       "_view_module": "@jupyter-widgets/base",
       "_view_module_version": "1.2.0",
       "_view_name": "LayoutView",
       "align_content": null,
       "align_items": null,
       "align_self": null,
       "border": null,
       "bottom": null,
       "display": null,
       "flex": null,
       "flex_flow": null,
       "grid_area": null,
       "grid_auto_columns": null,
       "grid_auto_flow": null,
       "grid_auto_rows": null,
       "grid_column": null,
       "grid_gap": null,
       "grid_row": null,
       "grid_template_areas": null,
       "grid_template_columns": null,
       "grid_template_rows": null,
       "height": null,
       "justify_content": null,
       "justify_items": null,
       "left": null,
       "margin": null,
       "max_height": null,
       "max_width": null,
       "min_height": null,
       "min_width": null,
       "object_fit": null,
       "object_position": null,
       "order": null,
       "overflow": null,
       "overflow_x": null,
       "overflow_y": null,
       "padding": null,
       "right": null,
       "top": null,
       "visibility": null,
       "width": null
      }
     },
     "c8af7b89607445bfa040dc47765770b4": {
      "model_module": "@jupyter-widgets/base",
      "model_module_version": "1.2.0",
      "model_name": "LayoutModel",
      "state": {
       "_model_module": "@jupyter-widgets/base",
       "_model_module_version": "1.2.0",
       "_model_name": "LayoutModel",
       "_view_count": null,
       "_view_module": "@jupyter-widgets/base",
       "_view_module_version": "1.2.0",
       "_view_name": "LayoutView",
       "align_content": null,
       "align_items": null,
       "align_self": null,
       "border": null,
       "bottom": null,
       "display": null,
       "flex": null,
       "flex_flow": null,
       "grid_area": null,
       "grid_auto_columns": null,
       "grid_auto_flow": null,
       "grid_auto_rows": null,
       "grid_column": null,
       "grid_gap": null,
       "grid_row": null,
       "grid_template_areas": null,
       "grid_template_columns": null,
       "grid_template_rows": null,
       "height": null,
       "justify_content": null,
       "justify_items": null,
       "left": null,
       "margin": null,
       "max_height": null,
       "max_width": null,
       "min_height": null,
       "min_width": null,
       "object_fit": null,
       "object_position": null,
       "order": null,
       "overflow": null,
       "overflow_x": null,
       "overflow_y": null,
       "padding": null,
       "right": null,
       "top": null,
       "visibility": null,
       "width": null
      }
     },
     "ed4f36fef66943e5b87beffe68f67081": {
      "model_module": "@jupyter-widgets/base",
      "model_module_version": "1.2.0",
      "model_name": "LayoutModel",
      "state": {
       "_model_module": "@jupyter-widgets/base",
       "_model_module_version": "1.2.0",
       "_model_name": "LayoutModel",
       "_view_count": null,
       "_view_module": "@jupyter-widgets/base",
       "_view_module_version": "1.2.0",
       "_view_name": "LayoutView",
       "align_content": null,
       "align_items": null,
       "align_self": null,
       "border": null,
       "bottom": null,
       "display": null,
       "flex": null,
       "flex_flow": null,
       "grid_area": null,
       "grid_auto_columns": null,
       "grid_auto_flow": null,
       "grid_auto_rows": null,
       "grid_column": null,
       "grid_gap": null,
       "grid_row": null,
       "grid_template_areas": null,
       "grid_template_columns": null,
       "grid_template_rows": null,
       "height": null,
       "justify_content": null,
       "justify_items": null,
       "left": null,
       "margin": null,
       "max_height": null,
       "max_width": null,
       "min_height": null,
       "min_width": null,
       "object_fit": null,
       "object_position": null,
       "order": null,
       "overflow": null,
       "overflow_x": null,
       "overflow_y": null,
       "padding": null,
       "right": null,
       "top": null,
       "visibility": null,
       "width": null
      }
     },
     "f4e0b1b895cb4eda86359414aaff1e2a": {
      "model_module": "@jupyter-widgets/controls",
      "model_module_version": "1.5.0",
      "model_name": "FloatProgressModel",
      "state": {
       "_dom_classes": [],
       "_model_module": "@jupyter-widgets/controls",
       "_model_module_version": "1.5.0",
       "_model_name": "FloatProgressModel",
       "_view_count": null,
       "_view_module": "@jupyter-widgets/controls",
       "_view_module_version": "1.5.0",
       "_view_name": "ProgressView",
       "bar_style": "success",
       "description": "",
       "description_tooltip": null,
       "layout": "IPY_MODEL_ed4f36fef66943e5b87beffe68f67081",
       "max": 2.0,
       "min": 0.0,
       "orientation": "horizontal",
       "style": "IPY_MODEL_787f668918c141b58e59d5a75fe6d1a3",
       "value": 2.0
      }
     }
    },
    "version_major": 2,
    "version_minor": 0
   }
  }
 },
 "nbformat": 4,
 "nbformat_minor": 5
}

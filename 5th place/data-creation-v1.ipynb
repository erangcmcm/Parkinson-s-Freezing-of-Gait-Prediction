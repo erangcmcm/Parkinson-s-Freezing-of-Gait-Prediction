{
 "cells": [
  {
   "cell_type": "code",
   "execution_count": 1,
   "id": "aa3e1919",
   "metadata": {
    "execution": {
     "iopub.execute_input": "2023-06-18T19:09:55.351241Z",
     "iopub.status.busy": "2023-06-18T19:09:55.350727Z",
     "iopub.status.idle": "2023-06-18T19:10:10.029011Z",
     "shell.execute_reply": "2023-06-18T19:10:10.027611Z"
    },
    "papermill": {
     "duration": 14.688361,
     "end_time": "2023-06-18T19:10:10.031927",
     "exception": false,
     "start_time": "2023-06-18T19:09:55.343566",
     "status": "completed"
    },
    "tags": []
   },
   "outputs": [
    {
     "name": "stdout",
     "output_type": "stream",
     "text": [
      "Processing /kaggle/input/librosa/librosa-0.9.1-py3-none-any.whl\r\n",
      "Requirement already satisfied: audioread>=2.1.5 in /opt/conda/lib/python3.10/site-packages (from librosa==0.9.1) (3.0.0)\r\n",
      "Requirement already satisfied: numpy>=1.17.0 in /opt/conda/lib/python3.10/site-packages (from librosa==0.9.1) (1.23.5)\r\n",
      "Requirement already satisfied: scipy>=1.2.0 in /opt/conda/lib/python3.10/site-packages (from librosa==0.9.1) (1.10.1)\r\n",
      "Requirement already satisfied: scikit-learn>=0.19.1 in /opt/conda/lib/python3.10/site-packages (from librosa==0.9.1) (1.2.2)\r\n",
      "Requirement already satisfied: joblib>=0.14 in /opt/conda/lib/python3.10/site-packages (from librosa==0.9.1) (1.2.0)\r\n",
      "Requirement already satisfied: decorator>=4.0.10 in /opt/conda/lib/python3.10/site-packages (from librosa==0.9.1) (5.1.1)\r\n",
      "Collecting resampy>=0.2.2 (from librosa==0.9.1)\r\n",
      "  Downloading resampy-0.4.2-py3-none-any.whl (3.1 MB)\r\n",
      "\u001b[2K     \u001b[90m━━━━━━━━━━━━━━━━━━━━━━━━━━━━━━━━━━━━━━━━\u001b[0m \u001b[32m3.1/3.1 MB\u001b[0m \u001b[31m28.6 MB/s\u001b[0m eta \u001b[36m0:00:00\u001b[0m\r\n",
      "\u001b[?25hRequirement already satisfied: numba>=0.45.1 in /opt/conda/lib/python3.10/site-packages (from librosa==0.9.1) (0.57.0)\r\n",
      "Requirement already satisfied: soundfile>=0.10.2 in /opt/conda/lib/python3.10/site-packages (from librosa==0.9.1) (0.12.1)\r\n",
      "Requirement already satisfied: pooch>=1.0 in /opt/conda/lib/python3.10/site-packages (from librosa==0.9.1) (1.6.0)\r\n",
      "Requirement already satisfied: packaging>=20.0 in /opt/conda/lib/python3.10/site-packages (from librosa==0.9.1) (21.3)\r\n",
      "Requirement already satisfied: llvmlite<0.41,>=0.40.0dev0 in /opt/conda/lib/python3.10/site-packages (from numba>=0.45.1->librosa==0.9.1) (0.40.0)\r\n",
      "Requirement already satisfied: pyparsing!=3.0.5,>=2.0.2 in /opt/conda/lib/python3.10/site-packages (from packaging>=20.0->librosa==0.9.1) (3.0.9)\r\n",
      "Requirement already satisfied: appdirs>=1.3.0 in /opt/conda/lib/python3.10/site-packages (from pooch>=1.0->librosa==0.9.1) (1.4.4)\r\n",
      "Requirement already satisfied: requests>=2.19.0 in /opt/conda/lib/python3.10/site-packages (from pooch>=1.0->librosa==0.9.1) (2.28.2)\r\n",
      "Requirement already satisfied: threadpoolctl>=2.0.0 in /opt/conda/lib/python3.10/site-packages (from scikit-learn>=0.19.1->librosa==0.9.1) (3.1.0)\r\n",
      "Requirement already satisfied: cffi>=1.0 in /opt/conda/lib/python3.10/site-packages (from soundfile>=0.10.2->librosa==0.9.1) (1.15.1)\r\n",
      "Requirement already satisfied: pycparser in /opt/conda/lib/python3.10/site-packages (from cffi>=1.0->soundfile>=0.10.2->librosa==0.9.1) (2.21)\r\n",
      "Requirement already satisfied: charset-normalizer<4,>=2 in /opt/conda/lib/python3.10/site-packages (from requests>=2.19.0->pooch>=1.0->librosa==0.9.1) (2.1.1)\r\n",
      "Requirement already satisfied: idna<4,>=2.5 in /opt/conda/lib/python3.10/site-packages (from requests>=2.19.0->pooch>=1.0->librosa==0.9.1) (3.4)\r\n",
      "Requirement already satisfied: urllib3<1.27,>=1.21.1 in /opt/conda/lib/python3.10/site-packages (from requests>=2.19.0->pooch>=1.0->librosa==0.9.1) (1.26.15)\r\n",
      "Requirement already satisfied: certifi>=2017.4.17 in /opt/conda/lib/python3.10/site-packages (from requests>=2.19.0->pooch>=1.0->librosa==0.9.1) (2023.5.7)\r\n",
      "Installing collected packages: resampy, librosa\r\n",
      "  Attempting uninstall: librosa\r\n",
      "    Found existing installation: librosa 0.10.0.post2\r\n",
      "    Uninstalling librosa-0.10.0.post2:\r\n",
      "      Successfully uninstalled librosa-0.10.0.post2\r\n",
      "Successfully installed librosa-0.9.1 resampy-0.4.2\r\n",
      "\u001b[33mWARNING: Running pip as the 'root' user can result in broken permissions and conflicting behaviour with the system package manager. It is recommended to use a virtual environment instead: https://pip.pypa.io/warnings/venv\u001b[0m\u001b[33m\r\n",
      "\u001b[0m"
     ]
    }
   ],
   "source": [
    "!pip install /kaggle/input/librosa/librosa-0.9.1-py3-none-any.whl"
   ]
  },
  {
   "cell_type": "code",
   "execution_count": 2,
   "id": "8cc28b18",
   "metadata": {
    "execution": {
     "iopub.execute_input": "2023-06-18T19:10:10.046667Z",
     "iopub.status.busy": "2023-06-18T19:10:10.045602Z",
     "iopub.status.idle": "2023-06-18T19:10:13.117014Z",
     "shell.execute_reply": "2023-06-18T19:10:13.116006Z"
    },
    "papermill": {
     "duration": 3.081604,
     "end_time": "2023-06-18T19:10:13.119682",
     "exception": false,
     "start_time": "2023-06-18T19:10:10.038078",
     "status": "completed"
    },
    "tags": []
   },
   "outputs": [],
   "source": [
    "import pandas as pd\n",
    "import librosa\n",
    "import matplotlib.pyplot as plt\n",
    "import numpy as np\n",
    "import librosa\n",
    "import os"
   ]
  },
  {
   "cell_type": "code",
   "execution_count": 3,
   "id": "faa702db",
   "metadata": {
    "execution": {
     "iopub.execute_input": "2023-06-18T19:10:13.133408Z",
     "iopub.status.busy": "2023-06-18T19:10:13.133043Z",
     "iopub.status.idle": "2023-06-18T19:10:13.137592Z",
     "shell.execute_reply": "2023-06-18T19:10:13.136546Z"
    },
    "papermill": {
     "duration": 0.014283,
     "end_time": "2023-06-18T19:10:13.140040",
     "exception": false,
     "start_time": "2023-06-18T19:10:13.125757",
     "status": "completed"
    },
    "tags": []
   },
   "outputs": [],
   "source": [
    "INPUT_PATH = '/kaggle/input/tlvmc-parkinsons-freezing-gait-prediction/'"
   ]
  },
  {
   "cell_type": "code",
   "execution_count": 4,
   "id": "4f4520ac",
   "metadata": {
    "execution": {
     "iopub.execute_input": "2023-06-18T19:10:13.153747Z",
     "iopub.status.busy": "2023-06-18T19:10:13.153387Z",
     "iopub.status.idle": "2023-06-18T19:10:13.157915Z",
     "shell.execute_reply": "2023-06-18T19:10:13.157180Z"
    },
    "papermill": {
     "duration": 0.013856,
     "end_time": "2023-06-18T19:10:13.159957",
     "exception": false,
     "start_time": "2023-06-18T19:10:13.146101",
     "status": "completed"
    },
    "tags": []
   },
   "outputs": [],
   "source": [
    "os.makedirs(f'./defog_np')\n",
    "os.makedirs(f'./tdcsfog_np')"
   ]
  },
  {
   "cell_type": "code",
   "execution_count": 5,
   "id": "da9eae83",
   "metadata": {
    "execution": {
     "iopub.execute_input": "2023-06-18T19:10:13.173859Z",
     "iopub.status.busy": "2023-06-18T19:10:13.172903Z",
     "iopub.status.idle": "2023-06-18T19:10:13.203238Z",
     "shell.execute_reply": "2023-06-18T19:10:13.202218Z"
    },
    "papermill": {
     "duration": 0.040199,
     "end_time": "2023-06-18T19:10:13.206121",
     "exception": false,
     "start_time": "2023-06-18T19:10:13.165922",
     "status": "completed"
    },
    "tags": []
   },
   "outputs": [],
   "source": [
    "events = pd.read_csv(f'{INPUT_PATH}/events.csv')\n",
    "events = events[~events.Type.isnull()]"
   ]
  },
  {
   "cell_type": "code",
   "execution_count": 6,
   "id": "b053ff1f",
   "metadata": {
    "execution": {
     "iopub.execute_input": "2023-06-18T19:10:13.220439Z",
     "iopub.status.busy": "2023-06-18T19:10:13.219709Z",
     "iopub.status.idle": "2023-06-18T19:10:13.234714Z",
     "shell.execute_reply": "2023-06-18T19:10:13.233762Z"
    },
    "papermill": {
     "duration": 0.025239,
     "end_time": "2023-06-18T19:10:13.237533",
     "exception": false,
     "start_time": "2023-06-18T19:10:13.212294",
     "status": "completed"
    },
    "tags": []
   },
   "outputs": [],
   "source": [
    "defog = pd.read_csv(f'{INPUT_PATH}/defog_metadata.csv')\n",
    "defog = defog[defog.Id.isin(events.Id)]"
   ]
  },
  {
   "cell_type": "code",
   "execution_count": 7,
   "id": "51495d2f",
   "metadata": {
    "execution": {
     "iopub.execute_input": "2023-06-18T19:10:13.253233Z",
     "iopub.status.busy": "2023-06-18T19:10:13.252501Z",
     "iopub.status.idle": "2023-06-18T19:10:13.257314Z",
     "shell.execute_reply": "2023-06-18T19:10:13.256268Z"
    },
    "papermill": {
     "duration": 0.01628,
     "end_time": "2023-06-18T19:10:13.259739",
     "exception": false,
     "start_time": "2023-06-18T19:10:13.243459",
     "status": "completed"
    },
    "tags": []
   },
   "outputs": [],
   "source": [
    "g0=9.80665"
   ]
  },
  {
   "cell_type": "code",
   "execution_count": 8,
   "id": "f5743e1a",
   "metadata": {
    "execution": {
     "iopub.execute_input": "2023-06-18T19:10:13.273914Z",
     "iopub.status.busy": "2023-06-18T19:10:13.273070Z",
     "iopub.status.idle": "2023-06-18T19:10:13.277677Z",
     "shell.execute_reply": "2023-06-18T19:10:13.276811Z"
    },
    "papermill": {
     "duration": 0.013936,
     "end_time": "2023-06-18T19:10:13.279665",
     "exception": false,
     "start_time": "2023-06-18T19:10:13.265729",
     "status": "completed"
    },
    "tags": []
   },
   "outputs": [],
   "source": [
    "sigs = []"
   ]
  },
  {
   "cell_type": "code",
   "execution_count": 9,
   "id": "d02be36e",
   "metadata": {
    "execution": {
     "iopub.execute_input": "2023-06-18T19:10:13.293239Z",
     "iopub.status.busy": "2023-06-18T19:10:13.292520Z",
     "iopub.status.idle": "2023-06-18T19:10:39.102135Z",
     "shell.execute_reply": "2023-06-18T19:10:39.101135Z"
    },
    "papermill": {
     "duration": 25.819292,
     "end_time": "2023-06-18T19:10:39.104774",
     "exception": false,
     "start_time": "2023-06-18T19:10:13.285482",
     "status": "completed"
    },
    "tags": []
   },
   "outputs": [],
   "source": [
    "for i,r in defog.iterrows():\n",
    "    data = pd.read_csv(f'{INPUT_PATH}/train/defog/{r.Id}.csv')\n",
    "    sig = data[[ 'AccV', 'AccML', 'AccAP']].values\n",
    "    target = data[['StartHesitation', 'Turn', 'Walking']].values\n",
    "    \n",
    "    sig = sig*g0\n",
    "    np.save(f'./defog_np/{r.Id}_sig.npy',sig)\n",
    "    np.save(f'./defog_np/{r.Id}_tgt.npy',target)\n",
    "    sigs.append(sig)"
   ]
  },
  {
   "cell_type": "code",
   "execution_count": 10,
   "id": "580fb695",
   "metadata": {
    "execution": {
     "iopub.execute_input": "2023-06-18T19:10:39.121692Z",
     "iopub.status.busy": "2023-06-18T19:10:39.121030Z",
     "iopub.status.idle": "2023-06-18T19:10:39.132263Z",
     "shell.execute_reply": "2023-06-18T19:10:39.131369Z"
    },
    "papermill": {
     "duration": 0.020634,
     "end_time": "2023-06-18T19:10:39.134560",
     "exception": false,
     "start_time": "2023-06-18T19:10:39.113926",
     "status": "completed"
    },
    "tags": []
   },
   "outputs": [],
   "source": [
    "tdcsfog = pd.read_csv(f'{INPUT_PATH}/tdcsfog_metadata.csv')\n",
    "tdcsfog = tdcsfog[tdcsfog.Id.isin(events.Id)]"
   ]
  },
  {
   "cell_type": "code",
   "execution_count": 11,
   "id": "ba36b412",
   "metadata": {
    "execution": {
     "iopub.execute_input": "2023-06-18T19:10:39.147870Z",
     "iopub.status.busy": "2023-06-18T19:10:39.147426Z",
     "iopub.status.idle": "2023-06-18T19:11:15.607402Z",
     "shell.execute_reply": "2023-06-18T19:11:15.606236Z"
    },
    "papermill": {
     "duration": 36.469945,
     "end_time": "2023-06-18T19:11:15.610379",
     "exception": false,
     "start_time": "2023-06-18T19:10:39.140434",
     "status": "completed"
    },
    "tags": []
   },
   "outputs": [],
   "source": [
    "for i,r in tdcsfog.iterrows():\n",
    "    data = pd.read_csv(f'{INPUT_PATH}/train/tdcsfog/{r.Id}.csv')\n",
    "    sig = data[[ 'AccV', 'AccML', 'AccAP']].values\n",
    "    target = data[['StartHesitation', 'Turn', 'Walking']].astype(np.float32).values\n",
    "    \n",
    "    sig = sig\n",
    "    sig_resample = []\n",
    "    \n",
    "    for i in range(3):\n",
    "        sig_resample.append(librosa.resample(sig[:,i],orig_sr=128,target_sr=100))\n",
    "    sig = np.stack(sig_resample,axis=1)\n",
    "    \n",
    "        \n",
    "    target_resample = []\n",
    "    for i in range(3):\n",
    "        target_resample.append(librosa.resample(target[:,i],orig_sr=128,target_sr=100))\n",
    "        \n",
    "    target = np.stack(target_resample,axis=1)  \n",
    "    np.save(f'.//tdcsfog_np/{r.Id}_sig.npy',sig)\n",
    "    np.save(f'.//tdcsfog_np/{r.Id}_tgt.npy',target)\n",
    "    #print('sig',r.Id,sig)\n",
    "    sigs.append(sig)\n",
    "    #print('target',target)\n",
    "    "
   ]
  },
  {
   "cell_type": "code",
   "execution_count": 12,
   "id": "60ffe760",
   "metadata": {
    "execution": {
     "iopub.execute_input": "2023-06-18T19:11:15.623977Z",
     "iopub.status.busy": "2023-06-18T19:11:15.623519Z",
     "iopub.status.idle": "2023-06-18T19:11:16.203655Z",
     "shell.execute_reply": "2023-06-18T19:11:16.202621Z"
    },
    "papermill": {
     "duration": 0.589814,
     "end_time": "2023-06-18T19:11:16.206185",
     "exception": false,
     "start_time": "2023-06-18T19:11:15.616371",
     "status": "completed"
    },
    "tags": []
   },
   "outputs": [
    {
     "data": {
      "text/plain": [
       "(44.365653391177005, -59.082131744182675)"
      ]
     },
     "execution_count": 12,
     "metadata": {},
     "output_type": "execute_result"
    }
   ],
   "source": [
    "np.concatenate(sigs).max(),np.concatenate(sigs).min()"
   ]
  }
 ],
 "metadata": {
  "kernelspec": {
   "display_name": "Python 3",
   "language": "python",
   "name": "python3"
  },
  "language_info": {
   "codemirror_mode": {
    "name": "ipython",
    "version": 3
   },
   "file_extension": ".py",
   "mimetype": "text/x-python",
   "name": "python",
   "nbconvert_exporter": "python",
   "pygments_lexer": "ipython3",
   "version": "3.10.10"
  },
  "papermill": {
   "default_parameters": {},
   "duration": 93.582172,
   "end_time": "2023-06-18T19:11:17.536026",
   "environment_variables": {},
   "exception": null,
   "input_path": "__notebook__.ipynb",
   "output_path": "__notebook__.ipynb",
   "parameters": {},
   "start_time": "2023-06-18T19:09:43.953854",
   "version": "2.4.0"
  }
 },
 "nbformat": 4,
 "nbformat_minor": 5
}
